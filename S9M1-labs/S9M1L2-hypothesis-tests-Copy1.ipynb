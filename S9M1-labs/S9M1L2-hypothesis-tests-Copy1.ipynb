{
 "cells": [
  {
   "cell_type": "markdown",
   "metadata": {},
   "source": [
    "## Import numpy, pandas, pyplot, and seaborn\n",
    "set the seaborn style"
   ]
  },
  {
   "cell_type": "code",
   "execution_count": 2,
   "metadata": {},
   "outputs": [],
   "source": [
    "import numpy as np\n",
    "import pandas as pd\n",
    "import matplotlib.pyplot as plt\n",
    "import seaborn as sns\n",
    "from statsmodels.stats.weightstats import ttest_ind\n",
    "from statsmodels.stats.proportion import proportions_ztest\n",
    "\n",
    "sns.set()"
   ]
  },
  {
   "cell_type": "code",
   "execution_count": 3,
   "metadata": {},
   "outputs": [],
   "source": [
    "# full df for internal use\n",
    "avo_df = pd.read_csv('avocado.csv')\n",
    "avo_df[\"Date\"] = pd.to_datetime(avo_df.Date)"
   ]
  },
  {
   "cell_type": "markdown",
   "metadata": {},
   "source": [
    "## read in data\n",
    "\n",
    "You will be using a new version of the avocado dataset. This version contains information on conventional avocados only. It also has a new column, which indicates whether the row if from a \"summer month\" (defined as April through September.\n"
   ]
  },
  {
   "cell_type": "code",
   "execution_count": 27,
   "metadata": {},
   "outputs": [],
   "source": [
    "conv_avo_df = pd.read_csv('conventional_avo.csv')"
   ]
  },
  {
   "cell_type": "code",
   "execution_count": 28,
   "metadata": {},
   "outputs": [
    {
     "name": "stdout",
     "output_type": "stream",
     "text": [
      "<class 'pandas.core.frame.DataFrame'>\n",
      "RangeIndex: 9126 entries, 0 to 9125\n",
      "Data columns (total 15 columns):\n",
      "Unnamed:_0      9126 non-null int64\n",
      "Date            9126 non-null object\n",
      "AveragePrice    9126 non-null float64\n",
      "Total_Volume    9126 non-null float64\n",
      "4046            9126 non-null float64\n",
      "4225            9126 non-null float64\n",
      "4770            9126 non-null float64\n",
      "Total_Bags      9126 non-null float64\n",
      "Small_Bags      9126 non-null float64\n",
      "Large_Bags      9126 non-null float64\n",
      "XLarge_Bags     9126 non-null float64\n",
      "type            9126 non-null object\n",
      "year            9126 non-null int64\n",
      "region          9126 non-null object\n",
      "summer          9126 non-null bool\n",
      "dtypes: bool(1), float64(9), int64(2), object(3)\n",
      "memory usage: 1007.2+ KB\n"
     ]
    }
   ],
   "source": [
    "# remind ourselves of the content of this DF\n",
    "conv_avo_df.info()"
   ]
  },
  {
   "cell_type": "markdown",
   "metadata": {},
   "source": [
    "## convert Date column to datetime type and sort by Data"
   ]
  },
  {
   "cell_type": "code",
   "execution_count": 6,
   "metadata": {},
   "outputs": [],
   "source": [
    "conv_avo_df[\"Date\"] = pd.to_datetime(conv_avo_df[\"Date\"])\n",
    "conv_avo_df.sort_values(\"Date\", inplace=True)"
   ]
  },
  {
   "cell_type": "code",
   "execution_count": 7,
   "metadata": {},
   "outputs": [
    {
     "data": {
      "text/plain": [
       "['Albany',\n",
       " 'Atlanta',\n",
       " 'BaltimoreWashington',\n",
       " 'Boise',\n",
       " 'Boston',\n",
       " 'BuffaloRochester',\n",
       " 'California',\n",
       " 'Charlotte',\n",
       " 'Chicago',\n",
       " 'CincinnatiDayton',\n",
       " 'Columbus',\n",
       " 'DallasFtWorth',\n",
       " 'Denver',\n",
       " 'Detroit',\n",
       " 'GrandRapids',\n",
       " 'GreatLakes',\n",
       " 'HarrisburgScranton',\n",
       " 'HartfordSpringfield',\n",
       " 'Houston',\n",
       " 'Indianapolis',\n",
       " 'Jacksonville',\n",
       " 'LasVegas',\n",
       " 'LosAngeles',\n",
       " 'Louisville',\n",
       " 'MiamiFtLauderdale',\n",
       " 'Midsouth',\n",
       " 'Nashville',\n",
       " 'NewOrleansMobile',\n",
       " 'NewYork',\n",
       " 'Northeast',\n",
       " 'NorthernNewEngland',\n",
       " 'Orlando',\n",
       " 'Philadelphia',\n",
       " 'PhoenixTucson',\n",
       " 'Pittsburgh',\n",
       " 'Plains',\n",
       " 'Portland',\n",
       " 'RaleighGreensboro',\n",
       " 'RichmondNorfolk',\n",
       " 'Roanoke',\n",
       " 'Sacramento',\n",
       " 'SanDiego',\n",
       " 'SanFrancisco',\n",
       " 'Seattle',\n",
       " 'SouthCarolina',\n",
       " 'SouthCentral',\n",
       " 'Southeast',\n",
       " 'Spokane',\n",
       " 'StLouis',\n",
       " 'Syracuse',\n",
       " 'Tampa',\n",
       " 'TotalUS',\n",
       " 'West',\n",
       " 'WestTexNewMexico']"
      ]
     },
     "execution_count": 7,
     "metadata": {},
     "output_type": "execute_result"
    }
   ],
   "source": [
    "sorted(conv_avo_df.region.unique())"
   ]
  },
  {
   "cell_type": "markdown",
   "metadata": {},
   "source": [
    "# Guiding questions\n",
    "\n",
    "Is there a significant difference in the average price of avocados during summer months (defined as April 1st through Sept 30) versus winter months? Does it make a difference if you are in a colder climate versus a warmer climate? \n",
    "\n",
    "Steps: Filter the DataFrame down so that you have three new DataFrames, one for each of the following regions\n",
    "\n",
    "\n",
    "1) Total US \n",
    "\n",
    "2) San Diego \n",
    "\n",
    "3) Boston \n"
   ]
  },
  {
   "cell_type": "code",
   "execution_count": 8,
   "metadata": {},
   "outputs": [],
   "source": [
    "conv_df_total_us = conv_avo_df.loc[conv_avo_df[\"region\"]==\"TotalUS\"]\n",
    "conv_df_sd = conv_avo_df.loc[conv_avo_df[\"region\"]==\"SanDiego\"]\n",
    "conv_df_bos = conv_avo_df.loc[conv_avo_df[\"region\"]==\"Boston\"]"
   ]
  },
  {
   "cell_type": "code",
   "execution_count": 9,
   "metadata": {},
   "outputs": [
    {
     "data": {
      "text/plain": [
       "<matplotlib.axes._subplots.AxesSubplot at 0x7f898f818c50>"
      ]
     },
     "execution_count": 9,
     "metadata": {},
     "output_type": "execute_result"
    },
    {
     "data": {
      "image/png": "[encoded data removed]",
      "text/plain": [
       "<Figure size 432x288 with 1 Axes>"
      ]
     },
     "metadata": {
      "needs_background": "light"
     },
     "output_type": "display_data"
    }
   ],
   "source": [
    "# create boxplots with seaborn to compare the Average Price distribution for summer and winter months\n",
    "sns.boxplot(data=conv_df_total_us, x=\"AveragePrice\", y=\"summer\", orient=\"h\")"
   ]
  },
  {
   "cell_type": "code",
   "execution_count": 10,
   "metadata": {},
   "outputs": [
    {
     "data": {
      "text/plain": [
       "<matplotlib.axes._subplots.AxesSubplot at 0x7f898fde4bd0>"
      ]
     },
     "execution_count": 10,
     "metadata": {},
     "output_type": "execute_result"
    },
    {
     "data": {
      "image/png": "[encoded data removed]",
      "text/plain": [
       "<Figure size 432x288 with 1 Axes>"
      ]
     },
     "metadata": {
      "needs_background": "light"
     },
     "output_type": "display_data"
    }
   ],
   "source": [
    "sns.boxplot(data=conv_df_sd, x=\"AveragePrice\", y=\"summer\", orient=\"h\")"
   ]
  },
  {
   "cell_type": "code",
   "execution_count": 11,
   "metadata": {},
   "outputs": [
    {
     "data": {
      "text/plain": [
       "<matplotlib.axes._subplots.AxesSubplot at 0x7f898ff2bdd0>"
      ]
     },
     "execution_count": 11,
     "metadata": {},
     "output_type": "execute_result"
    },
    {
     "data": {
      "image/png": "[encoded data removed]",
      "text/plain": [
       "<Figure size 432x288 with 1 Axes>"
      ]
     },
     "metadata": {
      "needs_background": "light"
     },
     "output_type": "display_data"
    }
   ],
   "source": [
    "sns.boxplot(data=conv_df_bos, x=\"AveragePrice\", y=\"summer\", orient=\"h\")"
   ]
  },
  {
   "cell_type": "code",
   "execution_count": 12,
   "metadata": {},
   "outputs": [],
   "source": [
    "def split_series(df):\n",
    "    summer_srs = df.loc[df[\"summer\"]==True][\"AveragePrice\"]\n",
    "    winter_srs = df.loc[df[\"summer\"]==False][\"AveragePrice\"]\n",
    "    return summer_srs, winter_srs"
   ]
  },
  {
   "cell_type": "code",
   "execution_count": 13,
   "metadata": {},
   "outputs": [],
   "source": [
    "def print_diff(summer_srs, winter_srs):\n",
    "    summer_mean = summer_srs.mean()\n",
    "    winter_mean = winter_srs.mean()\n",
    "    print(f\"Summer Mean: {summer_mean}\")\n",
    "    print(f\"Winter Mean: {winter_mean}\")\n",
    "    print(f\"Difference in Means: {summer_mean - winter_mean}\")\n",
    "    print(f\"Percent Difference: {100*(summer_mean - winter_mean)/winter_mean}%\")"
   ]
  },
  {
   "cell_type": "code",
   "execution_count": 14,
   "metadata": {},
   "outputs": [
    {
     "name": "stdout",
     "output_type": "stream",
     "text": [
      "Summer Mean: 1.1238461538461535\n",
      "Winter Mean: 1.0647252747252747\n",
      "Difference in Means: 0.05912087912087882\n",
      "Percent Difference: 5.552688615956211%\n"
     ]
    }
   ],
   "source": [
    "# Total US\n",
    "summer_total_us, winter_total_us = split_series(conv_df_total_us)\n",
    "print_diff(summer_total_us, winter_total_us)\n"
   ]
  },
  {
   "cell_type": "code",
   "execution_count": 15,
   "metadata": {},
   "outputs": [
    {
     "name": "stdout",
     "output_type": "stream",
     "text": [
      "Summer Mean: 1.104358974358974\n",
      "Winter Mean: 1.0247252747252746\n",
      "Difference in Means: 0.07963369963369926\n",
      "Percent Difference: 7.7712243074173015%\n"
     ]
    }
   ],
   "source": [
    "#t-test SanDiego\n",
    "summer_sd, winter_sd = split_series(conv_df_sd)\n",
    "print_diff(summer_sd, winter_sd)\n"
   ]
  },
  {
   "cell_type": "code",
   "execution_count": 16,
   "metadata": {},
   "outputs": [
    {
     "name": "stdout",
     "output_type": "stream",
     "text": [
      "Summer Mean: 1.3578205128205127\n",
      "Winter Mean: 1.258571428571429\n",
      "Difference in Means: 0.09924908424908385\n",
      "Percent Difference: 7.885852323990768%\n"
     ]
    }
   ],
   "source": [
    "#t-test Boston\n",
    "summer_bos, winter_bos = split_series(conv_df_bos)\n",
    "print_diff(summer_bos, winter_bos)"
   ]
  },
  {
   "cell_type": "code",
   "execution_count": 17,
   "metadata": {},
   "outputs": [
    {
     "data": {
      "text/plain": [
       "(2.2354802992258693, 0.026725109099811205, 165.29009272222456)"
      ]
     },
     "execution_count": 17,
     "metadata": {},
     "output_type": "execute_result"
    }
   ],
   "source": [
    "ttest_ind(summer_total_us, winter_total_us, usevar='unequal')"
   ]
  },
  {
   "cell_type": "code",
   "execution_count": 20,
   "metadata": {},
   "outputs": [
    {
     "data": {
      "text/plain": [
       "(2.109444157552642, 0.036405909273276166, 166.01668137546255)"
      ]
     },
     "execution_count": 20,
     "metadata": {},
     "output_type": "execute_result"
    }
   ],
   "source": [
    "ttest_ind(summer_sd, winter_sd, usevar='unequal')"
   ]
  },
  {
   "cell_type": "code",
   "execution_count": 19,
   "metadata": {},
   "outputs": [
    {
     "data": {
      "text/plain": [
       "(2.9603981924463234, 0.003583247264468476, 146.94891516001866)"
      ]
     },
     "execution_count": 19,
     "metadata": {},
     "output_type": "execute_result"
    }
   ],
   "source": [
    "ttest_ind(summer_bos, winter_bos, usevar='unequal')"
   ]
  },
  {
   "cell_type": "code",
   "execution_count": 19,
   "metadata": {},
   "outputs": [
    {
     "data": {
      "text/plain": [
       "1.81"
      ]
     },
     "execution_count": 19,
     "metadata": {},
     "output_type": "execute_result"
    }
   ],
   "source": [
    "conv_df_bos.AveragePrice.max()"
   ]
  },
  {
   "cell_type": "code",
   "execution_count": 20,
   "metadata": {},
   "outputs": [
    {
     "name": "stdout",
     "output_type": "stream",
     "text": [
      "1.1238461538461535\n",
      "1.0647252747252747\n"
     ]
    }
   ],
   "source": [
    "# compare the averages\n",
    "summer_prices = conv_df_total_us.loc[conv_df_total_us[\"summer\"]==True][\"AveragePrice\"]\n",
    "winter_prices = conv_df_total_us.loc[conv_df_total_us[\"summer\"]==False][\"AveragePrice\"]\n",
    "print(summer_prices.mean())\n",
    "print(winter_prices.mean())\n"
   ]
  },
  {
   "cell_type": "code",
   "execution_count": 23,
   "metadata": {},
   "outputs": [
    {
     "data": {
      "text/plain": [
       "(2.2262510139997027, 0.027335305807168114)"
      ]
     },
     "execution_count": 23,
     "metadata": {},
     "output_type": "execute_result"
    }
   ],
   "source": [
    "# we can see that there is a difference of about 6 cents. \n",
    "# Is this difference significant or could it be the result of chance?\n",
    "\n",
    "# total us prices --> below 0.05\n",
    "t_stat, p_val, df = ttest_ind(summer_prices, winter_prices)\n",
    "t_stat, p_val"
   ]
  },
  {
   "cell_type": "code",
   "execution_count": 24,
   "metadata": {},
   "outputs": [
    {
     "data": {
      "text/plain": [
       "<matplotlib.axes._subplots.AxesSubplot at 0x7feb776f5050>"
      ]
     },
     "execution_count": 24,
     "metadata": {},
     "output_type": "execute_result"
    },
    {
     "data": {
      "image/png": "[encoded data removed]",
      "text/plain": [
       "<Figure size 432x288 with 1 Axes>"
      ]
     },
     "metadata": {
      "needs_background": "light"
     },
     "output_type": "display_data"
    }
   ],
   "source": [
    "# what if we did it for volume instead? \n",
    "sns.violinplot(data=conv_df_total_us, x=\"Total Volume\", y=\"summer\", orient=\"h\")\n"
   ]
  },
  {
   "cell_type": "code",
   "execution_count": 25,
   "metadata": {
    "scrolled": true
   },
   "outputs": [
    {
     "data": {
      "text/plain": [
       "<matplotlib.axes._subplots.AxesSubplot at 0x7feb779ce350>"
      ]
     },
     "execution_count": 25,
     "metadata": {},
     "output_type": "execute_result"
    },
    {
     "data": {
      "image/png": "[encoded data removed]",
      "text/plain": [
       "<Figure size 432x288 with 1 Axes>"
      ]
     },
     "metadata": {
      "needs_background": "light"
     },
     "output_type": "display_data"
    }
   ],
   "source": [
    "# we could also investigate whether this changes if we remove outliers. We know that there is a huge \n",
    "# spike during Superbowl week, which is in the winter and is what is giving the summer = False distribution \n",
    "# its long tail\n",
    "sns.boxplot(data=conv_df_total_us, x=\"Total Volume\", y=\"summer\", orient=\"h\")"
   ]
  },
  {
   "cell_type": "code",
   "execution_count": 27,
   "metadata": {},
   "outputs": [
    {
     "name": "stdout",
     "output_type": "stream",
     "text": [
      "34458526.5297436\n",
      "33114906.78065935\n"
     ]
    }
   ],
   "source": [
    "summer_volumes = conv_df_total_us.loc[conv_df_total_us[\"summer\"]==True][\"Total Volume\"]\n",
    "winter_volumes = conv_df_total_us.loc[conv_df_total_us[\"summer\"]==False][\"Total Volume\"]\n",
    "print(summer_volumes.mean())\n",
    "print(winter_volumes.mean())"
   ]
  },
  {
   "cell_type": "code",
   "execution_count": 31,
   "metadata": {},
   "outputs": [
    {
     "data": {
      "text/plain": [
       "(1.4832818217410433, 0.14012368697375702)"
      ]
     },
     "execution_count": 31,
     "metadata": {},
     "output_type": "execute_result"
    }
   ],
   "source": [
    "# total us volume --> greater than 0.05\n",
    "t_stat, p_val, df = ttest_ind(summer_volumes, winter_volumes, usevar=\"unequal\")\n",
    "t_stat, p_val"
   ]
  },
  {
   "cell_type": "code",
   "execution_count": 29,
   "metadata": {},
   "outputs": [],
   "source": [
    "# Let's check both volume and average price for the SD and BOS data\n"
   ]
  },
  {
   "cell_type": "markdown",
   "metadata": {},
   "source": [
    "## SD"
   ]
  },
  {
   "cell_type": "code",
   "execution_count": 32,
   "metadata": {},
   "outputs": [],
   "source": [
    "summer_prices_sd = conv_df_sd.loc[conv_df_sd[\"summer\"]==True][\"AveragePrice\"]\n",
    "winter_prices_sd = conv_df_sd.loc[conv_df_sd[\"summer\"]==False][\"AveragePrice\"]"
   ]
  },
  {
   "cell_type": "code",
   "execution_count": 33,
   "metadata": {},
   "outputs": [
    {
     "data": {
      "text/plain": [
       "<matplotlib.axes._subplots.AxesSubplot at 0x7feb77c5e110>"
      ]
     },
     "execution_count": 33,
     "metadata": {},
     "output_type": "execute_result"
    },
    {
     "data": {
      "image/png": "[encoded data removed]",
      "text/plain": [
       "<Figure size 432x288 with 1 Axes>"
      ]
     },
     "metadata": {
      "needs_background": "light"
     },
     "output_type": "display_data"
    }
   ],
   "source": [
    "sns.boxplot(data=conv_df_sd, x=\"AveragePrice\", y=\"summer\", orient=\"h\")"
   ]
  },
  {
   "cell_type": "code",
   "execution_count": 35,
   "metadata": {},
   "outputs": [
    {
     "data": {
      "text/plain": [
       "(2.096744980268762, 0.037522820548732676)"
      ]
     },
     "execution_count": 35,
     "metadata": {},
     "output_type": "execute_result"
    }
   ],
   "source": [
    "# SD price --> below 0.05\n",
    "t_stat, p_val, df = ttest_ind(summer_prices_sd, winter_prices_sd)\n",
    "t_stat, p_val"
   ]
  },
  {
   "cell_type": "code",
   "execution_count": 36,
   "metadata": {},
   "outputs": [],
   "source": [
    "summer_volume_sd = conv_df_sd.loc[conv_df_sd[\"summer\"]==True][\"Total Volume\"]\n",
    "winter_volume_sd = conv_df_sd.loc[conv_df_sd[\"summer\"]==False][\"Total Volume\"]"
   ]
  },
  {
   "cell_type": "code",
   "execution_count": 37,
   "metadata": {},
   "outputs": [
    {
     "data": {
      "text/plain": [
       "<matplotlib.axes._subplots.AxesSubplot at 0x7feb77c06f50>"
      ]
     },
     "execution_count": 37,
     "metadata": {},
     "output_type": "execute_result"
    },
    {
     "data": {
      "image/png": "[encoded data removed]",
      "text/plain": [
       "<Figure size 432x288 with 1 Axes>"
      ]
     },
     "metadata": {
      "needs_background": "light"
     },
     "output_type": "display_data"
    }
   ],
   "source": [
    "sns.boxplot(data=conv_df_sd, x=\"Total Volume\", y=\"summer\", orient=\"h\")"
   ]
  },
  {
   "cell_type": "code",
   "execution_count": 38,
   "metadata": {},
   "outputs": [
    {
     "data": {
      "text/plain": [
       "(0.9684679921020074, 0.3342111900895153)"
      ]
     },
     "execution_count": 38,
     "metadata": {},
     "output_type": "execute_result"
    }
   ],
   "source": [
    "# SD volume --> Much greater than 0.05\n",
    "t_stat, p_val, df = ttest_ind(summer_volume_sd, winter_volume_sd)\n",
    "t_stat, p_val"
   ]
  },
  {
   "cell_type": "markdown",
   "metadata": {},
   "source": [
    "## BOS\n"
   ]
  },
  {
   "cell_type": "code",
   "execution_count": 40,
   "metadata": {},
   "outputs": [],
   "source": [
    "summer_prices_bos = conv_df_bos.loc[conv_df_bos[\"summer\"]==True][\"AveragePrice\"]\n",
    "winter_prices_bos = conv_df_bos.loc[conv_df_bos[\"summer\"]==False][\"AveragePrice\"]"
   ]
  },
  {
   "cell_type": "code",
   "execution_count": 41,
   "metadata": {},
   "outputs": [
    {
     "data": {
      "text/plain": [
       "<matplotlib.axes._subplots.AxesSubplot at 0x7feb77d28550>"
      ]
     },
     "execution_count": 41,
     "metadata": {},
     "output_type": "execute_result"
    },
    {
     "data": {
      "image/png": "[encoded data removed]",
      "text/plain": [
       "<Figure size 432x288 with 1 Axes>"
      ]
     },
     "metadata": {
      "needs_background": "light"
     },
     "output_type": "display_data"
    }
   ],
   "source": [
    "sns.boxplot(data=conv_df_bos, x=\"AveragePrice\", y=\"summer\", orient=\"h\")"
   ]
  },
  {
   "cell_type": "code",
   "execution_count": 42,
   "metadata": {},
   "outputs": [
    {
     "data": {
      "text/plain": [
       "(3.0108614010001533, 0.0030097927903653854)"
      ]
     },
     "execution_count": 42,
     "metadata": {},
     "output_type": "execute_result"
    }
   ],
   "source": [
    "# Boston prices --> well under 0.05\n",
    "t_stat, p_val, df = ttest_ind(summer_prices_bos, winter_prices_bos)\n",
    "t_stat, p_val"
   ]
  },
  {
   "cell_type": "code",
   "execution_count": 43,
   "metadata": {},
   "outputs": [],
   "source": [
    "summer_volume_bos = conv_df_bos.loc[conv_df_bos[\"summer\"]==True][\"Total Volume\"]\n",
    "winter_volume_bos = conv_df_bos.loc[conv_df_bos[\"summer\"]==False][\"Total Volume\"]"
   ]
  },
  {
   "cell_type": "code",
   "execution_count": 44,
   "metadata": {},
   "outputs": [
    {
     "data": {
      "text/plain": [
       "<matplotlib.axes._subplots.AxesSubplot at 0x7feb77fbe450>"
      ]
     },
     "execution_count": 44,
     "metadata": {},
     "output_type": "execute_result"
    },
    {
     "data": {
      "image/png": "[encoded data removed]",
      "text/plain": [
       "<Figure size 432x288 with 1 Axes>"
      ]
     },
     "metadata": {
      "needs_background": "light"
     },
     "output_type": "display_data"
    }
   ],
   "source": [
    "sns.boxplot(data=conv_df_bos, x=\"Total Volume\", y=\"summer\", orient=\"h\")"
   ]
  },
  {
   "cell_type": "code",
   "execution_count": 46,
   "metadata": {},
   "outputs": [
    {
     "data": {
      "text/plain": [
       "(2.024120246062124, 0.0445515014899775)"
      ]
     },
     "execution_count": 46,
     "metadata": {},
     "output_type": "execute_result"
    }
   ],
   "source": [
    "# Boston volumes --> under 0.05\n",
    "t_stat, p_val, df = ttest_ind(summer_volume_bos, winter_volume_bos)\n",
    "t_stat, p_val"
   ]
  },
  {
   "cell_type": "markdown",
   "metadata": {},
   "source": [
    "## Z test\n",
    "\n",
    "To do a test of proportions, I will create another DF. \n",
    "City, Date, Vol_Conv, Vol_Org\n",
    "\n",
    "Question: Do people in SF buy organic avocados at a greater rate than people in LA."
   ]
  },
  {
   "cell_type": "code",
   "execution_count": 47,
   "metadata": {},
   "outputs": [],
   "source": [
    "avo_sf_la_2016 = pd.read_csv('avo_sf_la_2016.csv')"
   ]
  },
  {
   "cell_type": "code",
   "execution_count": 48,
   "metadata": {},
   "outputs": [
    {
     "name": "stdout",
     "output_type": "stream",
     "text": [
      "<class 'pandas.core.frame.DataFrame'>\n",
      "RangeIndex: 104 entries, 0 to 103\n",
      "Data columns (total 4 columns):\n",
      "Date              104 non-null object\n",
      "region            104 non-null object\n",
      "Total_Vol_org     104 non-null float64\n",
      "Total_Vol_conv    104 non-null float64\n",
      "dtypes: float64(2), object(2)\n",
      "memory usage: 3.4+ KB\n"
     ]
    }
   ],
   "source": [
    "avo_sf_la_2016.info()"
   ]
  },
  {
   "cell_type": "code",
   "execution_count": 49,
   "metadata": {},
   "outputs": [
    {
     "data": {
      "text/html": [
       "<div>\n",
       "<style scoped>\n",
       "    .dataframe tbody tr th:only-of-type {\n",
       "        vertical-align: middle;\n",
       "    }\n",
       "\n",
       "    .dataframe tbody tr th {\n",
       "        vertical-align: top;\n",
       "    }\n",
       "\n",
       "    .dataframe thead th {\n",
       "        text-align: right;\n",
       "    }\n",
       "</style>\n",
       "<table border=\"1\" class=\"dataframe\">\n",
       "  <thead>\n",
       "    <tr style=\"text-align: right;\">\n",
       "      <th></th>\n",
       "      <th>Total_Vol_org</th>\n",
       "      <th>Total_Vol_conv</th>\n",
       "    </tr>\n",
       "    <tr>\n",
       "      <th>region</th>\n",
       "      <th></th>\n",
       "      <th></th>\n",
       "    </tr>\n",
       "  </thead>\n",
       "  <tbody>\n",
       "    <tr>\n",
       "      <td>LosAngeles</td>\n",
       "      <td>4891080.72</td>\n",
       "      <td>1.582512e+08</td>\n",
       "    </tr>\n",
       "    <tr>\n",
       "      <td>SanFrancisco</td>\n",
       "      <td>1237904.51</td>\n",
       "      <td>4.029172e+07</td>\n",
       "    </tr>\n",
       "  </tbody>\n",
       "</table>\n",
       "</div>"
      ],
      "text/plain": [
       "              Total_Vol_org  Total_Vol_conv\n",
       "region                                     \n",
       "LosAngeles       4891080.72    1.582512e+08\n",
       "SanFrancisco     1237904.51    4.029172e+07"
      ]
     },
     "execution_count": 49,
     "metadata": {},
     "output_type": "execute_result"
    }
   ],
   "source": [
    "# now, let's find the total volume sold for the entire year\n",
    "avo_sf_la_sums = avo_sf_la_2016.groupby('region').agg({\"Total_Vol_org\":\"sum\", \"Total_Vol_conv\":\"sum\"})\n",
    "avo_sf_la_sums"
   ]
  },
  {
   "cell_type": "code",
   "execution_count": 50,
   "metadata": {},
   "outputs": [
    {
     "data": {
      "text/html": [
       "<div>\n",
       "<style scoped>\n",
       "    .dataframe tbody tr th:only-of-type {\n",
       "        vertical-align: middle;\n",
       "    }\n",
       "\n",
       "    .dataframe tbody tr th {\n",
       "        vertical-align: top;\n",
       "    }\n",
       "\n",
       "    .dataframe thead th {\n",
       "        text-align: right;\n",
       "    }\n",
       "</style>\n",
       "<table border=\"1\" class=\"dataframe\">\n",
       "  <thead>\n",
       "    <tr style=\"text-align: right;\">\n",
       "      <th></th>\n",
       "      <th>Total_Vol_org</th>\n",
       "      <th>Total_Vol_conv</th>\n",
       "      <th>Total_Volume_all</th>\n",
       "    </tr>\n",
       "    <tr>\n",
       "      <th>region</th>\n",
       "      <th></th>\n",
       "      <th></th>\n",
       "      <th></th>\n",
       "    </tr>\n",
       "  </thead>\n",
       "  <tbody>\n",
       "    <tr>\n",
       "      <td>LosAngeles</td>\n",
       "      <td>4891080.72</td>\n",
       "      <td>1.582512e+08</td>\n",
       "      <td>1.631423e+08</td>\n",
       "    </tr>\n",
       "    <tr>\n",
       "      <td>SanFrancisco</td>\n",
       "      <td>1237904.51</td>\n",
       "      <td>4.029172e+07</td>\n",
       "      <td>4.152963e+07</td>\n",
       "    </tr>\n",
       "  </tbody>\n",
       "</table>\n",
       "</div>"
      ],
      "text/plain": [
       "              Total_Vol_org  Total_Vol_conv  Total_Volume_all\n",
       "region                                                       \n",
       "LosAngeles       4891080.72    1.582512e+08      1.631423e+08\n",
       "SanFrancisco     1237904.51    4.029172e+07      4.152963e+07"
      ]
     },
     "execution_count": 50,
     "metadata": {},
     "output_type": "execute_result"
    }
   ],
   "source": [
    "# create a column for total volume across both columns\n",
    "avo_sf_la_sums[\"Total_Volume_all\"] = avo_sf_la_sums[\"Total_Vol_org\"] + avo_sf_la_sums[\"Total_Vol_conv\"]\n",
    "avo_sf_la_sums"
   ]
  },
  {
   "cell_type": "code",
   "execution_count": 53,
   "metadata": {},
   "outputs": [
    {
     "data": {
      "text/html": [
       "<div>\n",
       "<style scoped>\n",
       "    .dataframe tbody tr th:only-of-type {\n",
       "        vertical-align: middle;\n",
       "    }\n",
       "\n",
       "    .dataframe tbody tr th {\n",
       "        vertical-align: top;\n",
       "    }\n",
       "\n",
       "    .dataframe thead th {\n",
       "        text-align: right;\n",
       "    }\n",
       "</style>\n",
       "<table border=\"1\" class=\"dataframe\">\n",
       "  <thead>\n",
       "    <tr style=\"text-align: right;\">\n",
       "      <th></th>\n",
       "      <th>Total_Vol_org</th>\n",
       "      <th>Total_Vol_conv</th>\n",
       "      <th>Total_Volume_all</th>\n",
       "      <th>proportion_org</th>\n",
       "    </tr>\n",
       "    <tr>\n",
       "      <th>region</th>\n",
       "      <th></th>\n",
       "      <th></th>\n",
       "      <th></th>\n",
       "      <th></th>\n",
       "    </tr>\n",
       "  </thead>\n",
       "  <tbody>\n",
       "    <tr>\n",
       "      <td>LosAngeles</td>\n",
       "      <td>4891080.72</td>\n",
       "      <td>1.582512e+08</td>\n",
       "      <td>1.631423e+08</td>\n",
       "      <td>0.029980</td>\n",
       "    </tr>\n",
       "    <tr>\n",
       "      <td>SanFrancisco</td>\n",
       "      <td>1237904.51</td>\n",
       "      <td>4.029172e+07</td>\n",
       "      <td>4.152963e+07</td>\n",
       "      <td>0.029808</td>\n",
       "    </tr>\n",
       "  </tbody>\n",
       "</table>\n",
       "</div>"
      ],
      "text/plain": [
       "              Total_Vol_org  Total_Vol_conv  Total_Volume_all  proportion_org\n",
       "region                                                                       \n",
       "LosAngeles       4891080.72    1.582512e+08      1.631423e+08        0.029980\n",
       "SanFrancisco     1237904.51    4.029172e+07      4.152963e+07        0.029808"
      ]
     },
     "execution_count": 53,
     "metadata": {},
     "output_type": "execute_result"
    }
   ],
   "source": [
    "avo_sf_la_sums[\"proportion_org\"] = avo_sf_la_sums[\"Total_Vol_org\"] / avo_sf_la_sums[\"Total_Volume_all\"]\n",
    "avo_sf_la_sums"
   ]
  },
  {
   "cell_type": "code",
   "execution_count": 54,
   "metadata": {},
   "outputs": [
    {
     "data": {
      "text/plain": [
       "(5.830343262661636, 5.531347259060017e-09)"
      ]
     },
     "execution_count": 54,
     "metadata": {},
     "output_type": "execute_result"
    }
   ],
   "source": [
    "organic_sales = avo_sf_la_sums[\"Total_Vol_org\"]\n",
    "total_sales = avo_sf_la_sums[\"Total_Volume_all\"]\n",
    "\n",
    "proportions_ztest(organic_sales, total_sales)"
   ]
  },
  {
   "cell_type": "code",
   "execution_count": null,
   "metadata": {},
   "outputs": [],
   "source": []
  },
  {
   "cell_type": "code",
   "execution_count": null,
   "metadata": {},
   "outputs": [],
   "source": []
  }
 ],
 "metadata": {
  "kernelspec": {
   "display_name": "Python 3",
   "language": "python",
   "name": "python3"
  },
  "language_info": {
   "codemirror_mode": {
    "name": "ipython",
    "version": 3
   },
   "file_extension": ".py",
   "mimetype": "text/x-python",
   "name": "python",
   "nbconvert_exporter": "python",
   "pygments_lexer": "ipython3",
   "version": "3.7.4"
  }
 },
 "nbformat": 4,
 "nbformat_minor": 2
}
