{
 "cells": [
  {
   "cell_type": "markdown",
   "metadata": {},
   "source": [
    "## Import numpy, pandas, pyplot, and seaborn\n",
    "set the seaborn style"
   ]
  },
  {
   "cell_type": "code",
   "execution_count": 186,
   "metadata": {},
   "outputs": [],
   "source": [
    "import numpy as np\n",
    "import pandas as pd\n",
    "import matplotlib.pyplot as plt\n",
    "import seaborn as sns\n",
    "from statsmodels.stats.weightstats import ttest_ind\n",
    "from statsmodels.stats.proportion import proportions_ztest\n",
    "\n",
    "sns.set()"
   ]
  },
  {
   "cell_type": "code",
   "execution_count": 187,
   "metadata": {},
   "outputs": [],
   "source": [
    "# full df for internal use\n",
    "avo_df = pd.read_csv('avocado.csv')\n",
    "avo_df[\"Date\"] = pd.to_datetime(avo_df.Date)"
   ]
  },
  {
   "cell_type": "markdown",
   "metadata": {},
   "source": [
    "## read in data\n",
    "\n",
    "You will be using a new version of the avocado dataset. This version contains information on conventional avocados only. It also has a new column, which indicates whether the row if from a \"summer month\" (defined as April through September.\n"
   ]
  },
  {
   "cell_type": "code",
   "execution_count": 59,
   "metadata": {},
   "outputs": [],
   "source": [
    "conv_avo_df = pd.read_csv('conventional_avo.csv')"
   ]
  },
  {
   "cell_type": "code",
   "execution_count": 60,
   "metadata": {},
   "outputs": [
    {
     "name": "stdout",
     "output_type": "stream",
     "text": [
      "<class 'pandas.core.frame.DataFrame'>\n",
      "RangeIndex: 9126 entries, 0 to 9125\n",
      "Data columns (total 15 columns):\n",
      "Unnamed: 0      9126 non-null int64\n",
      "Date            9126 non-null object\n",
      "AveragePrice    9126 non-null float64\n",
      "Total Volume    9126 non-null float64\n",
      "4046            9126 non-null float64\n",
      "4225            9126 non-null float64\n",
      "4770            9126 non-null float64\n",
      "Total Bags      9126 non-null float64\n",
      "Small Bags      9126 non-null float64\n",
      "Large Bags      9126 non-null float64\n",
      "XLarge Bags     9126 non-null float64\n",
      "type            9126 non-null object\n",
      "year            9126 non-null int64\n",
      "region          9126 non-null object\n",
      "summer          9126 non-null bool\n",
      "dtypes: bool(1), float64(9), int64(2), object(3)\n",
      "memory usage: 1007.2+ KB\n"
     ]
    }
   ],
   "source": [
    "# remind ourselves of the content of this DF\n",
    "conv_avo_df.info()"
   ]
  },
  {
   "cell_type": "markdown",
   "metadata": {},
   "source": [
    "## convert Date column to datetime type and sort by Data"
   ]
  },
  {
   "cell_type": "code",
   "execution_count": 62,
   "metadata": {},
   "outputs": [],
   "source": [
    "conv_avo_df[\"Date\"] = pd.to_datetime(conv_avo_df[\"Date\"])\n",
    "conv_avo_df.sort_values(\"Date\", inplace=True)"
   ]
  },
  {
   "cell_type": "code",
   "execution_count": 109,
   "metadata": {},
   "outputs": [
    {
     "data": {
      "text/plain": [
       "['Albany',\n",
       " 'Atlanta',\n",
       " 'BaltimoreWashington',\n",
       " 'Boise',\n",
       " 'Boston',\n",
       " 'BuffaloRochester',\n",
       " 'California',\n",
       " 'Charlotte',\n",
       " 'Chicago',\n",
       " 'CincinnatiDayton',\n",
       " 'Columbus',\n",
       " 'DallasFtWorth',\n",
       " 'Denver',\n",
       " 'Detroit',\n",
       " 'GrandRapids',\n",
       " 'GreatLakes',\n",
       " 'HarrisburgScranton',\n",
       " 'HartfordSpringfield',\n",
       " 'Houston',\n",
       " 'Indianapolis',\n",
       " 'Jacksonville',\n",
       " 'LasVegas',\n",
       " 'LosAngeles',\n",
       " 'Louisville',\n",
       " 'MiamiFtLauderdale',\n",
       " 'Midsouth',\n",
       " 'Nashville',\n",
       " 'NewOrleansMobile',\n",
       " 'NewYork',\n",
       " 'Northeast',\n",
       " 'NorthernNewEngland',\n",
       " 'Orlando',\n",
       " 'Philadelphia',\n",
       " 'PhoenixTucson',\n",
       " 'Pittsburgh',\n",
       " 'Plains',\n",
       " 'Portland',\n",
       " 'RaleighGreensboro',\n",
       " 'RichmondNorfolk',\n",
       " 'Roanoke',\n",
       " 'Sacramento',\n",
       " 'SanDiego',\n",
       " 'SanFrancisco',\n",
       " 'Seattle',\n",
       " 'SouthCarolina',\n",
       " 'SouthCentral',\n",
       " 'Southeast',\n",
       " 'Spokane',\n",
       " 'StLouis',\n",
       " 'Syracuse',\n",
       " 'Tampa',\n",
       " 'TotalUS',\n",
       " 'West',\n",
       " 'WestTexNewMexico']"
      ]
     },
     "execution_count": 109,
     "metadata": {},
     "output_type": "execute_result"
    }
   ],
   "source": [
    "sorted(conv_avo_df.region.unique())"
   ]
  },
  {
   "cell_type": "markdown",
   "metadata": {},
   "source": [
    "# Guiding questions\n",
    "\n",
    "Is there a significant difference in the average price of avocados during summer months (defined as April 1st through Sept 30) versus winter months? Does it make a difference if you are in a colder climate versus a warmer climate? \n",
    "\n",
    "Steps: Filter the DataFrame down so that you have three new DataFrames, one for each of the following regions\n",
    "\n",
    "\n",
    "1) Total US \n",
    "\n",
    "2) San Diego \n",
    "\n",
    "3) Boston \n"
   ]
  },
  {
   "cell_type": "code",
   "execution_count": 110,
   "metadata": {},
   "outputs": [],
   "source": [
    "conv_df_total_us = conv_avo_df.loc[conv_avo_df[\"region\"]==\"TotalUS\"]\n",
    "conv_df_sd = conv_avo_df.loc[conv_avo_df[\"region\"]==\"SanDiego\"]\n",
    "conv_df_bos = conv_avo_df.loc[conv_avo_df[\"region\"]==\"Boston\"]"
   ]
  },
  {
   "cell_type": "code",
   "execution_count": 68,
   "metadata": {},
   "outputs": [
    {
     "data": {
      "text/plain": [
       "<matplotlib.axes._subplots.AxesSubplot at 0x7fa028f5f450>"
      ]
     },
     "execution_count": 68,
     "metadata": {},
     "output_type": "execute_result"
    },
    {
     "data": {
      "image/png": "[encoded data removed]",
      "text/plain": [
       "<Figure size 432x288 with 1 Axes>"
      ]
     },
     "metadata": {},
     "output_type": "display_data"
    }
   ],
   "source": [
    "# create boxplots with seaborn to compare the Average Price distribution for summer and winter months\n",
    "sns.boxplot(data=conv_df_total_us, x=\"AveragePrice\", y=\"summer\", orient=\"h\")"
   ]
  },
  {
   "cell_type": "code",
   "execution_count": 176,
   "metadata": {},
   "outputs": [
    {
     "data": {
      "text/plain": [
       "<matplotlib.axes._subplots.AxesSubplot at 0x7fa010c20990>"
      ]
     },
     "execution_count": 176,
     "metadata": {},
     "output_type": "execute_result"
    },
    {
     "data": {
      "image/png": "[encoded data removed]",
      "text/plain": [
       "<Figure size 432x288 with 1 Axes>"
      ]
     },
     "metadata": {},
     "output_type": "display_data"
    }
   ],
   "source": [
    "sns.boxplot(data=conv_df_sd, x=\"AveragePrice\", y=\"summer\", orient=\"h\")"
   ]
  },
  {
   "cell_type": "code",
   "execution_count": 177,
   "metadata": {},
   "outputs": [
    {
     "data": {
      "text/plain": [
       "<matplotlib.axes._subplots.AxesSubplot at 0x7fa010c45450>"
      ]
     },
     "execution_count": 177,
     "metadata": {},
     "output_type": "execute_result"
    },
    {
     "data": {
      "image/png": "[encoded data removed]",
      "text/plain": [
       "<Figure size 432x288 with 1 Axes>"
      ]
     },
     "metadata": {},
     "output_type": "display_data"
    }
   ],
   "source": [
    "sns.boxplot(data=conv_df_bos, x=\"AveragePrice\", y=\"summer\", orient=\"h\")"
   ]
  },
  {
   "cell_type": "code",
   "execution_count": 181,
   "metadata": {},
   "outputs": [],
   "source": [
    "def split_series(df):\n",
    "    summer_srs = df.loc[df[\"summer\"]==True][\"AveragePrice\"]\n",
    "    winter_srs = df.loc[df[\"summer\"]==False][\"AveragePrice\"]\n",
    "    return summer_srs, winter_srs"
   ]
  },
  {
   "cell_type": "code",
   "execution_count": 206,
   "metadata": {},
   "outputs": [],
   "source": [
    "def print_diff(summer_srs, winter_srs):\n",
    "    summer_mean = summer_srs.mean()\n",
    "    winter_mean = winter_srs.mean()\n",
    "    print(f\"Summer Mean: {summer_mean}\")\n",
    "    print(f\"Winter Mean: {winter_mean}\")\n",
    "    print(f\"Difference in Means: {summer_mean - winter_mean}\")\n",
    "    print(f\"Percent Difference: {100*(summer_mean - winter_mean)/winter_mean}%\")"
   ]
  },
  {
   "cell_type": "code",
   "execution_count": 207,
   "metadata": {},
   "outputs": [
    {
     "name": "stdout",
     "output_type": "stream",
     "text": [
      "Summer Mean: 1.1238461538461535\n",
      "Winter Mean: 1.0647252747252747\n",
      "Difference in Means: 0.05912087912087882\n",
      "Percent Difference: 5.552688615956211%\n"
     ]
    }
   ],
   "source": [
    "# Total US\n",
    "summer_total_us, winter_total_us = split_series(conv_df_total_us)\n",
    "print_diff(summer_total_us, winter_total_us)\n"
   ]
  },
  {
   "cell_type": "code",
   "execution_count": 208,
   "metadata": {},
   "outputs": [
    {
     "name": "stdout",
     "output_type": "stream",
     "text": [
      "Summer Mean: 1.104358974358974\n",
      "Winter Mean: 1.0247252747252746\n",
      "Difference in Means: 0.07963369963369926\n",
      "Percent Difference: 7.7712243074173015%\n"
     ]
    }
   ],
   "source": [
    "#t-test SanDiego\n",
    "summer_sd, winter_sd = split_series(conv_df_sd)\n",
    "print_diff(summer_sd, winter_sd)\n"
   ]
  },
  {
   "cell_type": "code",
   "execution_count": 209,
   "metadata": {},
   "outputs": [
    {
     "name": "stdout",
     "output_type": "stream",
     "text": [
      "Summer Mean: 1.3578205128205127\n",
      "Winter Mean: 1.258571428571429\n",
      "Difference in Means: 0.09924908424908385\n",
      "Percent Difference: 7.885852323990768%\n"
     ]
    }
   ],
   "source": [
    "#t-test Boston\n",
    "summer_bos, winter_bos = split_series(conv_df_bos)\n",
    "print_diff(summer_bos, winter_bos)"
   ]
  },
  {
   "cell_type": "code",
   "execution_count": 210,
   "metadata": {},
   "outputs": [
    {
     "data": {
      "text/plain": [
       "(2.2354802992258693, 0.026725109099811205, 165.29009272222456)"
      ]
     },
     "execution_count": 210,
     "metadata": {},
     "output_type": "execute_result"
    }
   ],
   "source": [
    "ttest_ind(summer_total_us, winter_total_us, usevar='unequal')"
   ]
  },
  {
   "cell_type": "code",
   "execution_count": 211,
   "metadata": {},
   "outputs": [
    {
     "data": {
      "text/plain": [
       "(2.109444157552642, 0.036405909273276166, 166.01668137546255)"
      ]
     },
     "execution_count": 211,
     "metadata": {},
     "output_type": "execute_result"
    }
   ],
   "source": [
    "ttest_ind(summer_sd, winter_sd, usevar='unequal')"
   ]
  },
  {
   "cell_type": "code",
   "execution_count": 212,
   "metadata": {},
   "outputs": [
    {
     "data": {
      "text/plain": [
       "(2.9603981924463234, 0.003583247264468476, 146.94891516001866)"
      ]
     },
     "execution_count": 212,
     "metadata": {},
     "output_type": "execute_result"
    }
   ],
   "source": [
    "ttest_ind(summer_bos, winter_bos, usevar='unequal')"
   ]
  },
  {
   "cell_type": "markdown",
   "metadata": {},
   "source": []
  },
  {
   "cell_type": "code",
   "execution_count": null,
   "metadata": {},
   "outputs": [],
   "source": []
  },
  {
   "cell_type": "code",
   "execution_count": null,
   "metadata": {},
   "outputs": [],
   "source": []
  },
  {
   "cell_type": "code",
   "execution_count": null,
   "metadata": {},
   "outputs": [],
   "source": []
  },
  {
   "cell_type": "code",
   "execution_count": null,
   "metadata": {},
   "outputs": [],
   "source": []
  },
  {
   "cell_type": "code",
   "execution_count": null,
   "metadata": {},
   "outputs": [],
   "source": []
  },
  {
   "cell_type": "code",
   "execution_count": null,
   "metadata": {},
   "outputs": [],
   "source": []
  },
  {
   "cell_type": "code",
   "execution_count": null,
   "metadata": {},
   "outputs": [],
   "source": []
  },
  {
   "cell_type": "code",
   "execution_count": null,
   "metadata": {},
   "outputs": [],
   "source": []
  },
  {
   "cell_type": "code",
   "execution_count": null,
   "metadata": {},
   "outputs": [],
   "source": []
  },
  {
   "cell_type": "code",
   "execution_count": null,
   "metadata": {},
   "outputs": [],
   "source": []
  },
  {
   "cell_type": "code",
   "execution_count": 179,
   "metadata": {},
   "outputs": [
    {
     "data": {
      "text/plain": [
       "1.81"
      ]
     },
     "execution_count": 179,
     "metadata": {},
     "output_type": "execute_result"
    }
   ],
   "source": [
    "conv_df_bos.AveragePrice.max()"
   ]
  },
  {
   "cell_type": "code",
   "execution_count": 78,
   "metadata": {},
   "outputs": [
    {
     "name": "stdout",
     "output_type": "stream",
     "text": [
      "1.1238461538461535\n",
      "1.0647252747252747\n"
     ]
    }
   ],
   "source": [
    "# compare the averages\n",
    "summer_prices = conv_df_total_us.loc[conv_df_total_us[\"summer\"]==True][\"AveragePrice\"]\n",
    "winter_prices = conv_df_total_us.loc[conv_df_total_us[\"summer\"]==False][\"AveragePrice\"]\n",
    "print(summer_prices.mean())\n",
    "print(winter_prices.mean())\n"
   ]
  },
  {
   "cell_type": "code",
   "execution_count": 125,
   "metadata": {},
   "outputs": [
    {
     "data": {
      "text/plain": [
       "(2.2262510139997027, 0.027335305807168114)"
      ]
     },
     "execution_count": 125,
     "metadata": {},
     "output_type": "execute_result"
    }
   ],
   "source": [
    "# we can see that there is a difference of about 6 cents. \n",
    "# Is this difference significant or could it be the result of chance?\n",
    "\n",
    "# total us prices --> below 0.05\n",
    "t_stat, p_val = stats.ttest_ind(summer_prices, winter_prices)\n",
    "t_stat, p_val"
   ]
  },
  {
   "cell_type": "code",
   "execution_count": 168,
   "metadata": {},
   "outputs": [
    {
     "data": {
      "text/plain": [
       "(2.2262510139997027, 0.027335305807168114)"
      ]
     },
     "execution_count": 168,
     "metadata": {},
     "output_type": "execute_result"
    }
   ],
   "source": [
    "t_stat, p_val, df = stats.weightstats.ttest_ind(summer_prices, winter_prices)\n",
    "t_stat, p_val"
   ]
  },
  {
   "cell_type": "code",
   "execution_count": 81,
   "metadata": {},
   "outputs": [
    {
     "data": {
      "text/plain": [
       "<matplotlib.axes._subplots.AxesSubplot at 0x7fa02986b050>"
      ]
     },
     "execution_count": 81,
     "metadata": {},
     "output_type": "execute_result"
    },
    {
     "data": {
      "image/png": "[encoded data removed]",
      "text/plain": [
       "<Figure size 432x288 with 1 Axes>"
      ]
     },
     "metadata": {},
     "output_type": "display_data"
    }
   ],
   "source": [
    "# what if we did it for volume instead? \n",
    "sns.violinplot(data=conv_df_total_us, x=\"Total Volume\", y=\"summer\", orient=\"h\")\n"
   ]
  },
  {
   "cell_type": "code",
   "execution_count": 87,
   "metadata": {
    "scrolled": true
   },
   "outputs": [
    {
     "data": {
      "text/plain": [
       "<matplotlib.axes._subplots.AxesSubplot at 0x7fa02a277990>"
      ]
     },
     "execution_count": 87,
     "metadata": {},
     "output_type": "execute_result"
    },
    {
     "data": {
      "image/png": "[encoded data removed]",
      "text/plain": [
       "<Figure size 432x288 with 1 Axes>"
      ]
     },
     "metadata": {},
     "output_type": "display_data"
    }
   ],
   "source": [
    "# we could also investigate whether this changes if we remove outliers. We know that there is a huge \n",
    "# spike during Superbowl week, which is in the winter and is what is giving the summer = False distribution \n",
    "# its long tail\n",
    "sns.boxplot(data=conv_df_total_us, x=\"Total Volume\", y=\"summer\", orient=\"h\")"
   ]
  },
  {
   "cell_type": "code",
   "execution_count": 89,
   "metadata": {},
   "outputs": [
    {
     "data": {
      "text/plain": [
       "<matplotlib.axes._subplots.AxesSubplot at 0x7fa0298957d0>"
      ]
     },
     "execution_count": 89,
     "metadata": {},
     "output_type": "execute_result"
    },
    {
     "data": {
      "image/png": "[encoded data removed]",
      "text/plain": [
       "<Figure size 432x288 with 1 Axes>"
      ]
     },
     "metadata": {},
     "output_type": "display_data"
    }
   ],
   "source": [
    "sns.boxplot(data=conv_df_total_us, x=\"Total Volume\", orient=\"h\")"
   ]
  },
  {
   "cell_type": "code",
   "execution_count": 84,
   "metadata": {},
   "outputs": [
    {
     "name": "stdout",
     "output_type": "stream",
     "text": [
      "34458526.5297436\n",
      "33114906.78065935\n"
     ]
    }
   ],
   "source": [
    "summer_volumes = conv_df_total_us.loc[conv_df_total_us[\"summer\"]==True][\"Total Volume\"]\n",
    "winter_volumes = conv_df_total_us.loc[conv_df_total_us[\"summer\"]==False][\"Total Volume\"]\n",
    "print(summer_volumes.mean())\n",
    "print(winter_volumes.mean())"
   ]
  },
  {
   "cell_type": "code",
   "execution_count": 124,
   "metadata": {},
   "outputs": [
    {
     "data": {
      "text/plain": [
       "(1.4832818217410435, 0.14012368697375702)"
      ]
     },
     "execution_count": 124,
     "metadata": {},
     "output_type": "execute_result"
    }
   ],
   "source": [
    "# total us volume --> greater than 0.05\n",
    "t_stat, p_val = stats.ttest_ind(summer_volumes, winter_volumes, equal_var=False)\n",
    "t_stat, p_val"
   ]
  },
  {
   "cell_type": "code",
   "execution_count": 111,
   "metadata": {},
   "outputs": [],
   "source": [
    "# Let's check both volume and average price for the SD and BOS data\n"
   ]
  },
  {
   "cell_type": "markdown",
   "metadata": {},
   "source": [
    "## SD"
   ]
  },
  {
   "cell_type": "code",
   "execution_count": 96,
   "metadata": {},
   "outputs": [],
   "source": [
    "summer_prices_sd = conv_df_sd.loc[conv_df_sd[\"summer\"]==True][\"AveragePrice\"]\n",
    "winter_prices_sd = conv_df_sd.loc[conv_df_sd[\"summer\"]==False][\"AveragePrice\"]"
   ]
  },
  {
   "cell_type": "code",
   "execution_count": 97,
   "metadata": {},
   "outputs": [
    {
     "data": {
      "text/plain": [
       "<matplotlib.axes._subplots.AxesSubplot at 0x7fa028097850>"
      ]
     },
     "execution_count": 97,
     "metadata": {},
     "output_type": "execute_result"
    },
    {
     "data": {
      "image/png": "[encoded data removed]",
      "text/plain": [
       "<Figure size 432x288 with 1 Axes>"
      ]
     },
     "metadata": {},
     "output_type": "display_data"
    }
   ],
   "source": [
    "sns.boxplot(data=conv_df_sd, x=\"AveragePrice\", y=\"summer\", orient=\"h\")"
   ]
  },
  {
   "cell_type": "code",
   "execution_count": 123,
   "metadata": {},
   "outputs": [
    {
     "data": {
      "text/plain": [
       "(2.096744980268756, 0.03752282054873317)"
      ]
     },
     "execution_count": 123,
     "metadata": {},
     "output_type": "execute_result"
    }
   ],
   "source": [
    "# SD price --> below 0.05\n",
    "t_stat, p_val = stats.ttest_ind(summer_prices_sd, winter_prices_sd)\n",
    "t_stat, p_val"
   ]
  },
  {
   "cell_type": "code",
   "execution_count": 101,
   "metadata": {},
   "outputs": [],
   "source": [
    "summer_volume_sd = conv_df_sd.loc[conv_df_sd[\"summer\"]==True][\"Total Volume\"]\n",
    "winter_volume_sd = conv_df_sd.loc[conv_df_sd[\"summer\"]==False][\"Total Volume\"]"
   ]
  },
  {
   "cell_type": "code",
   "execution_count": 102,
   "metadata": {},
   "outputs": [
    {
     "data": {
      "text/plain": [
       "<matplotlib.axes._subplots.AxesSubplot at 0x7fa02a0c9450>"
      ]
     },
     "execution_count": 102,
     "metadata": {},
     "output_type": "execute_result"
    },
    {
     "data": {
      "image/png": "[encoded data removed]",
      "text/plain": [
       "<Figure size 432x288 with 1 Axes>"
      ]
     },
     "metadata": {},
     "output_type": "display_data"
    }
   ],
   "source": [
    "sns.boxplot(data=conv_df_sd, x=\"Total Volume\", y=\"summer\", orient=\"h\")"
   ]
  },
  {
   "cell_type": "code",
   "execution_count": 122,
   "metadata": {},
   "outputs": [
    {
     "data": {
      "text/plain": [
       "(0.9684679921020001, 0.33421119008951883)"
      ]
     },
     "execution_count": 122,
     "metadata": {},
     "output_type": "execute_result"
    }
   ],
   "source": [
    "# SD volume --> Much greater than 0.05\n",
    "t_stat, p_val = stats.ttest_ind(summer_volume_sd, winter_volume_sd)\n",
    "t_stat, p_val"
   ]
  },
  {
   "cell_type": "markdown",
   "metadata": {},
   "source": [
    "## BOS\n"
   ]
  },
  {
   "cell_type": "code",
   "execution_count": 112,
   "metadata": {},
   "outputs": [],
   "source": [
    "summer_prices_bos = conv_df_bos.loc[conv_df_bos[\"summer\"]==True][\"AveragePrice\"]\n",
    "winter_prices_bos = conv_df_bos.loc[conv_df_bos[\"summer\"]==False][\"AveragePrice\"]"
   ]
  },
  {
   "cell_type": "code",
   "execution_count": 114,
   "metadata": {},
   "outputs": [
    {
     "data": {
      "text/plain": [
       "<matplotlib.axes._subplots.AxesSubplot at 0x7fa00db84f10>"
      ]
     },
     "execution_count": 114,
     "metadata": {},
     "output_type": "execute_result"
    },
    {
     "data": {
      "image/png": "[encoded data removed]",
      "text/plain": [
       "<Figure size 432x288 with 1 Axes>"
      ]
     },
     "metadata": {},
     "output_type": "display_data"
    }
   ],
   "source": [
    "sns.boxplot(data=conv_df_bos, x=\"AveragePrice\", y=\"summer\", orient=\"h\")"
   ]
  },
  {
   "cell_type": "code",
   "execution_count": 120,
   "metadata": {},
   "outputs": [
    {
     "data": {
      "text/plain": [
       "(3.0108614010001533, 0.0030097927903653854)"
      ]
     },
     "execution_count": 120,
     "metadata": {},
     "output_type": "execute_result"
    }
   ],
   "source": [
    "# Boston prices --> well under 0.05\n",
    "t_stat, p_val = stats.ttest_ind(summer_prices_bos, winter_prices_bos)\n",
    "t_stat, p_val"
   ]
  },
  {
   "cell_type": "code",
   "execution_count": 116,
   "metadata": {},
   "outputs": [],
   "source": [
    "summer_volume_bos = conv_df_bos.loc[conv_df_bos[\"summer\"]==True][\"Total Volume\"]\n",
    "winter_volume_bos = conv_df_bos.loc[conv_df_bos[\"summer\"]==False][\"Total Volume\"]"
   ]
  },
  {
   "cell_type": "code",
   "execution_count": 117,
   "metadata": {},
   "outputs": [
    {
     "data": {
      "text/plain": [
       "<matplotlib.axes._subplots.AxesSubplot at 0x7fa00dd89610>"
      ]
     },
     "execution_count": 117,
     "metadata": {},
     "output_type": "execute_result"
    },
    {
     "data": {
      "image/png": "[encoded data removed]",
      "text/plain": [
       "<Figure size 432x288 with 1 Axes>"
      ]
     },
     "metadata": {},
     "output_type": "display_data"
    }
   ],
   "source": [
    "sns.boxplot(data=conv_df_bos, x=\"Total Volume\", y=\"summer\", orient=\"h\")"
   ]
  },
  {
   "cell_type": "code",
   "execution_count": 119,
   "metadata": {},
   "outputs": [
    {
     "data": {
      "text/plain": [
       "(2.024120246062117, 0.04455150148997821)"
      ]
     },
     "execution_count": 119,
     "metadata": {},
     "output_type": "execute_result"
    }
   ],
   "source": [
    "# Boston volumes --> under 0.05\n",
    "t_stat, p_val = stats.ttest_ind(summer_volume_bos, winter_volume_bos)\n",
    "t_stat, p_val"
   ]
  },
  {
   "cell_type": "markdown",
   "metadata": {},
   "source": [
    "## Z test\n",
    "\n",
    "To do a test of proportions, I will create another DF. \n",
    "City, Date, Vol_Conv, Vol_Org\n",
    "\n",
    "Question: Do people in SF buy organic avocados at a greater rate than people in LA."
   ]
  },
  {
   "cell_type": "code",
   "execution_count": 156,
   "metadata": {},
   "outputs": [],
   "source": [
    "avo_sf_la_2016 = pd.read_csv('avo_sf_la_2016.csv')"
   ]
  },
  {
   "cell_type": "code",
   "execution_count": 157,
   "metadata": {},
   "outputs": [
    {
     "name": "stdout",
     "output_type": "stream",
     "text": [
      "<class 'pandas.core.frame.DataFrame'>\n",
      "RangeIndex: 104 entries, 0 to 103\n",
      "Data columns (total 4 columns):\n",
      "Date              104 non-null object\n",
      "region            104 non-null object\n",
      "Total_Vol_org     104 non-null float64\n",
      "Total_Vol_conv    104 non-null float64\n",
      "dtypes: float64(2), object(2)\n",
      "memory usage: 3.4+ KB\n"
     ]
    }
   ],
   "source": [
    "avo_sf_la_2016.info()"
   ]
  },
  {
   "cell_type": "code",
   "execution_count": 158,
   "metadata": {},
   "outputs": [
    {
     "data": {
      "text/html": [
       "<div>\n",
       "<style scoped>\n",
       "    .dataframe tbody tr th:only-of-type {\n",
       "        vertical-align: middle;\n",
       "    }\n",
       "\n",
       "    .dataframe tbody tr th {\n",
       "        vertical-align: top;\n",
       "    }\n",
       "\n",
       "    .dataframe thead th {\n",
       "        text-align: right;\n",
       "    }\n",
       "</style>\n",
       "<table border=\"1\" class=\"dataframe\">\n",
       "  <thead>\n",
       "    <tr style=\"text-align: right;\">\n",
       "      <th></th>\n",
       "      <th>Total_Vol_org</th>\n",
       "      <th>Total_Vol_conv</th>\n",
       "    </tr>\n",
       "    <tr>\n",
       "      <th>region</th>\n",
       "      <th></th>\n",
       "      <th></th>\n",
       "    </tr>\n",
       "  </thead>\n",
       "  <tbody>\n",
       "    <tr>\n",
       "      <td>LosAngeles</td>\n",
       "      <td>4891080.72</td>\n",
       "      <td>1.582512e+08</td>\n",
       "    </tr>\n",
       "    <tr>\n",
       "      <td>SanFrancisco</td>\n",
       "      <td>1237904.51</td>\n",
       "      <td>4.029172e+07</td>\n",
       "    </tr>\n",
       "  </tbody>\n",
       "</table>\n",
       "</div>"
      ],
      "text/plain": [
       "              Total_Vol_org  Total_Vol_conv\n",
       "region                                     \n",
       "LosAngeles       4891080.72    1.582512e+08\n",
       "SanFrancisco     1237904.51    4.029172e+07"
      ]
     },
     "execution_count": 158,
     "metadata": {},
     "output_type": "execute_result"
    }
   ],
   "source": [
    "# now, let's find the total volume sold for the entire year\n",
    "avo_sf_la_sums = avo_sf_la_2016.groupby('region').agg({\"Total_Vol_org\":\"sum\", \"Total_Vol_conv\":\"sum\"})\n",
    "avo_sf_la_sums"
   ]
  },
  {
   "cell_type": "code",
   "execution_count": 161,
   "metadata": {},
   "outputs": [
    {
     "data": {
      "text/html": [
       "<div>\n",
       "<style scoped>\n",
       "    .dataframe tbody tr th:only-of-type {\n",
       "        vertical-align: middle;\n",
       "    }\n",
       "\n",
       "    .dataframe tbody tr th {\n",
       "        vertical-align: top;\n",
       "    }\n",
       "\n",
       "    .dataframe thead th {\n",
       "        text-align: right;\n",
       "    }\n",
       "</style>\n",
       "<table border=\"1\" class=\"dataframe\">\n",
       "  <thead>\n",
       "    <tr style=\"text-align: right;\">\n",
       "      <th></th>\n",
       "      <th>Total_Vol_org</th>\n",
       "      <th>Total_Vol_conv</th>\n",
       "      <th>Total_Volume_all</th>\n",
       "    </tr>\n",
       "    <tr>\n",
       "      <th>region</th>\n",
       "      <th></th>\n",
       "      <th></th>\n",
       "      <th></th>\n",
       "    </tr>\n",
       "  </thead>\n",
       "  <tbody>\n",
       "    <tr>\n",
       "      <td>LosAngeles</td>\n",
       "      <td>4891080.72</td>\n",
       "      <td>1.582512e+08</td>\n",
       "      <td>1.631423e+08</td>\n",
       "    </tr>\n",
       "    <tr>\n",
       "      <td>SanFrancisco</td>\n",
       "      <td>1237904.51</td>\n",
       "      <td>4.029172e+07</td>\n",
       "      <td>4.152963e+07</td>\n",
       "    </tr>\n",
       "  </tbody>\n",
       "</table>\n",
       "</div>"
      ],
      "text/plain": [
       "              Total_Vol_org  Total_Vol_conv  Total_Volume_all\n",
       "region                                                       \n",
       "LosAngeles       4891080.72    1.582512e+08      1.631423e+08\n",
       "SanFrancisco     1237904.51    4.029172e+07      4.152963e+07"
      ]
     },
     "execution_count": 161,
     "metadata": {},
     "output_type": "execute_result"
    }
   ],
   "source": [
    "# create a column for total volume across both columns\n",
    "avo_sf_la_sums[\"Total_Volume_all\"] = avo_sf_la_sums[\"Total_Vol_org\"] + avo_sf_la_sums[\"Total_Vol_conv\"]\n",
    "avo_sf_la_sums"
   ]
  },
  {
   "cell_type": "code",
   "execution_count": 175,
   "metadata": {},
   "outputs": [
    {
     "data": {
      "text/plain": [
       "(5.830343262661636, 5.531347259060017e-09)"
      ]
     },
     "execution_count": 175,
     "metadata": {},
     "output_type": "execute_result"
    }
   ],
   "source": [
    "organic_sales = avo_sf_la_sums[\"Total_Vol_org\"]\n",
    "total_sales = avo_sf_la_sums[\"Total_Volume_all\"]\n",
    "\n",
    "proportions_ztest(organic_sales, total_sales)"
   ]
  },
  {
   "cell_type": "code",
   "execution_count": 174,
   "metadata": {},
   "outputs": [],
   "source": [
    "from statsmodels.stats.proportion import proportions_ztest"
   ]
  },
  {
   "cell_type": "code",
   "execution_count": null,
   "metadata": {},
   "outputs": [],
   "source": []
  },
  {
   "cell_type": "code",
   "execution_count": null,
   "metadata": {},
   "outputs": [],
   "source": []
  },
  {
   "cell_type": "code",
   "execution_count": null,
   "metadata": {},
   "outputs": [],
   "source": []
  },
  {
   "cell_type": "code",
   "execution_count": null,
   "metadata": {},
   "outputs": [],
   "source": []
  },
  {
   "cell_type": "code",
   "execution_count": null,
   "metadata": {},
   "outputs": [],
   "source": []
  },
  {
   "cell_type": "code",
   "execution_count": null,
   "metadata": {},
   "outputs": [],
   "source": []
  },
  {
   "cell_type": "code",
   "execution_count": null,
   "metadata": {},
   "outputs": [],
   "source": []
  },
  {
   "cell_type": "code",
   "execution_count": null,
   "metadata": {},
   "outputs": [],
   "source": []
  },
  {
   "cell_type": "code",
   "execution_count": 132,
   "metadata": {},
   "outputs": [],
   "source": [
    "# logic to create the avo_df_la_2016 DF \n",
    "\n",
    "org = avo_df.loc[avo_df.type == \"organic\"]\n",
    "conv = avo_df.loc[avo_df.type == \"conventional\"]"
   ]
  },
  {
   "cell_type": "code",
   "execution_count": 150,
   "metadata": {},
   "outputs": [],
   "source": [
    "def filter_df(df):\n",
    "    df = df.loc[df.region.isin([\"SanFrancisco\", \"LosAngeles\"])]\n",
    "    df = df.loc[df.Date.dt.year==2016]\n",
    "    return df"
   ]
  },
  {
   "cell_type": "code",
   "execution_count": 151,
   "metadata": {},
   "outputs": [],
   "source": [
    "org_filt = filter_df(org)\n",
    "conv_filt = filter_df(conv)"
   ]
  },
  {
   "cell_type": "code",
   "execution_count": 152,
   "metadata": {},
   "outputs": [
    {
     "data": {
      "text/html": [
       "<div>\n",
       "<style scoped>\n",
       "    .dataframe tbody tr th:only-of-type {\n",
       "        vertical-align: middle;\n",
       "    }\n",
       "\n",
       "    .dataframe tbody tr th {\n",
       "        vertical-align: top;\n",
       "    }\n",
       "\n",
       "    .dataframe thead th {\n",
       "        text-align: right;\n",
       "    }\n",
       "</style>\n",
       "<table border=\"1\" class=\"dataframe\">\n",
       "  <thead>\n",
       "    <tr style=\"text-align: right;\">\n",
       "      <th></th>\n",
       "      <th>Unnamed: 0</th>\n",
       "      <th>Date</th>\n",
       "      <th>AveragePrice</th>\n",
       "      <th>Total Volume</th>\n",
       "      <th>4046</th>\n",
       "      <th>4225</th>\n",
       "      <th>4770</th>\n",
       "      <th>Total Bags</th>\n",
       "      <th>Small Bags</th>\n",
       "      <th>Large Bags</th>\n",
       "      <th>XLarge Bags</th>\n",
       "      <th>type</th>\n",
       "      <th>year</th>\n",
       "      <th>region</th>\n",
       "    </tr>\n",
       "  </thead>\n",
       "  <tbody>\n",
       "    <tr>\n",
       "      <td>13077</td>\n",
       "      <td>0</td>\n",
       "      <td>2016-12-25</td>\n",
       "      <td>1.17</td>\n",
       "      <td>81458.10</td>\n",
       "      <td>11324.90</td>\n",
       "      <td>25698.37</td>\n",
       "      <td>0.00</td>\n",
       "      <td>44434.83</td>\n",
       "      <td>37064.95</td>\n",
       "      <td>7369.88</td>\n",
       "      <td>0.0</td>\n",
       "      <td>organic</td>\n",
       "      <td>2016</td>\n",
       "      <td>LosAngeles</td>\n",
       "    </tr>\n",
       "    <tr>\n",
       "      <td>13078</td>\n",
       "      <td>1</td>\n",
       "      <td>2016-12-18</td>\n",
       "      <td>1.29</td>\n",
       "      <td>75362.42</td>\n",
       "      <td>8328.20</td>\n",
       "      <td>30745.08</td>\n",
       "      <td>101.67</td>\n",
       "      <td>36187.47</td>\n",
       "      <td>31983.42</td>\n",
       "      <td>4204.05</td>\n",
       "      <td>0.0</td>\n",
       "      <td>organic</td>\n",
       "      <td>2016</td>\n",
       "      <td>LosAngeles</td>\n",
       "    </tr>\n",
       "    <tr>\n",
       "      <td>13079</td>\n",
       "      <td>2</td>\n",
       "      <td>2016-12-11</td>\n",
       "      <td>1.31</td>\n",
       "      <td>77692.93</td>\n",
       "      <td>8725.85</td>\n",
       "      <td>29110.77</td>\n",
       "      <td>45.38</td>\n",
       "      <td>39810.93</td>\n",
       "      <td>31526.04</td>\n",
       "      <td>8284.89</td>\n",
       "      <td>0.0</td>\n",
       "      <td>organic</td>\n",
       "      <td>2016</td>\n",
       "      <td>LosAngeles</td>\n",
       "    </tr>\n",
       "    <tr>\n",
       "      <td>13080</td>\n",
       "      <td>3</td>\n",
       "      <td>2016-12-04</td>\n",
       "      <td>1.52</td>\n",
       "      <td>68500.56</td>\n",
       "      <td>9917.23</td>\n",
       "      <td>25081.27</td>\n",
       "      <td>10.96</td>\n",
       "      <td>33491.10</td>\n",
       "      <td>30856.88</td>\n",
       "      <td>2634.22</td>\n",
       "      <td>0.0</td>\n",
       "      <td>organic</td>\n",
       "      <td>2016</td>\n",
       "      <td>LosAngeles</td>\n",
       "    </tr>\n",
       "    <tr>\n",
       "      <td>13081</td>\n",
       "      <td>4</td>\n",
       "      <td>2016-11-27</td>\n",
       "      <td>1.64</td>\n",
       "      <td>63734.67</td>\n",
       "      <td>7949.89</td>\n",
       "      <td>22176.16</td>\n",
       "      <td>6.27</td>\n",
       "      <td>33602.35</td>\n",
       "      <td>28969.13</td>\n",
       "      <td>4633.22</td>\n",
       "      <td>0.0</td>\n",
       "      <td>organic</td>\n",
       "      <td>2016</td>\n",
       "      <td>LosAngeles</td>\n",
       "    </tr>\n",
       "  </tbody>\n",
       "</table>\n",
       "</div>"
      ],
      "text/plain": [
       "       Unnamed: 0       Date  AveragePrice  Total Volume      4046      4225  \\\n",
       "13077           0 2016-12-25          1.17      81458.10  11324.90  25698.37   \n",
       "13078           1 2016-12-18          1.29      75362.42   8328.20  30745.08   \n",
       "13079           2 2016-12-11          1.31      77692.93   8725.85  29110.77   \n",
       "13080           3 2016-12-04          1.52      68500.56   9917.23  25081.27   \n",
       "13081           4 2016-11-27          1.64      63734.67   7949.89  22176.16   \n",
       "\n",
       "         4770  Total Bags  Small Bags  Large Bags  XLarge Bags     type  year  \\\n",
       "13077    0.00    44434.83    37064.95     7369.88          0.0  organic  2016   \n",
       "13078  101.67    36187.47    31983.42     4204.05          0.0  organic  2016   \n",
       "13079   45.38    39810.93    31526.04     8284.89          0.0  organic  2016   \n",
       "13080   10.96    33491.10    30856.88     2634.22          0.0  organic  2016   \n",
       "13081    6.27    33602.35    28969.13     4633.22          0.0  organic  2016   \n",
       "\n",
       "           region  \n",
       "13077  LosAngeles  \n",
       "13078  LosAngeles  \n",
       "13079  LosAngeles  \n",
       "13080  LosAngeles  \n",
       "13081  LosAngeles  "
      ]
     },
     "execution_count": 152,
     "metadata": {},
     "output_type": "execute_result"
    }
   ],
   "source": [
    "org_filt.head()"
   ]
  },
  {
   "cell_type": "code",
   "execution_count": 153,
   "metadata": {},
   "outputs": [],
   "source": [
    "org_filt = org_filt[[\"Date\", \"region\", \"Total Volume\"]]\n",
    "org_filt.columns = [\"Date\", \"region\", \"Total_Vol_org\"]\n",
    "conv_filt = conv_filt[[\"Date\", \"region\", \"Total Volume\"]]\n",
    "conv_filt.columns = [\"Date\", \"region\", \"Total_Vol_conv\"]"
   ]
  },
  {
   "cell_type": "code",
   "execution_count": 154,
   "metadata": {},
   "outputs": [],
   "source": [
    "avo_sf_la_2016 = org_filt.merge(conv_filt, on=[\"Date\", \"region\"])"
   ]
  },
  {
   "cell_type": "code",
   "execution_count": 155,
   "metadata": {},
   "outputs": [],
   "source": [
    "avo_sf_la_2016.to_csv('avo_sf_la_2016.csv', index=False)"
   ]
  },
  {
   "cell_type": "code",
   "execution_count": null,
   "metadata": {},
   "outputs": [],
   "source": []
  }
 ],
 "metadata": {
  "kernelspec": {
   "display_name": "Python 3",
   "language": "python",
   "name": "python3"
  },
  "language_info": {
   "codemirror_mode": {
    "name": "ipython",
    "version": 3
   },
   "file_extension": ".py",
   "mimetype": "text/x-python",
   "name": "python",
   "nbconvert_exporter": "python",
   "pygments_lexer": "ipython3",
   "version": "3.7.4"
  }
 },
 "nbformat": 4,
 "nbformat_minor": 2
}
