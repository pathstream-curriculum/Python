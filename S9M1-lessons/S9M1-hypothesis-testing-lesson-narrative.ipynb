{
 "cells": [
  {
   "cell_type": "code",
   "execution_count": 81,
   "metadata": {
    "colab": {},
    "colab_type": "code",
    "id": "_aWvcN8bK4ek"
   },
   "outputs": [],
   "source": [
    "import numpy as np\n",
    "import pandas as pd\n",
    "import matplotlib.pyplot as plt\n",
    "import seaborn as sns\n",
    "from statsmodels.stats.weightstats import ttest_ind\n",
    "from statsmodels.stats.proportion import proportions_ztest\n",
    "\n",
    "sns.set()"
   ]
  },
  {
   "cell_type": "code",
   "execution_count": 99,
   "metadata": {},
   "outputs": [],
   "source": [
    "# Students have access to a new portion of the retail dataset: information about promotions\n",
    "# This portion of the dataset is limited to the Seattle store, and runs from 7/1/2010 ro 6/30/2012\n",
    "# The Weekly_Sales column shows the sum of sales across all departments for that week.\n",
    "#retail_promo_df = pd.read_csv('retail_promotions_seattle.csv')\n",
    "retail_promo_df = pd.read_csv('retail_promotions_seattle_01.csv')\n"
   ]
  },
  {
   "cell_type": "code",
   "execution_count": 83,
   "metadata": {
    "colab": {},
    "colab_type": "code",
    "id": "h98eyrhWBPcs"
   },
   "outputs": [
    {
     "name": "stdout",
     "output_type": "stream",
     "text": [
      "<class 'pandas.core.frame.DataFrame'>\n",
      "RangeIndex: 103 entries, 0 to 102\n",
      "Data columns (total 6 columns):\n",
      "Store           103 non-null object\n",
      "Date            103 non-null object\n",
      "Num_Visitors    103 non-null int64\n",
      "Num_Sales       103 non-null int64\n",
      "Weekly_Sales    103 non-null float64\n",
      "Promo_Week      103 non-null bool\n",
      "dtypes: bool(1), float64(1), int64(2), object(2)\n",
      "memory usage: 4.2+ KB\n"
     ]
    }
   ],
   "source": [
    "retail_promo_df.info()"
   ]
  },
  {
   "cell_type": "code",
   "execution_count": 84,
   "metadata": {},
   "outputs": [],
   "source": [
    "# deal with dates\n",
    "retail_promo_df[\"Date\"] = pd.to_datetime(retail_promo_df[\"Date\"])"
   ]
  },
  {
   "cell_type": "code",
   "execution_count": 85,
   "metadata": {},
   "outputs": [
    {
     "data": {
      "text/html": [
       "<div>\n",
       "<style scoped>\n",
       "    .dataframe tbody tr th:only-of-type {\n",
       "        vertical-align: middle;\n",
       "    }\n",
       "\n",
       "    .dataframe tbody tr th {\n",
       "        vertical-align: top;\n",
       "    }\n",
       "\n",
       "    .dataframe thead th {\n",
       "        text-align: right;\n",
       "    }\n",
       "</style>\n",
       "<table border=\"1\" class=\"dataframe\">\n",
       "  <thead>\n",
       "    <tr style=\"text-align: right;\">\n",
       "      <th></th>\n",
       "      <th>Store</th>\n",
       "      <th>Date</th>\n",
       "      <th>Num_Visitors</th>\n",
       "      <th>Num_Sales</th>\n",
       "      <th>Weekly_Sales</th>\n",
       "      <th>Promo_Week</th>\n",
       "    </tr>\n",
       "  </thead>\n",
       "  <tbody>\n",
       "    <tr>\n",
       "      <td>0</td>\n",
       "      <td>Seattle</td>\n",
       "      <td>2010-07-05</td>\n",
       "      <td>3256</td>\n",
       "      <td>1583</td>\n",
       "      <td>335237.34</td>\n",
       "      <td>False</td>\n",
       "    </tr>\n",
       "    <tr>\n",
       "      <td>1</td>\n",
       "      <td>Seattle</td>\n",
       "      <td>2010-07-16</td>\n",
       "      <td>2703</td>\n",
       "      <td>1760</td>\n",
       "      <td>330525.74</td>\n",
       "      <td>False</td>\n",
       "    </tr>\n",
       "    <tr>\n",
       "      <td>2</td>\n",
       "      <td>Seattle</td>\n",
       "      <td>2010-07-23</td>\n",
       "      <td>2917</td>\n",
       "      <td>1605</td>\n",
       "      <td>323996.64</td>\n",
       "      <td>False</td>\n",
       "    </tr>\n",
       "    <tr>\n",
       "      <td>3</td>\n",
       "      <td>Seattle</td>\n",
       "      <td>2010-07-30</td>\n",
       "      <td>3317</td>\n",
       "      <td>1983</td>\n",
       "      <td>344366.33</td>\n",
       "      <td>False</td>\n",
       "    </tr>\n",
       "    <tr>\n",
       "      <td>4</td>\n",
       "      <td>Seattle</td>\n",
       "      <td>2010-08-10</td>\n",
       "      <td>3144</td>\n",
       "      <td>1577</td>\n",
       "      <td>345812.75</td>\n",
       "      <td>False</td>\n",
       "    </tr>\n",
       "  </tbody>\n",
       "</table>\n",
       "</div>"
      ],
      "text/plain": [
       "     Store       Date  Num_Visitors  Num_Sales  Weekly_Sales  Promo_Week\n",
       "0  Seattle 2010-07-05          3256       1583     335237.34       False\n",
       "1  Seattle 2010-07-16          2703       1760     330525.74       False\n",
       "2  Seattle 2010-07-23          2917       1605     323996.64       False\n",
       "3  Seattle 2010-07-30          3317       1983     344366.33       False\n",
       "4  Seattle 2010-08-10          3144       1577     345812.75       False"
      ]
     },
     "execution_count": 85,
     "metadata": {},
     "output_type": "execute_result"
    }
   ],
   "source": [
    "# view the head\n",
    "retail_promo_df.head()"
   ]
  },
  {
   "cell_type": "markdown",
   "metadata": {},
   "source": [
    "\n",
    "### We are interested in exploring three questions\n",
    "1) Do weekly sales increase during promotion weeks?<br>\n",
    "2) Are there more store visitors during promotion weeks? <br>\n",
    "2) Is the sale rate (proportion of visitors who make a purchase) different during promotion week?<br>\n",
    "\n",
    "Let's begin with the first question. To start, examine the distributions of the weekly sales column for promo vs. non-promo weeks"
   ]
  },
  {
   "cell_type": "code",
   "execution_count": 86,
   "metadata": {},
   "outputs": [
    {
     "data": {
      "text/plain": [
       "Index(['Store', 'Date', 'Num_Visitors', 'Num_Sales', 'Weekly_Sales',\n",
       "       'Promo_Week'],\n",
       "      dtype='object')"
      ]
     },
     "execution_count": 86,
     "metadata": {},
     "output_type": "execute_result"
    }
   ],
   "source": [
    "retail_promo_df.columns\n"
   ]
  },
  {
   "cell_type": "code",
   "execution_count": 87,
   "metadata": {},
   "outputs": [
    {
     "data": {
      "text/plain": [
       "Text(0.5, 0.98, 'Weekly Sales Distribution, Seattle')"
      ]
     },
     "execution_count": 87,
     "metadata": {},
     "output_type": "execute_result"
    },
    {
     "data": {
      "image/png": "[encoded data removed]",
      "text/plain": [
       "<Figure size 432x288 with 1 Axes>"
      ]
     },
     "metadata": {},
     "output_type": "display_data"
    }
   ],
   "source": [
    "fig = plt.figure()\n",
    "sns.violinplot(data=retail_promo_df, y=\"Weekly_Sales\", x=\"Promo_Week\")\n",
    "fig.suptitle(\"Weekly Sales Distribution, Seattle\")"
   ]
  },
  {
   "cell_type": "code",
   "execution_count": null,
   "metadata": {},
   "outputs": [],
   "source": []
  },
  {
   "cell_type": "markdown",
   "metadata": {},
   "source": [
    "Similar shape, slightly higher dollar value for the Promo Week peak than the non-promo week peak. But is it significant??"
   ]
  },
  {
   "cell_type": "code",
   "execution_count": 88,
   "metadata": {},
   "outputs": [],
   "source": [
    "# split the data\n",
    "promo_wk_sales = retail_promo_df.loc[retail_promo_df[\"Promo_Week\"]==True][\"Weekly_Sales\"]\n",
    "non_promo_wk_sales = retail_promo_df.loc[retail_promo_df[\"Promo_Week\"]==False][\"Weekly_Sales\"]"
   ]
  },
  {
   "cell_type": "code",
   "execution_count": 89,
   "metadata": {},
   "outputs": [
    {
     "data": {
      "text/plain": [
       "(388083.6984615386, 378059.13974025985)"
      ]
     },
     "execution_count": 89,
     "metadata": {},
     "output_type": "execute_result"
    }
   ],
   "source": [
    "promo_wk_sales.mean(), non_promo_wk_sales.mean()"
   ]
  },
  {
   "cell_type": "code",
   "execution_count": 90,
   "metadata": {},
   "outputs": [
    {
     "data": {
      "text/plain": [
       "(0.4740521212260502, 0.31824297996716727, 101.0)"
      ]
     },
     "execution_count": 90,
     "metadata": {},
     "output_type": "execute_result"
    }
   ],
   "source": [
    "# pass the data to the ttest_ind function\n",
    "ttest_ind(promo_wk_sales, non_promo_wk_sales, alternative='larger')"
   ]
  },
  {
   "cell_type": "code",
   "execution_count": 91,
   "metadata": {},
   "outputs": [
    {
     "name": "stdout",
     "output_type": "stream",
     "text": [
      "Promo weeks mean sales: 388083.6984615386\n",
      "Non promo weeks mean sales: 378059.13974025985\n",
      "Difference: 10024.558721278736\n",
      "Percent difference: 2.5830919363577003%\n"
     ]
    }
   ],
   "source": [
    "# What are the means, anyway? How far apart are they? \n",
    "pw_mean = promo_wk_sales.mean()\n",
    "npw_mean = non_promo_wk_sales.mean()\n",
    "diff = pw_mean - npw_mean\n",
    "print(f\"Promo weeks mean sales: {pw_mean}\")\n",
    "print(f\"Non promo weeks mean sales: {npw_mean}\")\n",
    "print(f\"Difference: {diff}\")\n",
    "print(f\"Percent difference: {(diff/pw_mean)*100}%\")"
   ]
  },
  {
   "cell_type": "markdown",
   "metadata": {},
   "source": [
    "\n",
    "**this writeup is re: an earlier version of the data**\n",
    "\n",
    "The p-value returned by this function assumes you were running a non-directional test. If the null hypothesis is true, you would expect to find a difference at least this extreme 47.2\\% of the time. In the context of a non-directional test, \"at least this extreme\" means the absolute difference between the two means. So, if the null hypothesis is true, you'll get a difference of at least \\$15,652 with the promo weeks mean being higher about 25.6\\% of the time (half of 47.2\\%) and a difference of at least 15,652 with the promo weeks mean being lower about 23.6\\% of the time. \n",
    "\n",
    "Since you were using a directional hypothesis, though, your p-value is 0.236 -- half of the value returned from the function. That's because you're explicitly interesting in finding out how often you will get a result that shows the promotional weeks mean is higher than the non-promotional weeks mean if the null hypothesis is true.\n",
    "\n",
    "0.236 still a pretty big p-value. What you do with that information will depend on your goals. If you are taking a traditional approach to hypothesis testing, you would have already set a threshold to determine whether or not you will reject the null hypothesis. That threshold is a measure of how often you are willing to be wrong if the null hypothesis is true. "
   ]
  },
  {
   "cell_type": "markdown",
   "metadata": {},
   "source": [
    "## Question 2 -- Activity \n",
    "Is there an increase in the number of people visiting the store during promotion weeks?\n"
   ]
  },
  {
   "cell_type": "code",
   "execution_count": 92,
   "metadata": {},
   "outputs": [
    {
     "data": {
      "text/plain": [
       "<matplotlib.axes._subplots.AxesSubplot at 0x7fae7370fb10>"
      ]
     },
     "execution_count": 92,
     "metadata": {},
     "output_type": "execute_result"
    },
    {
     "data": {
      "image/png": "[encoded data removed]",
      "text/plain": [
       "<Figure size 432x288 with 1 Axes>"
      ]
     },
     "metadata": {},
     "output_type": "display_data"
    }
   ],
   "source": [
    "# visualize the difference\n",
    "fig = plt.figure()\n",
    "sns.violinplot(data=retail_promo_df, y=\"Num_Visitors\", x=\"Promo_Week\")"
   ]
  },
  {
   "cell_type": "code",
   "execution_count": 93,
   "metadata": {},
   "outputs": [],
   "source": [
    "# isolate the Series\n",
    "promo_week_visitors = retail_promo_df.loc[retail_promo_df[\"Promo_Week\"]==True][\"Num_Visitors\"]\n",
    "non_promo_week_visitors = retail_promo_df.loc[retail_promo_df[\"Promo_Week\"]==False][\"Num_Visitors\"]"
   ]
  },
  {
   "cell_type": "code",
   "execution_count": 94,
   "metadata": {},
   "outputs": [
    {
     "name": "stdout",
     "output_type": "stream",
     "text": [
      "Promo weeks mean sales: 3511.3076923076924\n",
      "Non promo weeks mean sales: 3254.9220779220777\n",
      "Difference: 256.38561438561464\n",
      "Percent difference: 7.3017131180866%\n"
     ]
    }
   ],
   "source": [
    "# What are the means, anyway? How far apart are they? \n",
    "pw_mean = promo_week_visitors.mean()\n",
    "npw_mean = non_promo_week_visitors.mean()\n",
    "diff = pw_mean - npw_mean\n",
    "print(f\"Promo weeks mean sales: {pw_mean}\")\n",
    "print(f\"Non promo weeks mean sales: {npw_mean}\")\n",
    "print(f\"Difference: {diff}\")\n",
    "print(f\"Percent difference: {(diff/pw_mean)*100}%\")"
   ]
  },
  {
   "cell_type": "code",
   "execution_count": 95,
   "metadata": {},
   "outputs": [
    {
     "data": {
      "text/plain": [
       "(1.911110552795885, 0.029412772143431368, 101.0)"
      ]
     },
     "execution_count": 95,
     "metadata": {},
     "output_type": "execute_result"
    }
   ],
   "source": [
    "# run the ttest\n",
    "ttest_ind(promo_week_visitors, non_promo_week_visitors, alternative='larger')"
   ]
  },
  {
   "cell_type": "markdown",
   "metadata": {},
   "source": [
    "## z-test"
   ]
  },
  {
   "cell_type": "code",
   "execution_count": 119,
   "metadata": {},
   "outputs": [],
   "source": [
    "retail_promo_df = pd.read_csv('retail_promotions_seattle_01.csv')\n"
   ]
  },
  {
   "cell_type": "code",
   "execution_count": 120,
   "metadata": {},
   "outputs": [
    {
     "data": {
      "text/html": [
       "<div>\n",
       "<style scoped>\n",
       "    .dataframe tbody tr th:only-of-type {\n",
       "        vertical-align: middle;\n",
       "    }\n",
       "\n",
       "    .dataframe tbody tr th {\n",
       "        vertical-align: top;\n",
       "    }\n",
       "\n",
       "    .dataframe thead th {\n",
       "        text-align: right;\n",
       "    }\n",
       "</style>\n",
       "<table border=\"1\" class=\"dataframe\">\n",
       "  <thead>\n",
       "    <tr style=\"text-align: right;\">\n",
       "      <th></th>\n",
       "      <th>Num_Sales</th>\n",
       "      <th>Num_Visitors</th>\n",
       "    </tr>\n",
       "    <tr>\n",
       "      <th>Promo_Week</th>\n",
       "      <th></th>\n",
       "      <th></th>\n",
       "    </tr>\n",
       "  </thead>\n",
       "  <tbody>\n",
       "    <tr>\n",
       "      <td>False</td>\n",
       "      <td>143262</td>\n",
       "      <td>250629</td>\n",
       "    </tr>\n",
       "    <tr>\n",
       "      <td>True</td>\n",
       "      <td>51753</td>\n",
       "      <td>91294</td>\n",
       "    </tr>\n",
       "  </tbody>\n",
       "</table>\n",
       "</div>"
      ],
      "text/plain": [
       "            Num_Sales  Num_Visitors\n",
       "Promo_Week                         \n",
       "False          143262        250629\n",
       "True            51753         91294"
      ]
     },
     "execution_count": 120,
     "metadata": {},
     "output_type": "execute_result"
    }
   ],
   "source": [
    "ztest_groupby = retail_promo_df.groupby(\"Promo_Week\").agg({\"Num_Sales\": \"sum\", \"Num_Visitors\": \"sum\"})\n",
    "ztest_groupby"
   ]
  },
  {
   "cell_type": "code",
   "execution_count": 121,
   "metadata": {},
   "outputs": [
    {
     "data": {
      "text/html": [
       "<div>\n",
       "<style scoped>\n",
       "    .dataframe tbody tr th:only-of-type {\n",
       "        vertical-align: middle;\n",
       "    }\n",
       "\n",
       "    .dataframe tbody tr th {\n",
       "        vertical-align: top;\n",
       "    }\n",
       "\n",
       "    .dataframe thead th {\n",
       "        text-align: right;\n",
       "    }\n",
       "</style>\n",
       "<table border=\"1\" class=\"dataframe\">\n",
       "  <thead>\n",
       "    <tr style=\"text-align: right;\">\n",
       "      <th></th>\n",
       "      <th>Num_Sales</th>\n",
       "      <th>Num_Visitors</th>\n",
       "      <th>proportion</th>\n",
       "    </tr>\n",
       "    <tr>\n",
       "      <th>Promo_Week</th>\n",
       "      <th></th>\n",
       "      <th></th>\n",
       "      <th></th>\n",
       "    </tr>\n",
       "  </thead>\n",
       "  <tbody>\n",
       "    <tr>\n",
       "      <td>False</td>\n",
       "      <td>143262</td>\n",
       "      <td>250629</td>\n",
       "      <td>0.571610</td>\n",
       "    </tr>\n",
       "    <tr>\n",
       "      <td>True</td>\n",
       "      <td>51753</td>\n",
       "      <td>91294</td>\n",
       "      <td>0.566883</td>\n",
       "    </tr>\n",
       "  </tbody>\n",
       "</table>\n",
       "</div>"
      ],
      "text/plain": [
       "            Num_Sales  Num_Visitors  proportion\n",
       "Promo_Week                                     \n",
       "False          143262        250629    0.571610\n",
       "True            51753         91294    0.566883"
      ]
     },
     "execution_count": 121,
     "metadata": {},
     "output_type": "execute_result"
    }
   ],
   "source": [
    "ztest_groupby[\"proportion\"] = ztest_groupby[\"Num_Sales\"] / ztest_groupby[\"Num_Visitors\"]\n",
    "ztest_groupby"
   ]
  },
  {
   "cell_type": "code",
   "execution_count": 123,
   "metadata": {},
   "outputs": [
    {
     "data": {
      "text/plain": [
       "(2.470192877618276, 0.0067520109852681675)"
      ]
     },
     "execution_count": 123,
     "metadata": {},
     "output_type": "execute_result"
    }
   ],
   "source": [
    "proportions_ztest(ztest_groupby[\"Num_Sales\"], ztest_groupby[\"Num_Visitors\"], alternative=\"larger\")"
   ]
  },
  {
   "cell_type": "code",
   "execution_count": null,
   "metadata": {},
   "outputs": [],
   "source": []
  },
  {
   "cell_type": "markdown",
   "metadata": {},
   "source": [
    "# Question 3 \n",
    "\n",
    "* Is the sale rate (proportion of visitors who make a purchase) different during promotion weeks?<br>\n",
    "\n",
    "This will require a z-test. \n",
    "\n",
    "The z-test expects 2 lists (Series, arrays) of equal length. The first is the number of \"successes\" for each group. In this case, a success is a sale. The second is the total number of observations for each group. In this case, that is the total number of visitors to the store. \n",
    "\n",
    "First, use a groupby to get a sum of the total number of sales and visitors for all promotion weeks and for all non-promotions weeks."
   ]
  },
  {
   "cell_type": "code",
   "execution_count": 104,
   "metadata": {},
   "outputs": [],
   "source": [
    "retail_promo_df = pd.read_csv('retail_promotions_seattle_01.csv')\n"
   ]
  },
  {
   "cell_type": "code",
   "execution_count": 105,
   "metadata": {},
   "outputs": [
    {
     "data": {
      "text/html": [
       "<div>\n",
       "<style scoped>\n",
       "    .dataframe tbody tr th:only-of-type {\n",
       "        vertical-align: middle;\n",
       "    }\n",
       "\n",
       "    .dataframe tbody tr th {\n",
       "        vertical-align: top;\n",
       "    }\n",
       "\n",
       "    .dataframe thead th {\n",
       "        text-align: right;\n",
       "    }\n",
       "</style>\n",
       "<table border=\"1\" class=\"dataframe\">\n",
       "  <thead>\n",
       "    <tr style=\"text-align: right;\">\n",
       "      <th></th>\n",
       "      <th>Num_Visitors</th>\n",
       "      <th>Num_Sales</th>\n",
       "    </tr>\n",
       "    <tr>\n",
       "      <th>Promo_Week</th>\n",
       "      <th></th>\n",
       "      <th></th>\n",
       "    </tr>\n",
       "  </thead>\n",
       "  <tbody>\n",
       "    <tr>\n",
       "      <td>False</td>\n",
       "      <td>250629</td>\n",
       "      <td>137872</td>\n",
       "    </tr>\n",
       "    <tr>\n",
       "      <td>True</td>\n",
       "      <td>91294</td>\n",
       "      <td>51753</td>\n",
       "    </tr>\n",
       "  </tbody>\n",
       "</table>\n",
       "</div>"
      ],
      "text/plain": [
       "            Num_Visitors  Num_Sales\n",
       "Promo_Week                         \n",
       "False             250629     137872\n",
       "True               91294      51753"
      ]
     },
     "execution_count": 105,
     "metadata": {},
     "output_type": "execute_result"
    }
   ],
   "source": [
    "total_sales_and_visitors = retail_promo_df.groupby(\"Promo_Week\").agg({\"Num_Visitors\":\"sum\",\"Num_Sales\":\"sum\"})\n",
    "total_sales_and_visitors"
   ]
  },
  {
   "cell_type": "code",
   "execution_count": null,
   "metadata": {},
   "outputs": [],
   "source": []
  },
  {
   "cell_type": "code",
   "execution_count": null,
   "metadata": {},
   "outputs": [],
   "source": []
  },
  {
   "cell_type": "code",
   "execution_count": 106,
   "metadata": {},
   "outputs": [],
   "source": [
    "# then, pass these two Series to the ztest"
   ]
  },
  {
   "cell_type": "code",
   "execution_count": null,
   "metadata": {},
   "outputs": [],
   "source": []
  },
  {
   "cell_type": "code",
   "execution_count": 4,
   "metadata": {},
   "outputs": [],
   "source": [
    "# convert Date to datetime\n",
    "retail_sales_df[\"Date\"] = pd.to_datetime(retail_sales_df.Date)\n",
    "retail_features_df[\"Date\"] = pd.to_datetime(retail_sales_df.Date)\n",
    "# convert Store and Dept to string\n",
    "retail_sales_df[\"Store\"] = retail_sales_df.Store.astype(\"str\")\n",
    "retail_sales_df[\"Dept\"] = retail_sales_df.Dept.astype(\"str\")\n",
    "retail_features_df[\"Store\"] = retail_features_df.Store.astype(\"str\")\n",
    "\n",
    "#deal with the sorting issue up front\n",
    "retail_sales_df.sort_values(\"Date\", inplace=True)\n",
    "retail_features_df.sort_values(\"Date\", inplace=True)"
   ]
  },
  {
   "cell_type": "code",
   "execution_count": 5,
   "metadata": {},
   "outputs": [
    {
     "data": {
      "text/html": [
       "<div>\n",
       "<style scoped>\n",
       "    .dataframe tbody tr th:only-of-type {\n",
       "        vertical-align: middle;\n",
       "    }\n",
       "\n",
       "    .dataframe tbody tr th {\n",
       "        vertical-align: top;\n",
       "    }\n",
       "\n",
       "    .dataframe thead th {\n",
       "        text-align: right;\n",
       "    }\n",
       "</style>\n",
       "<table border=\"1\" class=\"dataframe\">\n",
       "  <thead>\n",
       "    <tr style=\"text-align: right;\">\n",
       "      <th></th>\n",
       "      <th>Unnamed: 0</th>\n",
       "      <th>Store</th>\n",
       "      <th>Dept</th>\n",
       "      <th>Date</th>\n",
       "      <th>Weekly_Sales</th>\n",
       "      <th>IsHoliday</th>\n",
       "    </tr>\n",
       "  </thead>\n",
       "  <tbody>\n",
       "    <tr>\n",
       "      <td>0</td>\n",
       "      <td>1178</td>\n",
       "      <td>Los Angeles</td>\n",
       "      <td>Clothing</td>\n",
       "      <td>2010-01-10</td>\n",
       "      <td>27023.35</td>\n",
       "      <td>False</td>\n",
       "    </tr>\n",
       "    <tr>\n",
       "      <td>31</td>\n",
       "      <td>2751</td>\n",
       "      <td>Buffalo</td>\n",
       "      <td>Jewelry</td>\n",
       "      <td>2010-01-10</td>\n",
       "      <td>6947.26</td>\n",
       "      <td>False</td>\n",
       "    </tr>\n",
       "    <tr>\n",
       "      <td>30</td>\n",
       "      <td>1464</td>\n",
       "      <td>Los Angeles</td>\n",
       "      <td>Furniture</td>\n",
       "      <td>2010-01-10</td>\n",
       "      <td>12390.87</td>\n",
       "      <td>False</td>\n",
       "    </tr>\n",
       "    <tr>\n",
       "      <td>29</td>\n",
       "      <td>3609</td>\n",
       "      <td>Seattle</td>\n",
       "      <td>Housewares</td>\n",
       "      <td>2010-01-10</td>\n",
       "      <td>88537.23</td>\n",
       "      <td>False</td>\n",
       "    </tr>\n",
       "    <tr>\n",
       "      <td>28</td>\n",
       "      <td>463</td>\n",
       "      <td>Las Vegas</td>\n",
       "      <td>Jewelry</td>\n",
       "      <td>2010-01-10</td>\n",
       "      <td>34912.45</td>\n",
       "      <td>False</td>\n",
       "    </tr>\n",
       "  </tbody>\n",
       "</table>\n",
       "</div>"
      ],
      "text/plain": [
       "    Unnamed: 0        Store        Dept       Date  Weekly_Sales  IsHoliday\n",
       "0         1178  Los Angeles    Clothing 2010-01-10      27023.35      False\n",
       "31        2751      Buffalo     Jewelry 2010-01-10       6947.26      False\n",
       "30        1464  Los Angeles   Furniture 2010-01-10      12390.87      False\n",
       "29        3609      Seattle  Housewares 2010-01-10      88537.23      False\n",
       "28         463    Las Vegas     Jewelry 2010-01-10      34912.45      False"
      ]
     },
     "execution_count": 5,
     "metadata": {},
     "output_type": "execute_result"
    }
   ],
   "source": [
    "retail_sales_df.head()"
   ]
  },
  {
   "cell_type": "markdown",
   "metadata": {},
   "source": [
    "## Narrative -- the stores run promotions a few times a year. Your job is to determine\n",
    "a) if promotion weeks lead to greater total sales in dollars than non-promotion weeks\n",
    "b) if promotion weeks lead to a greater number of visitors to the store\n",
    "c) if promotion weeks lead to a greater proportion of people making purchases\n",
    "\n",
    "internal note: we could actually make an interesting case study that finds that customer numbers are increased, proportions are decreased, and sales are...up? down?"
   ]
  },
  {
   "cell_type": "code",
   "execution_count": 20,
   "metadata": {},
   "outputs": [],
   "source": [
    "# total sales DF \n",
    "total_sales = retail_sales_df.groupby([\"Store\", \"Date\"]).agg({\"Weekly_Sales\":\"sum\"}).reset_index()"
   ]
  },
  {
   "cell_type": "code",
   "execution_count": 21,
   "metadata": {},
   "outputs": [
    {
     "data": {
      "text/html": [
       "<div>\n",
       "<style scoped>\n",
       "    .dataframe tbody tr th:only-of-type {\n",
       "        vertical-align: middle;\n",
       "    }\n",
       "\n",
       "    .dataframe tbody tr th {\n",
       "        vertical-align: top;\n",
       "    }\n",
       "\n",
       "    .dataframe thead th {\n",
       "        text-align: right;\n",
       "    }\n",
       "</style>\n",
       "<table border=\"1\" class=\"dataframe\">\n",
       "  <thead>\n",
       "    <tr style=\"text-align: right;\">\n",
       "      <th></th>\n",
       "      <th>Store</th>\n",
       "      <th>Date</th>\n",
       "      <th>Weekly_Sales</th>\n",
       "    </tr>\n",
       "  </thead>\n",
       "  <tbody>\n",
       "    <tr>\n",
       "      <td>0</td>\n",
       "      <td>Buffalo</td>\n",
       "      <td>2010-01-10</td>\n",
       "      <td>53827.15</td>\n",
       "    </tr>\n",
       "    <tr>\n",
       "      <td>1</td>\n",
       "      <td>Buffalo</td>\n",
       "      <td>2010-02-04</td>\n",
       "      <td>72078.00</td>\n",
       "    </tr>\n",
       "    <tr>\n",
       "      <td>2</td>\n",
       "      <td>Buffalo</td>\n",
       "      <td>2010-02-07</td>\n",
       "      <td>57671.21</td>\n",
       "    </tr>\n",
       "    <tr>\n",
       "      <td>3</td>\n",
       "      <td>Buffalo</td>\n",
       "      <td>2010-02-19</td>\n",
       "      <td>70042.38</td>\n",
       "    </tr>\n",
       "    <tr>\n",
       "      <td>4</td>\n",
       "      <td>Buffalo</td>\n",
       "      <td>2010-02-26</td>\n",
       "      <td>62925.05</td>\n",
       "    </tr>\n",
       "    <tr>\n",
       "      <td>...</td>\n",
       "      <td>...</td>\n",
       "      <td>...</td>\n",
       "      <td>...</td>\n",
       "    </tr>\n",
       "    <tr>\n",
       "      <td>567</td>\n",
       "      <td>Seattle</td>\n",
       "      <td>2012-10-08</td>\n",
       "      <td>387550.68</td>\n",
       "    </tr>\n",
       "    <tr>\n",
       "      <td>568</td>\n",
       "      <td>Seattle</td>\n",
       "      <td>2012-10-19</td>\n",
       "      <td>374977.90</td>\n",
       "    </tr>\n",
       "    <tr>\n",
       "      <td>569</td>\n",
       "      <td>Seattle</td>\n",
       "      <td>2012-10-26</td>\n",
       "      <td>382662.25</td>\n",
       "    </tr>\n",
       "    <tr>\n",
       "      <td>570</td>\n",
       "      <td>Seattle</td>\n",
       "      <td>2012-11-05</td>\n",
       "      <td>342123.40</td>\n",
       "    </tr>\n",
       "    <tr>\n",
       "      <td>571</td>\n",
       "      <td>Seattle</td>\n",
       "      <td>2012-12-10</td>\n",
       "      <td>358828.90</td>\n",
       "    </tr>\n",
       "  </tbody>\n",
       "</table>\n",
       "<p>572 rows × 3 columns</p>\n",
       "</div>"
      ],
      "text/plain": [
       "       Store       Date  Weekly_Sales\n",
       "0    Buffalo 2010-01-10      53827.15\n",
       "1    Buffalo 2010-02-04      72078.00\n",
       "2    Buffalo 2010-02-07      57671.21\n",
       "3    Buffalo 2010-02-19      70042.38\n",
       "4    Buffalo 2010-02-26      62925.05\n",
       "..       ...        ...           ...\n",
       "567  Seattle 2012-10-08     387550.68\n",
       "568  Seattle 2012-10-19     374977.90\n",
       "569  Seattle 2012-10-26     382662.25\n",
       "570  Seattle 2012-11-05     342123.40\n",
       "571  Seattle 2012-12-10     358828.90\n",
       "\n",
       "[572 rows x 3 columns]"
      ]
     },
     "execution_count": 21,
     "metadata": {},
     "output_type": "execute_result"
    }
   ],
   "source": [
    "total_sales"
   ]
  },
  {
   "cell_type": "code",
   "execution_count": 355,
   "metadata": {},
   "outputs": [
    {
     "data": {
      "text/plain": [
       "<matplotlib.axes._subplots.AxesSubplot at 0x7ff9566ab950>"
      ]
     },
     "execution_count": 355,
     "metadata": {},
     "output_type": "execute_result"
    },
    {
     "data": {
      "image/png": "[encoded data removed]",
      "text/plain": [
       "<Figure size 432x288 with 1 Axes>"
      ]
     },
     "metadata": {},
     "output_type": "display_data"
    }
   ],
   "source": [
    "sns.violinplot(data=total_sales, x=\"Store\", y=\"Weekly_Sales\")"
   ]
  },
  {
   "cell_type": "code",
   "execution_count": 356,
   "metadata": {},
   "outputs": [],
   "source": [
    "# let's just do Seattle\n",
    "total_sales_sea = total_sales.loc[total_sales[\"Store\"]==\"Seattle\"\n",
    "                            ].loc[total_sales[\"Date\"]>pd.to_datetime('6/30/10')\n",
    "                            ].loc[total_sales[\"Date\"]<pd.to_datetime('7/1/12')]\n",
    "\n",
    "total_sales_sea.reset_index(inplace=True)"
   ]
  },
  {
   "cell_type": "code",
   "execution_count": 357,
   "metadata": {},
   "outputs": [],
   "source": [
    "total_sales_sea_by_ws = total_sales_sea.sort_values(\"Weekly_Sales\", ascending=False)"
   ]
  },
  {
   "cell_type": "code",
   "execution_count": 358,
   "metadata": {},
   "outputs": [],
   "source": [
    "s1 = np.random.choice(total_sales_sea_by_ws.Date[:30], 15)\n",
    "s2 = np.random.choice(total_sales_sea_by_ws.Date[30:60], 10)\n",
    "s3 = np.random.choice(total_sales_sea_by_ws.Date[60:], 5)\n",
    "promo_dates = pd.Series(np.concatenate((s1, s2, s3)))\n",
    "non_promo_dates = np.setdiff1d(total_sales_sea_by_ws.Date, promo_dates)"
   ]
  },
  {
   "cell_type": "code",
   "execution_count": 359,
   "metadata": {},
   "outputs": [],
   "source": [
    "promo_sea = total_sales_sea_by_ws.loc[total_sales_sea_by_ws[\"Date\"].isin(promo_dates)]\n",
    "non_promo_sea = total_sales_sea_by_ws.loc[total_sales_sea_by_ws[\"Date\"].isin(non_promo_dates)]\n",
    "\n",
    "\n"
   ]
  },
  {
   "cell_type": "code",
   "execution_count": 360,
   "metadata": {},
   "outputs": [
    {
     "data": {
      "text/html": [
       "<div>\n",
       "<style scoped>\n",
       "    .dataframe tbody tr th:only-of-type {\n",
       "        vertical-align: middle;\n",
       "    }\n",
       "\n",
       "    .dataframe tbody tr th {\n",
       "        vertical-align: top;\n",
       "    }\n",
       "\n",
       "    .dataframe thead th {\n",
       "        text-align: right;\n",
       "    }\n",
       "</style>\n",
       "<table border=\"1\" class=\"dataframe\">\n",
       "  <thead>\n",
       "    <tr style=\"text-align: right;\">\n",
       "      <th></th>\n",
       "      <th>index</th>\n",
       "      <th>Store</th>\n",
       "      <th>Date</th>\n",
       "      <th>Weekly_Sales</th>\n",
       "    </tr>\n",
       "  </thead>\n",
       "  <tbody>\n",
       "    <tr>\n",
       "      <td>23</td>\n",
       "      <td>474</td>\n",
       "      <td>Seattle</td>\n",
       "      <td>2010-12-17</td>\n",
       "      <td>660804.16</td>\n",
       "    </tr>\n",
       "    <tr>\n",
       "      <td>19</td>\n",
       "      <td>470</td>\n",
       "      <td>Seattle</td>\n",
       "      <td>2010-11-26</td>\n",
       "      <td>560862.19</td>\n",
       "    </tr>\n",
       "    <tr>\n",
       "      <td>13</td>\n",
       "      <td>464</td>\n",
       "      <td>Seattle</td>\n",
       "      <td>2010-10-12</td>\n",
       "      <td>507088.33</td>\n",
       "    </tr>\n",
       "    <tr>\n",
       "      <td>32</td>\n",
       "      <td>483</td>\n",
       "      <td>Seattle</td>\n",
       "      <td>2011-02-12</td>\n",
       "      <td>411965.74</td>\n",
       "    </tr>\n",
       "    <tr>\n",
       "      <td>68</td>\n",
       "      <td>519</td>\n",
       "      <td>Seattle</td>\n",
       "      <td>2011-10-28</td>\n",
       "      <td>397699.44</td>\n",
       "    </tr>\n",
       "    <tr>\n",
       "      <td>5</td>\n",
       "      <td>456</td>\n",
       "      <td>Seattle</td>\n",
       "      <td>2010-08-13</td>\n",
       "      <td>391208.18</td>\n",
       "    </tr>\n",
       "    <tr>\n",
       "      <td>72</td>\n",
       "      <td>523</td>\n",
       "      <td>Seattle</td>\n",
       "      <td>2011-11-18</td>\n",
       "      <td>388421.78</td>\n",
       "    </tr>\n",
       "    <tr>\n",
       "      <td>20</td>\n",
       "      <td>471</td>\n",
       "      <td>Seattle</td>\n",
       "      <td>2010-12-02</td>\n",
       "      <td>387200.05</td>\n",
       "    </tr>\n",
       "    <tr>\n",
       "      <td>6</td>\n",
       "      <td>457</td>\n",
       "      <td>Seattle</td>\n",
       "      <td>2010-08-20</td>\n",
       "      <td>385092.46</td>\n",
       "    </tr>\n",
       "    <tr>\n",
       "      <td>86</td>\n",
       "      <td>537</td>\n",
       "      <td>Seattle</td>\n",
       "      <td>2012-03-08</td>\n",
       "      <td>384843.78</td>\n",
       "    </tr>\n",
       "    <tr>\n",
       "      <td>84</td>\n",
       "      <td>535</td>\n",
       "      <td>Seattle</td>\n",
       "      <td>2012-02-24</td>\n",
       "      <td>380841.41</td>\n",
       "    </tr>\n",
       "    <tr>\n",
       "      <td>77</td>\n",
       "      <td>528</td>\n",
       "      <td>Seattle</td>\n",
       "      <td>2011-12-30</td>\n",
       "      <td>380439.25</td>\n",
       "    </tr>\n",
       "    <tr>\n",
       "      <td>16</td>\n",
       "      <td>467</td>\n",
       "      <td>Seattle</td>\n",
       "      <td>2010-10-29</td>\n",
       "      <td>366945.91</td>\n",
       "    </tr>\n",
       "    <tr>\n",
       "      <td>31</td>\n",
       "      <td>482</td>\n",
       "      <td>Seattle</td>\n",
       "      <td>2011-02-09</td>\n",
       "      <td>360044.02</td>\n",
       "    </tr>\n",
       "    <tr>\n",
       "      <td>27</td>\n",
       "      <td>478</td>\n",
       "      <td>Seattle</td>\n",
       "      <td>2011-01-07</td>\n",
       "      <td>358900.02</td>\n",
       "    </tr>\n",
       "    <tr>\n",
       "      <td>36</td>\n",
       "      <td>487</td>\n",
       "      <td>Seattle</td>\n",
       "      <td>2011-03-18</td>\n",
       "      <td>355048.95</td>\n",
       "    </tr>\n",
       "    <tr>\n",
       "      <td>102</td>\n",
       "      <td>553</td>\n",
       "      <td>Seattle</td>\n",
       "      <td>2012-06-29</td>\n",
       "      <td>353550.95</td>\n",
       "    </tr>\n",
       "    <tr>\n",
       "      <td>60</td>\n",
       "      <td>511</td>\n",
       "      <td>Seattle</td>\n",
       "      <td>2011-09-09</td>\n",
       "      <td>352661.06</td>\n",
       "    </tr>\n",
       "    <tr>\n",
       "      <td>15</td>\n",
       "      <td>466</td>\n",
       "      <td>Seattle</td>\n",
       "      <td>2010-10-22</td>\n",
       "      <td>351789.58</td>\n",
       "    </tr>\n",
       "    <tr>\n",
       "      <td>53</td>\n",
       "      <td>504</td>\n",
       "      <td>Seattle</td>\n",
       "      <td>2011-07-15</td>\n",
       "      <td>347060.42</td>\n",
       "    </tr>\n",
       "    <tr>\n",
       "      <td>7</td>\n",
       "      <td>458</td>\n",
       "      <td>Seattle</td>\n",
       "      <td>2010-08-27</td>\n",
       "      <td>344421.14</td>\n",
       "    </tr>\n",
       "    <tr>\n",
       "      <td>47</td>\n",
       "      <td>498</td>\n",
       "      <td>Seattle</td>\n",
       "      <td>2011-05-27</td>\n",
       "      <td>343607.97</td>\n",
       "    </tr>\n",
       "    <tr>\n",
       "      <td>0</td>\n",
       "      <td>451</td>\n",
       "      <td>Seattle</td>\n",
       "      <td>2010-07-05</td>\n",
       "      <td>335237.34</td>\n",
       "    </tr>\n",
       "    <tr>\n",
       "      <td>28</td>\n",
       "      <td>479</td>\n",
       "      <td>Seattle</td>\n",
       "      <td>2011-01-14</td>\n",
       "      <td>316552.83</td>\n",
       "    </tr>\n",
       "  </tbody>\n",
       "</table>\n",
       "</div>"
      ],
      "text/plain": [
       "     index    Store       Date  Weekly_Sales\n",
       "23     474  Seattle 2010-12-17     660804.16\n",
       "19     470  Seattle 2010-11-26     560862.19\n",
       "13     464  Seattle 2010-10-12     507088.33\n",
       "32     483  Seattle 2011-02-12     411965.74\n",
       "68     519  Seattle 2011-10-28     397699.44\n",
       "5      456  Seattle 2010-08-13     391208.18\n",
       "72     523  Seattle 2011-11-18     388421.78\n",
       "20     471  Seattle 2010-12-02     387200.05\n",
       "6      457  Seattle 2010-08-20     385092.46\n",
       "86     537  Seattle 2012-03-08     384843.78\n",
       "84     535  Seattle 2012-02-24     380841.41\n",
       "77     528  Seattle 2011-12-30     380439.25\n",
       "16     467  Seattle 2010-10-29     366945.91\n",
       "31     482  Seattle 2011-02-09     360044.02\n",
       "27     478  Seattle 2011-01-07     358900.02\n",
       "36     487  Seattle 2011-03-18     355048.95\n",
       "102    553  Seattle 2012-06-29     353550.95\n",
       "60     511  Seattle 2011-09-09     352661.06\n",
       "15     466  Seattle 2010-10-22     351789.58\n",
       "53     504  Seattle 2011-07-15     347060.42\n",
       "7      458  Seattle 2010-08-27     344421.14\n",
       "47     498  Seattle 2011-05-27     343607.97\n",
       "0      451  Seattle 2010-07-05     335237.34\n",
       "28     479  Seattle 2011-01-14     316552.83"
      ]
     },
     "execution_count": 360,
     "metadata": {},
     "output_type": "execute_result"
    }
   ],
   "source": [
    "promo_sea\n"
   ]
  },
  {
   "cell_type": "code",
   "execution_count": null,
   "metadata": {},
   "outputs": [],
   "source": []
  },
  {
   "cell_type": "code",
   "execution_count": 361,
   "metadata": {},
   "outputs": [],
   "source": [
    "ave_promo_spend = 220\n",
    "ave_non_promo_spend = 200\n",
    "sd = 20\n",
    "\n",
    "promo_spends = np.random.normal(ave_promo_spend, sd, len(promo_sea)).round(2)\n",
    "non_promo_spends = np.random.normal(ave_non_promo_spend, sd, len(non_promo_sea)).round(2)"
   ]
  },
  {
   "cell_type": "code",
   "execution_count": 362,
   "metadata": {},
   "outputs": [
    {
     "name": "stderr",
     "output_type": "stream",
     "text": [
      "/Users/caldermyers/opt/anaconda3/lib/python3.7/site-packages/ipykernel_launcher.py:3: SettingWithCopyWarning: \n",
      "A value is trying to be set on a copy of a slice from a DataFrame.\n",
      "Try using .loc[row_indexer,col_indexer] = value instead\n",
      "\n",
      "See the caveats in the documentation: http://pandas.pydata.org/pandas-docs/stable/user_guide/indexing.html#returning-a-view-versus-a-copy\n",
      "  This is separate from the ipykernel package so we can avoid doing imports until\n"
     ]
    }
   ],
   "source": [
    "non_paying_promo = np.random.normal(1500, 300, size=len(promo_spends))\n",
    "promo_sea[\"Num_Customers\"] = ((promo_sea.Weekly_Sales / promo_spends).round().astype(int) + \n",
    "                              non_paying_promo).astype(int)"
   ]
  },
  {
   "cell_type": "code",
   "execution_count": 363,
   "metadata": {},
   "outputs": [
    {
     "name": "stderr",
     "output_type": "stream",
     "text": [
      "/Users/caldermyers/opt/anaconda3/lib/python3.7/site-packages/ipykernel_launcher.py:4: SettingWithCopyWarning: \n",
      "A value is trying to be set on a copy of a slice from a DataFrame.\n",
      "Try using .loc[row_indexer,col_indexer] = value instead\n",
      "\n",
      "See the caveats in the documentation: http://pandas.pydata.org/pandas-docs/stable/user_guide/indexing.html#returning-a-view-versus-a-copy\n",
      "  after removing the cwd from sys.path.\n"
     ]
    }
   ],
   "source": [
    "non_paying_non_promo = np.random.normal(1000, 400, size=len(non_promo_spends))\n",
    "\n",
    "non_promo_sea[\"Num_Customers\"] = ((non_promo_sea.Weekly_Sales / non_promo_spends).round().astype(int) + \n",
    "                                  non_paying_non_promo).astype(int)\n"
   ]
  },
  {
   "cell_type": "code",
   "execution_count": 364,
   "metadata": {},
   "outputs": [
    {
     "name": "stderr",
     "output_type": "stream",
     "text": [
      "/Users/caldermyers/opt/anaconda3/lib/python3.7/site-packages/ipykernel_launcher.py:1: SettingWithCopyWarning: \n",
      "A value is trying to be set on a copy of a slice from a DataFrame.\n",
      "Try using .loc[row_indexer,col_indexer] = value instead\n",
      "\n",
      "See the caveats in the documentation: http://pandas.pydata.org/pandas-docs/stable/user_guide/indexing.html#returning-a-view-versus-a-copy\n",
      "  \"\"\"Entry point for launching an IPython kernel.\n",
      "/Users/caldermyers/opt/anaconda3/lib/python3.7/site-packages/ipykernel_launcher.py:2: SettingWithCopyWarning: \n",
      "A value is trying to be set on a copy of a slice from a DataFrame.\n",
      "Try using .loc[row_indexer,col_indexer] = value instead\n",
      "\n",
      "See the caveats in the documentation: http://pandas.pydata.org/pandas-docs/stable/user_guide/indexing.html#returning-a-view-versus-a-copy\n",
      "  \n",
      "/Users/caldermyers/opt/anaconda3/lib/python3.7/site-packages/ipykernel_launcher.py:4: SettingWithCopyWarning: \n",
      "A value is trying to be set on a copy of a slice from a DataFrame.\n",
      "Try using .loc[row_indexer,col_indexer] = value instead\n",
      "\n",
      "See the caveats in the documentation: http://pandas.pydata.org/pandas-docs/stable/user_guide/indexing.html#returning-a-view-versus-a-copy\n",
      "  after removing the cwd from sys.path.\n",
      "/Users/caldermyers/opt/anaconda3/lib/python3.7/site-packages/ipykernel_launcher.py:5: SettingWithCopyWarning: \n",
      "A value is trying to be set on a copy of a slice from a DataFrame.\n",
      "Try using .loc[row_indexer,col_indexer] = value instead\n",
      "\n",
      "See the caveats in the documentation: http://pandas.pydata.org/pandas-docs/stable/user_guide/indexing.html#returning-a-view-versus-a-copy\n",
      "  \"\"\"\n"
     ]
    }
   ],
   "source": [
    "promo_sea[\"Promo_Week\"] = True\n",
    "non_promo_sea[\"Promo_Week\"] = False\n",
    "\n",
    "promo_sea[\"Num_Sales\"] = (promo_sea.Num_Customers - non_paying_promo).astype(int)\n",
    "non_promo_sea[\"Num_Sales\"] = (non_promo_sea.Num_Customers - non_paying_non_promo).astype(int)\n",
    "\n",
    "retail_promotions_df = pd.concat([promo_sea, non_promo_sea]).reset_index(drop=True).sort_values(\"Date\")"
   ]
  },
  {
   "cell_type": "code",
   "execution_count": 365,
   "metadata": {},
   "outputs": [],
   "source": [
    "retail_promotions_df.drop(retail_promotions_df.columns[0], axis=1, inplace=True)\n",
    "retail_promotions_df[\"Num_Visitors\"] = retail_promotions_df.Num_Customers"
   ]
  },
  {
   "cell_type": "code",
   "execution_count": 366,
   "metadata": {},
   "outputs": [
    {
     "data": {
      "text/html": [
       "<div>\n",
       "<style scoped>\n",
       "    .dataframe tbody tr th:only-of-type {\n",
       "        vertical-align: middle;\n",
       "    }\n",
       "\n",
       "    .dataframe tbody tr th {\n",
       "        vertical-align: top;\n",
       "    }\n",
       "\n",
       "    .dataframe thead th {\n",
       "        text-align: right;\n",
       "    }\n",
       "</style>\n",
       "<table border=\"1\" class=\"dataframe\">\n",
       "  <thead>\n",
       "    <tr style=\"text-align: right;\">\n",
       "      <th></th>\n",
       "      <th>Store</th>\n",
       "      <th>Date</th>\n",
       "      <th>Weekly_Sales</th>\n",
       "      <th>Num_Customers</th>\n",
       "      <th>Promo_Week</th>\n",
       "      <th>Num_Sales</th>\n",
       "      <th>Num_Visitors</th>\n",
       "    </tr>\n",
       "  </thead>\n",
       "  <tbody>\n",
       "    <tr>\n",
       "      <td>22</td>\n",
       "      <td>Seattle</td>\n",
       "      <td>2010-07-05</td>\n",
       "      <td>335237.34</td>\n",
       "      <td>3275</td>\n",
       "      <td>True</td>\n",
       "      <td>1515</td>\n",
       "      <td>3275</td>\n",
       "    </tr>\n",
       "    <tr>\n",
       "      <td>88</td>\n",
       "      <td>Seattle</td>\n",
       "      <td>2010-07-16</td>\n",
       "      <td>330525.74</td>\n",
       "      <td>2843</td>\n",
       "      <td>False</td>\n",
       "      <td>1889</td>\n",
       "      <td>2843</td>\n",
       "    </tr>\n",
       "    <tr>\n",
       "      <td>96</td>\n",
       "      <td>Seattle</td>\n",
       "      <td>2010-07-23</td>\n",
       "      <td>323996.64</td>\n",
       "      <td>1966</td>\n",
       "      <td>False</td>\n",
       "      <td>1589</td>\n",
       "      <td>1966</td>\n",
       "    </tr>\n",
       "    <tr>\n",
       "      <td>72</td>\n",
       "      <td>Seattle</td>\n",
       "      <td>2010-07-30</td>\n",
       "      <td>344366.33</td>\n",
       "      <td>2696</td>\n",
       "      <td>False</td>\n",
       "      <td>1761</td>\n",
       "      <td>2696</td>\n",
       "    </tr>\n",
       "    <tr>\n",
       "      <td>70</td>\n",
       "      <td>Seattle</td>\n",
       "      <td>2010-08-10</td>\n",
       "      <td>345812.75</td>\n",
       "      <td>2714</td>\n",
       "      <td>False</td>\n",
       "      <td>1789</td>\n",
       "      <td>2714</td>\n",
       "    </tr>\n",
       "    <tr>\n",
       "      <td>...</td>\n",
       "      <td>...</td>\n",
       "      <td>...</td>\n",
       "      <td>...</td>\n",
       "      <td>...</td>\n",
       "      <td>...</td>\n",
       "      <td>...</td>\n",
       "      <td>...</td>\n",
       "    </tr>\n",
       "    <tr>\n",
       "      <td>29</td>\n",
       "      <td>Seattle</td>\n",
       "      <td>2012-06-04</td>\n",
       "      <td>451403.30</td>\n",
       "      <td>3579</td>\n",
       "      <td>False</td>\n",
       "      <td>2017</td>\n",
       "      <td>3579</td>\n",
       "    </tr>\n",
       "    <tr>\n",
       "      <td>46</td>\n",
       "      <td>Seattle</td>\n",
       "      <td>2012-06-07</td>\n",
       "      <td>368294.20</td>\n",
       "      <td>2219</td>\n",
       "      <td>False</td>\n",
       "      <td>1737</td>\n",
       "      <td>2219</td>\n",
       "    </tr>\n",
       "    <tr>\n",
       "      <td>50</td>\n",
       "      <td>Seattle</td>\n",
       "      <td>2012-06-15</td>\n",
       "      <td>364960.21</td>\n",
       "      <td>3073</td>\n",
       "      <td>False</td>\n",
       "      <td>1882</td>\n",
       "      <td>3073</td>\n",
       "    </tr>\n",
       "    <tr>\n",
       "      <td>61</td>\n",
       "      <td>Seattle</td>\n",
       "      <td>2012-06-22</td>\n",
       "      <td>355789.41</td>\n",
       "      <td>3886</td>\n",
       "      <td>False</td>\n",
       "      <td>1738</td>\n",
       "      <td>3886</td>\n",
       "    </tr>\n",
       "    <tr>\n",
       "      <td>16</td>\n",
       "      <td>Seattle</td>\n",
       "      <td>2012-06-29</td>\n",
       "      <td>353550.95</td>\n",
       "      <td>2828</td>\n",
       "      <td>True</td>\n",
       "      <td>1553</td>\n",
       "      <td>2828</td>\n",
       "    </tr>\n",
       "  </tbody>\n",
       "</table>\n",
       "<p>103 rows × 7 columns</p>\n",
       "</div>"
      ],
      "text/plain": [
       "      Store       Date  Weekly_Sales  Num_Customers  Promo_Week  Num_Sales  \\\n",
       "22  Seattle 2010-07-05     335237.34           3275        True       1515   \n",
       "88  Seattle 2010-07-16     330525.74           2843       False       1889   \n",
       "96  Seattle 2010-07-23     323996.64           1966       False       1589   \n",
       "72  Seattle 2010-07-30     344366.33           2696       False       1761   \n",
       "70  Seattle 2010-08-10     345812.75           2714       False       1789   \n",
       "..      ...        ...           ...            ...         ...        ...   \n",
       "29  Seattle 2012-06-04     451403.30           3579       False       2017   \n",
       "46  Seattle 2012-06-07     368294.20           2219       False       1737   \n",
       "50  Seattle 2012-06-15     364960.21           3073       False       1882   \n",
       "61  Seattle 2012-06-22     355789.41           3886       False       1738   \n",
       "16  Seattle 2012-06-29     353550.95           2828        True       1553   \n",
       "\n",
       "    Num_Visitors  \n",
       "22          3275  \n",
       "88          2843  \n",
       "96          1966  \n",
       "72          2696  \n",
       "70          2714  \n",
       "..           ...  \n",
       "29          3579  \n",
       "46          2219  \n",
       "50          3073  \n",
       "61          3886  \n",
       "16          2828  \n",
       "\n",
       "[103 rows x 7 columns]"
      ]
     },
     "execution_count": 366,
     "metadata": {},
     "output_type": "execute_result"
    }
   ],
   "source": [
    "retail_promotions_df"
   ]
  },
  {
   "cell_type": "code",
   "execution_count": 367,
   "metadata": {},
   "outputs": [],
   "source": [
    "retail_promotions_df = retail_promotions_df[[\"Store\", \"Date\", \"Num_Visitors\", \"Num_Sales\", \"Weekly_Sales\", \"Promo_Week\"]]"
   ]
  },
  {
   "cell_type": "code",
   "execution_count": null,
   "metadata": {},
   "outputs": [],
   "source": []
  },
  {
   "cell_type": "code",
   "execution_count": 368,
   "metadata": {},
   "outputs": [
    {
     "data": {
      "text/html": [
       "<div>\n",
       "<style scoped>\n",
       "    .dataframe tbody tr th:only-of-type {\n",
       "        vertical-align: middle;\n",
       "    }\n",
       "\n",
       "    .dataframe tbody tr th {\n",
       "        vertical-align: top;\n",
       "    }\n",
       "\n",
       "    .dataframe thead th {\n",
       "        text-align: right;\n",
       "    }\n",
       "</style>\n",
       "<table border=\"1\" class=\"dataframe\">\n",
       "  <thead>\n",
       "    <tr style=\"text-align: right;\">\n",
       "      <th></th>\n",
       "      <th>Store</th>\n",
       "      <th>Date</th>\n",
       "      <th>Num_Visitors</th>\n",
       "      <th>Num_Sales</th>\n",
       "      <th>Weekly_Sales</th>\n",
       "      <th>Promo_Week</th>\n",
       "    </tr>\n",
       "  </thead>\n",
       "  <tbody>\n",
       "    <tr>\n",
       "      <td>22</td>\n",
       "      <td>Seattle</td>\n",
       "      <td>2010-07-05</td>\n",
       "      <td>3275</td>\n",
       "      <td>1515</td>\n",
       "      <td>335237.34</td>\n",
       "      <td>True</td>\n",
       "    </tr>\n",
       "    <tr>\n",
       "      <td>88</td>\n",
       "      <td>Seattle</td>\n",
       "      <td>2010-07-16</td>\n",
       "      <td>2843</td>\n",
       "      <td>1889</td>\n",
       "      <td>330525.74</td>\n",
       "      <td>False</td>\n",
       "    </tr>\n",
       "    <tr>\n",
       "      <td>96</td>\n",
       "      <td>Seattle</td>\n",
       "      <td>2010-07-23</td>\n",
       "      <td>1966</td>\n",
       "      <td>1589</td>\n",
       "      <td>323996.64</td>\n",
       "      <td>False</td>\n",
       "    </tr>\n",
       "    <tr>\n",
       "      <td>72</td>\n",
       "      <td>Seattle</td>\n",
       "      <td>2010-07-30</td>\n",
       "      <td>2696</td>\n",
       "      <td>1761</td>\n",
       "      <td>344366.33</td>\n",
       "      <td>False</td>\n",
       "    </tr>\n",
       "    <tr>\n",
       "      <td>70</td>\n",
       "      <td>Seattle</td>\n",
       "      <td>2010-08-10</td>\n",
       "      <td>2714</td>\n",
       "      <td>1789</td>\n",
       "      <td>345812.75</td>\n",
       "      <td>False</td>\n",
       "    </tr>\n",
       "    <tr>\n",
       "      <td>...</td>\n",
       "      <td>...</td>\n",
       "      <td>...</td>\n",
       "      <td>...</td>\n",
       "      <td>...</td>\n",
       "      <td>...</td>\n",
       "      <td>...</td>\n",
       "    </tr>\n",
       "    <tr>\n",
       "      <td>29</td>\n",
       "      <td>Seattle</td>\n",
       "      <td>2012-06-04</td>\n",
       "      <td>3579</td>\n",
       "      <td>2017</td>\n",
       "      <td>451403.30</td>\n",
       "      <td>False</td>\n",
       "    </tr>\n",
       "    <tr>\n",
       "      <td>46</td>\n",
       "      <td>Seattle</td>\n",
       "      <td>2012-06-07</td>\n",
       "      <td>2219</td>\n",
       "      <td>1737</td>\n",
       "      <td>368294.20</td>\n",
       "      <td>False</td>\n",
       "    </tr>\n",
       "    <tr>\n",
       "      <td>50</td>\n",
       "      <td>Seattle</td>\n",
       "      <td>2012-06-15</td>\n",
       "      <td>3073</td>\n",
       "      <td>1882</td>\n",
       "      <td>364960.21</td>\n",
       "      <td>False</td>\n",
       "    </tr>\n",
       "    <tr>\n",
       "      <td>61</td>\n",
       "      <td>Seattle</td>\n",
       "      <td>2012-06-22</td>\n",
       "      <td>3886</td>\n",
       "      <td>1738</td>\n",
       "      <td>355789.41</td>\n",
       "      <td>False</td>\n",
       "    </tr>\n",
       "    <tr>\n",
       "      <td>16</td>\n",
       "      <td>Seattle</td>\n",
       "      <td>2012-06-29</td>\n",
       "      <td>2828</td>\n",
       "      <td>1553</td>\n",
       "      <td>353550.95</td>\n",
       "      <td>True</td>\n",
       "    </tr>\n",
       "  </tbody>\n",
       "</table>\n",
       "<p>103 rows × 6 columns</p>\n",
       "</div>"
      ],
      "text/plain": [
       "      Store       Date  Num_Visitors  Num_Sales  Weekly_Sales  Promo_Week\n",
       "22  Seattle 2010-07-05          3275       1515     335237.34        True\n",
       "88  Seattle 2010-07-16          2843       1889     330525.74       False\n",
       "96  Seattle 2010-07-23          1966       1589     323996.64       False\n",
       "72  Seattle 2010-07-30          2696       1761     344366.33       False\n",
       "70  Seattle 2010-08-10          2714       1789     345812.75       False\n",
       "..      ...        ...           ...        ...           ...         ...\n",
       "29  Seattle 2012-06-04          3579       2017     451403.30       False\n",
       "46  Seattle 2012-06-07          2219       1737     368294.20       False\n",
       "50  Seattle 2012-06-15          3073       1882     364960.21       False\n",
       "61  Seattle 2012-06-22          3886       1738     355789.41       False\n",
       "16  Seattle 2012-06-29          2828       1553     353550.95        True\n",
       "\n",
       "[103 rows x 6 columns]"
      ]
     },
     "execution_count": 368,
     "metadata": {},
     "output_type": "execute_result"
    }
   ],
   "source": [
    "retail_promotions_df"
   ]
  },
  {
   "cell_type": "code",
   "execution_count": 369,
   "metadata": {},
   "outputs": [],
   "source": [
    "retail_promotions_df.to_csv('retail_promotions_seattle.csv', index=False)"
   ]
  },
  {
   "cell_type": "markdown",
   "metadata": {},
   "source": [
    "# What will this look like from the beginning?"
   ]
  },
  {
   "cell_type": "code",
   "execution_count": 370,
   "metadata": {},
   "outputs": [],
   "source": [
    "seattle_promos_df = pd.read_csv('retail_promotions_seattle.csv')"
   ]
  },
  {
   "cell_type": "code",
   "execution_count": 371,
   "metadata": {},
   "outputs": [
    {
     "name": "stdout",
     "output_type": "stream",
     "text": [
      "<class 'pandas.core.frame.DataFrame'>\n",
      "RangeIndex: 103 entries, 0 to 102\n",
      "Data columns (total 6 columns):\n",
      "Store           103 non-null object\n",
      "Date            103 non-null object\n",
      "Num_Visitors    103 non-null int64\n",
      "Num_Sales       103 non-null int64\n",
      "Weekly_Sales    103 non-null float64\n",
      "Promo_Week      103 non-null bool\n",
      "dtypes: bool(1), float64(1), int64(2), object(2)\n",
      "memory usage: 4.2+ KB\n"
     ]
    }
   ],
   "source": [
    "seattle_promos_df.info()"
   ]
  },
  {
   "cell_type": "code",
   "execution_count": 372,
   "metadata": {},
   "outputs": [],
   "source": [
    "seattle_promos_df[\"Date\"] = pd.to_datetime(seattle_promos_df.Date)"
   ]
  },
  {
   "cell_type": "code",
   "execution_count": 373,
   "metadata": {
    "scrolled": true
   },
   "outputs": [
    {
     "data": {
      "text/html": [
       "<div>\n",
       "<style scoped>\n",
       "    .dataframe tbody tr th:only-of-type {\n",
       "        vertical-align: middle;\n",
       "    }\n",
       "\n",
       "    .dataframe tbody tr th {\n",
       "        vertical-align: top;\n",
       "    }\n",
       "\n",
       "    .dataframe thead th {\n",
       "        text-align: right;\n",
       "    }\n",
       "</style>\n",
       "<table border=\"1\" class=\"dataframe\">\n",
       "  <thead>\n",
       "    <tr style=\"text-align: right;\">\n",
       "      <th></th>\n",
       "      <th>Store</th>\n",
       "      <th>Date</th>\n",
       "      <th>Num_Visitors</th>\n",
       "      <th>Num_Sales</th>\n",
       "      <th>Weekly_Sales</th>\n",
       "      <th>Promo_Week</th>\n",
       "    </tr>\n",
       "  </thead>\n",
       "  <tbody>\n",
       "    <tr>\n",
       "      <td>0</td>\n",
       "      <td>Seattle</td>\n",
       "      <td>2010-07-05</td>\n",
       "      <td>3275</td>\n",
       "      <td>1515</td>\n",
       "      <td>335237.34</td>\n",
       "      <td>True</td>\n",
       "    </tr>\n",
       "    <tr>\n",
       "      <td>1</td>\n",
       "      <td>Seattle</td>\n",
       "      <td>2010-07-16</td>\n",
       "      <td>2843</td>\n",
       "      <td>1889</td>\n",
       "      <td>330525.74</td>\n",
       "      <td>False</td>\n",
       "    </tr>\n",
       "    <tr>\n",
       "      <td>2</td>\n",
       "      <td>Seattle</td>\n",
       "      <td>2010-07-23</td>\n",
       "      <td>1966</td>\n",
       "      <td>1589</td>\n",
       "      <td>323996.64</td>\n",
       "      <td>False</td>\n",
       "    </tr>\n",
       "    <tr>\n",
       "      <td>3</td>\n",
       "      <td>Seattle</td>\n",
       "      <td>2010-07-30</td>\n",
       "      <td>2696</td>\n",
       "      <td>1761</td>\n",
       "      <td>344366.33</td>\n",
       "      <td>False</td>\n",
       "    </tr>\n",
       "    <tr>\n",
       "      <td>4</td>\n",
       "      <td>Seattle</td>\n",
       "      <td>2010-08-10</td>\n",
       "      <td>2714</td>\n",
       "      <td>1789</td>\n",
       "      <td>345812.75</td>\n",
       "      <td>False</td>\n",
       "    </tr>\n",
       "  </tbody>\n",
       "</table>\n",
       "</div>"
      ],
      "text/plain": [
       "     Store       Date  Num_Visitors  Num_Sales  Weekly_Sales  Promo_Week\n",
       "0  Seattle 2010-07-05          3275       1515     335237.34        True\n",
       "1  Seattle 2010-07-16          2843       1889     330525.74       False\n",
       "2  Seattle 2010-07-23          1966       1589     323996.64       False\n",
       "3  Seattle 2010-07-30          2696       1761     344366.33       False\n",
       "4  Seattle 2010-08-10          2714       1789     345812.75       False"
      ]
     },
     "execution_count": 373,
     "metadata": {},
     "output_type": "execute_result"
    }
   ],
   "source": [
    "seattle_promos_df.head()"
   ]
  },
  {
   "cell_type": "code",
   "execution_count": 376,
   "metadata": {},
   "outputs": [
    {
     "data": {
      "text/plain": [
       "False    79\n",
       "True     24\n",
       "Name: Promo_Week, dtype: int64"
      ]
     },
     "execution_count": 376,
     "metadata": {},
     "output_type": "execute_result"
    }
   ],
   "source": [
    "\n",
    "OUPTUT:"
   ]
  },
  {
   "cell_type": "code",
   "execution_count": null,
   "metadata": {},
   "outputs": [],
   "source": []
  },
  {
   "cell_type": "code",
   "execution_count": null,
   "metadata": {},
   "outputs": [],
   "source": []
  },
  {
   "cell_type": "code",
   "execution_count": null,
   "metadata": {},
   "outputs": [],
   "source": []
  },
  {
   "cell_type": "code",
   "execution_count": 379,
   "metadata": {},
   "outputs": [
    {
     "data": {
      "text/plain": [
       "Text(0.5, 0.98, 'Seattle Store Visitors')"
      ]
     },
     "execution_count": 379,
     "metadata": {},
     "output_type": "execute_result"
    },
    {
     "data": {
      "image/png": "[encoded data removed]",
      "text/plain": [
       "<Figure size 432x288 with 1 Axes>"
      ]
     },
     "metadata": {},
     "output_type": "display_data"
    }
   ],
   "source": [
    "fig = plt.figure()\n",
    "sns.violinplot(data=seattle_promos_df, x=\"Promo_Week\", y=\"Num_Visitors\")\n",
    "fig.suptitle(\"Seattle Store Visitors\") "
   ]
  },
  {
   "cell_type": "code",
   "execution_count": 381,
   "metadata": {},
   "outputs": [
    {
     "data": {
      "text/plain": [
       "Text(0.5, 0.98, 'Seattle Store Weekly Sales')"
      ]
     },
     "execution_count": 381,
     "metadata": {},
     "output_type": "execute_result"
    },
    {
     "data": {
      "image/png": "[encoded data removed]",
      "text/plain": [
       "<Figure size 432x288 with 1 Axes>"
      ]
     },
     "metadata": {},
     "output_type": "display_data"
    }
   ],
   "source": [
    "fig = plt.figure()\n",
    "sns.violinplot(data=seattle_promos_df, x=\"Promo_Week\", y=\"Weekly_Sales\")\n",
    "fig.suptitle(\"Seattle Store Weekly Sales\") "
   ]
  },
  {
   "cell_type": "markdown",
   "metadata": {},
   "source": [
    "Hypothesis Tests\n",
    "\n",
    "1. Is there a significant difference between the number of customers in promotion weeks vs. non promotions weeks?\n",
    "2. Is there a significant difference in weekly sales between promotion weeks and non-promotions weeks? "
   ]
  },
  {
   "cell_type": "code",
   "execution_count": 316,
   "metadata": {},
   "outputs": [],
   "source": [
    "promo_weekly_sales = seattle_promos_df.loc[seattle_promos_df[\"Promo_Week\"]==True][\"Weekly_Sales\"]\n",
    "non_promo_weekly_sales = seattle_promos_df.loc[seattle_promos_df[\"Promo_Week\"]==False][\"Weekly_Sales\"]"
   ]
  },
  {
   "cell_type": "code",
   "execution_count": 384,
   "metadata": {},
   "outputs": [
    {
     "data": {
      "text/plain": [
       "(1.179189736718877, 0.24109295152741528)"
      ]
     },
     "execution_count": 384,
     "metadata": {},
     "output_type": "execute_result"
    }
   ],
   "source": [
    "t, p = stats.ttest_ind(promo_weekly_sales, non_promo_weekly_sales)\n",
    "t, p"
   ]
  },
  {
   "cell_type": "code",
   "execution_count": 318,
   "metadata": {},
   "outputs": [],
   "source": [
    "promo_num_customers = seattle_promos_df.loc[seattle_promos_df[\"Promo_Week\"]][\"Num_Customers\"]\n",
    "non_promo_num_customers = seattle_promos_df.loc[~seattle_promos_df[\"Promo_Week\"]][\"Num_Customers\"]"
   ]
  },
  {
   "cell_type": "code",
   "execution_count": 319,
   "metadata": {},
   "outputs": [
    {
     "data": {
      "text/plain": [
       "Ttest_indResult(statistic=2.1383474843851635, pvalue=0.03490034014357477)"
      ]
     },
     "execution_count": 319,
     "metadata": {},
     "output_type": "execute_result"
    }
   ],
   "source": [
    "stats.ttest_ind(promo_num_customers, non_promo_num_customers)"
   ]
  },
  {
   "cell_type": "code",
   "execution_count": null,
   "metadata": {},
   "outputs": [],
   "source": []
  },
  {
   "cell_type": "code",
   "execution_count": null,
   "metadata": {},
   "outputs": [],
   "source": []
  },
  {
   "cell_type": "code",
   "execution_count": null,
   "metadata": {},
   "outputs": [],
   "source": []
  },
  {
   "cell_type": "code",
   "execution_count": 189,
   "metadata": {},
   "outputs": [],
   "source": [
    "promo_customer = np.random.normal(50000, 10000, len(promo_dates)).round()\n",
    "non_promo_customer = np.random.normal(40000, 10000, len(non_promo_dates)).round()"
   ]
  },
  {
   "cell_type": "code",
   "execution_count": 166,
   "metadata": {},
   "outputs": [],
   "source": [
    "promo_dates = pd.Series(promo_dates)"
   ]
  },
  {
   "cell_type": "code",
   "execution_count": 167,
   "metadata": {},
   "outputs": [
    {
     "data": {
      "text/html": [
       "<div>\n",
       "<style scoped>\n",
       "    .dataframe tbody tr th:only-of-type {\n",
       "        vertical-align: middle;\n",
       "    }\n",
       "\n",
       "    .dataframe tbody tr th {\n",
       "        vertical-align: top;\n",
       "    }\n",
       "\n",
       "    .dataframe thead th {\n",
       "        text-align: right;\n",
       "    }\n",
       "</style>\n",
       "<table border=\"1\" class=\"dataframe\">\n",
       "  <thead>\n",
       "    <tr style=\"text-align: right;\">\n",
       "      <th></th>\n",
       "      <th>Date</th>\n",
       "      <th>Num_Customers</th>\n",
       "      <th>Promo_Week</th>\n",
       "    </tr>\n",
       "  </thead>\n",
       "  <tbody>\n",
       "    <tr>\n",
       "      <td>0</td>\n",
       "      <td>2011-04-22</td>\n",
       "      <td>39268.0</td>\n",
       "      <td>True</td>\n",
       "    </tr>\n",
       "    <tr>\n",
       "      <td>1</td>\n",
       "      <td>2010-12-02</td>\n",
       "      <td>43672.0</td>\n",
       "      <td>True</td>\n",
       "    </tr>\n",
       "    <tr>\n",
       "      <td>2</td>\n",
       "      <td>2012-02-17</td>\n",
       "      <td>51041.0</td>\n",
       "      <td>True</td>\n",
       "    </tr>\n",
       "    <tr>\n",
       "      <td>3</td>\n",
       "      <td>2011-12-23</td>\n",
       "      <td>41446.0</td>\n",
       "      <td>True</td>\n",
       "    </tr>\n",
       "    <tr>\n",
       "      <td>4</td>\n",
       "      <td>2012-03-08</td>\n",
       "      <td>37951.0</td>\n",
       "      <td>True</td>\n",
       "    </tr>\n",
       "  </tbody>\n",
       "</table>\n",
       "</div>"
      ],
      "text/plain": [
       "        Date  Num_Customers  Promo_Week\n",
       "0 2011-04-22        39268.0        True\n",
       "1 2010-12-02        43672.0        True\n",
       "2 2012-02-17        51041.0        True\n",
       "3 2011-12-23        41446.0        True\n",
       "4 2012-03-08        37951.0        True"
      ]
     },
     "execution_count": 167,
     "metadata": {},
     "output_type": "execute_result"
    }
   ],
   "source": [
    "promo_df = pd.DataFrame(promo_dates)\n",
    "promo_df.columns = [\"Date\"]\n",
    "promo_df[\"Num_Customers\"] = promo_customer\n",
    "promo_df[\"Promo_Week\"] = True\n",
    "promo_df.head()"
   ]
  },
  {
   "cell_type": "code",
   "execution_count": 168,
   "metadata": {},
   "outputs": [
    {
     "data": {
      "text/html": [
       "<div>\n",
       "<style scoped>\n",
       "    .dataframe tbody tr th:only-of-type {\n",
       "        vertical-align: middle;\n",
       "    }\n",
       "\n",
       "    .dataframe tbody tr th {\n",
       "        vertical-align: top;\n",
       "    }\n",
       "\n",
       "    .dataframe thead th {\n",
       "        text-align: right;\n",
       "    }\n",
       "</style>\n",
       "<table border=\"1\" class=\"dataframe\">\n",
       "  <thead>\n",
       "    <tr style=\"text-align: right;\">\n",
       "      <th></th>\n",
       "      <th>Date</th>\n",
       "      <th>Num_Customers</th>\n",
       "      <th>Promo_Week</th>\n",
       "    </tr>\n",
       "  </thead>\n",
       "  <tbody>\n",
       "    <tr>\n",
       "      <td>0</td>\n",
       "      <td>2010-07-05</td>\n",
       "      <td>37647.0</td>\n",
       "      <td>False</td>\n",
       "    </tr>\n",
       "    <tr>\n",
       "      <td>1</td>\n",
       "      <td>2010-07-16</td>\n",
       "      <td>34394.0</td>\n",
       "      <td>False</td>\n",
       "    </tr>\n",
       "    <tr>\n",
       "      <td>2</td>\n",
       "      <td>2010-07-23</td>\n",
       "      <td>47635.0</td>\n",
       "      <td>False</td>\n",
       "    </tr>\n",
       "    <tr>\n",
       "      <td>3</td>\n",
       "      <td>2010-07-30</td>\n",
       "      <td>38691.0</td>\n",
       "      <td>False</td>\n",
       "    </tr>\n",
       "    <tr>\n",
       "      <td>4</td>\n",
       "      <td>2010-08-10</td>\n",
       "      <td>46892.0</td>\n",
       "      <td>False</td>\n",
       "    </tr>\n",
       "  </tbody>\n",
       "</table>\n",
       "</div>"
      ],
      "text/plain": [
       "        Date  Num_Customers  Promo_Week\n",
       "0 2010-07-05        37647.0       False\n",
       "1 2010-07-16        34394.0       False\n",
       "2 2010-07-23        47635.0       False\n",
       "3 2010-07-30        38691.0       False\n",
       "4 2010-08-10        46892.0       False"
      ]
     },
     "execution_count": 168,
     "metadata": {},
     "output_type": "execute_result"
    }
   ],
   "source": [
    "non_promo_df = pd.DataFrame(non_promo_dates)\n",
    "non_promo_df.columns = [\"Date\"]\n",
    "non_promo_df[\"Num_Customers\"] = non_promo_customer\n",
    "non_promo_df[\"Promo_Week\"] = False\n",
    "non_promo_df.head()"
   ]
  },
  {
   "cell_type": "code",
   "execution_count": 169,
   "metadata": {},
   "outputs": [
    {
     "data": {
      "text/html": [
       "<div>\n",
       "<style scoped>\n",
       "    .dataframe tbody tr th:only-of-type {\n",
       "        vertical-align: middle;\n",
       "    }\n",
       "\n",
       "    .dataframe tbody tr th {\n",
       "        vertical-align: top;\n",
       "    }\n",
       "\n",
       "    .dataframe thead th {\n",
       "        text-align: right;\n",
       "    }\n",
       "</style>\n",
       "<table border=\"1\" class=\"dataframe\">\n",
       "  <thead>\n",
       "    <tr style=\"text-align: right;\">\n",
       "      <th></th>\n",
       "      <th>Date</th>\n",
       "      <th>Num_Customers</th>\n",
       "      <th>Promo_Week</th>\n",
       "    </tr>\n",
       "  </thead>\n",
       "  <tbody>\n",
       "    <tr>\n",
       "      <td>0</td>\n",
       "      <td>2010-07-05</td>\n",
       "      <td>37647.0</td>\n",
       "      <td>False</td>\n",
       "    </tr>\n",
       "    <tr>\n",
       "      <td>1</td>\n",
       "      <td>2010-07-16</td>\n",
       "      <td>34394.0</td>\n",
       "      <td>False</td>\n",
       "    </tr>\n",
       "    <tr>\n",
       "      <td>2</td>\n",
       "      <td>2010-07-23</td>\n",
       "      <td>47635.0</td>\n",
       "      <td>False</td>\n",
       "    </tr>\n",
       "    <tr>\n",
       "      <td>3</td>\n",
       "      <td>2010-07-30</td>\n",
       "      <td>38691.0</td>\n",
       "      <td>False</td>\n",
       "    </tr>\n",
       "    <tr>\n",
       "      <td>4</td>\n",
       "      <td>2010-08-10</td>\n",
       "      <td>46892.0</td>\n",
       "      <td>False</td>\n",
       "    </tr>\n",
       "  </tbody>\n",
       "</table>\n",
       "</div>"
      ],
      "text/plain": [
       "        Date  Num_Customers  Promo_Week\n",
       "0 2010-07-05        37647.0       False\n",
       "1 2010-07-16        34394.0       False\n",
       "2 2010-07-23        47635.0       False\n",
       "3 2010-07-30        38691.0       False\n",
       "4 2010-08-10        46892.0       False"
      ]
     },
     "execution_count": 169,
     "metadata": {},
     "output_type": "execute_result"
    }
   ],
   "source": [
    "promotions_df = pd.concat([promo_df, non_promo_df]).sort_values(\"Date\").reset_index(drop=True)\n",
    "promotions_df.head()"
   ]
  },
  {
   "cell_type": "code",
   "execution_count": 170,
   "metadata": {},
   "outputs": [
    {
     "data": {
      "text/plain": [
       "<matplotlib.axes._subplots.AxesSubplot at 0x7ff9556837d0>"
      ]
     },
     "execution_count": 170,
     "metadata": {},
     "output_type": "execute_result"
    },
    {
     "data": {
      "image/png": "[encoded data removed]",
      "text/plain": [
       "<Figure size 432x288 with 1 Axes>"
      ]
     },
     "metadata": {},
     "output_type": "display_data"
    }
   ],
   "source": [
    "sns.violinplot(data=promotions_df, x=\"Promo_Week\", y=\"Num_Customers\")"
   ]
  },
  {
   "cell_type": "markdown",
   "metadata": {},
   "source": [
    "Further adjustments -- let's determine the number of customers by how much the average customer spends. "
   ]
  },
  {
   "cell_type": "code",
   "execution_count": 171,
   "metadata": {},
   "outputs": [],
   "source": [
    "ave_promo_spend = 220\n",
    "ave_non_promo_spend = 200\n",
    "sd = 20\n",
    "\n",
    "promo_spends = np.random.normal(ave_promo_spend, sd, len(promo_dates)).round(2)\n",
    "non_promo_spends = np.random.normal(ave_non_promo_spend, sd, len(non_promo_dates)).round(2)"
   ]
  },
  {
   "cell_type": "code",
   "execution_count": null,
   "metadata": {},
   "outputs": [],
   "source": [
    "promo_customers = "
   ]
  },
  {
   "cell_type": "code",
   "execution_count": null,
   "metadata": {},
   "outputs": [],
   "source": []
  },
  {
   "cell_type": "markdown",
   "metadata": {},
   "source": [
    "## Experiments: Is there a significant difference in weekly [dept] sales between the Seattle and Los Angeles stores? \n",
    "\n",
    "Null hypothesis: There is no significant difference between the mean weekly [dept] sales at the Seattle store and the Los Angeles store\n",
    "Alternative hypothesis: There is a significant difference between the mean weekly [dept] sales at the Seattle store and the Los Angeles store"
   ]
  },
  {
   "cell_type": "code",
   "execution_count": 54,
   "metadata": {},
   "outputs": [],
   "source": [
    "# filter the DataFrames to dept+SEA and +LA. Remove data from 01/10/2012 and later so that we\n",
    "# have exactly 2 years of data (currently runs from 01/10/10 to 12/10/12)\n",
    "seattle_df = retail_sales_df.loc[(retail_sales_df[\"Store\"]==\"Seattle\") &\n",
    "                                   (retail_sales_df[\"Date\"]<pd.to_datetime('01-10-2012'))]\n",
    "\n",
    "la_df = retail_sales_df.loc[(retail_sales_df[\"Store\"]==\"Los Angeles\") &\n",
    "                                   (retail_sales_df[\"Date\"]<pd.to_datetime('01-10-2012'))]"
   ]
  },
  {
   "cell_type": "code",
   "execution_count": 56,
   "metadata": {},
   "outputs": [],
   "source": [
    "def run_ttest(df1, df2, dept, sample_size):\n",
    "    df1_filt = df1.loc[df1[\"Dept\"]==dept]\n",
    "    df2_filt = df2.loc[df2[\"Dept\"]==dept]\n",
    "    \n",
    "    df1_samp = df1_filt[\"Weekly_Sales\"].sample(sample_size)\n",
    "    df2_samp = df2_filt[\"Weekly_Sales\"].sample(sample_size)\n",
    "    \n",
    "    return stats.ttest_ind(df1_samp, df2_samp)"
   ]
  },
  {
   "cell_type": "code",
   "execution_count": 85,
   "metadata": {
    "scrolled": false
   },
   "outputs": [
    {
     "name": "stdout",
     "output_type": "stream",
     "text": [
      "Clothing 0.7002085115918866\n",
      "Clothing 0.3888488019826687\n",
      "Clothing 0.17611779983708672\n",
      "Clothing 0.9350832671341154\n",
      "Clothing 0.27893839540493925\n",
      "Clothing 0.5699383016945279\n",
      "Clothing 0.3815292519699913\n",
      "Clothing 0.05130017209141377\n",
      "Clothing 0.23397998791962338\n",
      "Clothing 0.6479633274163131\n",
      "Clothing 0.5732967721037519\n",
      "Clothing 0.3876419581393781\n",
      "Clothing 0.9929541529375818\n",
      "Clothing 0.7100002575376134\n",
      "Clothing 0.7169650836615686\n",
      "Clothing 0.7080763460650036\n",
      "Clothing 0.43053938212094633\n",
      "Clothing 0.9364615986050312\n",
      "Clothing 0.36844025929000246\n",
      "Clothing 0.6911775241639968\n",
      "\n",
      "Jewelry 0.8823627382170167\n",
      "Jewelry 0.432293641428353\n",
      "Jewelry 0.015163584248405049\n",
      "Jewelry 0.12977336904009074\n",
      "Jewelry 0.423803304037047\n",
      "Jewelry 0.6963158075580149\n",
      "Jewelry 0.9351025093542185\n",
      "Jewelry 0.5195737819480502\n",
      "Jewelry 0.20474179038381968\n",
      "Jewelry 0.7591342088254729\n",
      "Jewelry 0.6329346628745207\n",
      "Jewelry 0.7853117635912665\n",
      "Jewelry 0.811204040124401\n",
      "Jewelry 0.4192783780296714\n",
      "Jewelry 0.9453599957460014\n",
      "Jewelry 0.026315421327333804\n",
      "Jewelry 0.14837608002031266\n",
      "Jewelry 0.9682384154715667\n",
      "Jewelry 0.9044070222349985\n",
      "Jewelry 0.5643260941460284\n",
      "\n",
      "Furniture 0.1232428573753683\n",
      "Furniture 0.6472786459594198\n",
      "Furniture 0.38586353406566054\n",
      "Furniture 0.6022049245252512\n",
      "Furniture 0.7652250228509273\n",
      "Furniture 0.43454988525249394\n",
      "Furniture 0.7969640261511509\n",
      "Furniture 0.9351862343165036\n",
      "Furniture 0.5099496828545197\n",
      "Furniture 0.7047314819407458\n",
      "Furniture 0.8417736685994113\n",
      "Furniture 0.9104271716771928\n",
      "Furniture 0.35099674376191015\n",
      "Furniture 0.4117229048649915\n",
      "Furniture 0.5239048848449597\n",
      "Furniture 0.582188934083478\n",
      "Furniture 0.9741298641585653\n",
      "Furniture 0.47596079009519177\n",
      "Furniture 0.3843043679900018\n",
      "Furniture 0.8698643295100887\n",
      "\n",
      "Housewares 0.3520718680270114\n",
      "Housewares 0.9920479875168353\n",
      "Housewares 0.08758504668645557\n",
      "Housewares 0.3121452038679305\n",
      "Housewares 0.7122608373870263\n",
      "Housewares 0.5566148391671439\n",
      "Housewares 0.08653184650684105\n",
      "Housewares 0.8178494245483724\n",
      "Housewares 0.8872081904954539\n",
      "Housewares 0.7465003471839078\n",
      "Housewares 0.3033610569276005\n",
      "Housewares 0.485370079827223\n",
      "Housewares 0.47939688982288975\n",
      "Housewares 0.25748207283124736\n",
      "Housewares 0.25206381460657373\n",
      "Housewares 0.8795470091314137\n",
      "Housewares 0.4044897899275297\n",
      "Housewares 0.022454651800492078\n",
      "Housewares 0.41937711213302287\n",
      "Housewares 0.2732869304356156\n",
      "\n",
      "Outdoor 0.31102400052883095\n",
      "Outdoor 0.941703758548241\n",
      "Outdoor 0.12057283232209917\n",
      "Outdoor 0.8279586518710877\n",
      "Outdoor 0.24973435343006828\n",
      "Outdoor 0.12974826936963077\n",
      "Outdoor 0.9172623881229733\n",
      "Outdoor 0.5757575361091412\n",
      "Outdoor 0.6532624661103388\n",
      "Outdoor 0.5773901796522394\n",
      "Outdoor 0.4725699040181667\n",
      "Outdoor 0.24251672684156939\n",
      "Outdoor 0.2634149947134363\n",
      "Outdoor 0.7548361047790939\n",
      "Outdoor 0.9023351666558428\n",
      "Outdoor 0.25461997712481066\n",
      "Outdoor 0.04413199019363787\n",
      "Outdoor 0.38012653868423063\n",
      "Outdoor 0.612818902975566\n",
      "Outdoor 0.2595775437495482\n",
      "\n",
      "Shoes 0.6844849392332824\n",
      "Shoes 0.9035825796331929\n",
      "Shoes 0.4358987549553329\n",
      "Shoes 0.3601003286859602\n",
      "Shoes 0.319485495446366\n",
      "Shoes 0.48621951774821304\n",
      "Shoes 0.0511876997470626\n",
      "Shoes 0.5878613220801137\n",
      "Shoes 0.5409311883064023\n",
      "Shoes 0.6553533992162641\n",
      "Shoes 0.6164157538922299\n",
      "Shoes 0.8231346385908094\n",
      "Shoes 0.5626572527285607\n",
      "Shoes 0.41652937651160615\n",
      "Shoes 0.7234421992944308\n",
      "Shoes 0.28518554517108496\n",
      "Shoes 0.2536488857161457\n",
      "Shoes 0.9500475201057644\n",
      "Shoes 0.758159572458094\n",
      "Shoes 0.7425980987820179\n",
      "\n",
      "Toys 0.3917642133457294\n",
      "Toys 0.7082700075647166\n",
      "Toys 0.828844519948287\n",
      "Toys 0.6609294711504077\n",
      "Toys 0.9361126419591168\n",
      "Toys 0.9037688160010138\n",
      "Toys 0.4115693837211114\n",
      "Toys 0.6078600195991664\n",
      "Toys 0.05353988428553699\n",
      "Toys 0.5438560968715854\n",
      "Toys 0.30914836973336407\n",
      "Toys 0.8583290109341255\n",
      "Toys 0.1470877255562761\n",
      "Toys 0.9974373943944983\n",
      "Toys 0.5740162302018688\n",
      "Toys 0.25288945604740054\n",
      "Toys 0.500530188521563\n",
      "Toys 0.926733331987895\n",
      "Toys 0.04783828102879686\n",
      "Toys 0.9215939445401038\n",
      "\n",
      "Electronics 0.3483958891389105\n",
      "Electronics 0.8597682562375147\n",
      "Electronics 0.07849542225599059\n",
      "Electronics 0.3923695537434684\n",
      "Electronics 0.14193523561883703\n",
      "Electronics 0.9698348320130075\n",
      "Electronics 0.1333008062831637\n",
      "Electronics 0.9310327298368981\n",
      "Electronics 0.4115889555339093\n",
      "Electronics 0.2304454264924764\n",
      "Electronics 0.25382407597154755\n",
      "Electronics 0.6418228552485222\n",
      "Electronics 0.7795862922768151\n",
      "Electronics 0.6169773353958186\n",
      "Electronics 0.9308289785607523\n",
      "Electronics 0.31179911763863966\n",
      "Electronics 0.5254169145785763\n",
      "Electronics 0.890958240078852\n",
      "Electronics 0.4997077502498066\n",
      "Electronics 0.12500667761724263\n",
      "\n"
     ]
    }
   ],
   "source": [
    "np.random.seed(42)\n",
    "for d in retail_sales_df.Dept.unique():\n",
    "    for _ in range(20):\n",
    "        ct=0\n",
    "        type_2 = p\n",
    "        t, p = run_ttest(seattle_df, seattle_df, d, 15)\n",
    "        if p>0.05:\n",
    "            type_2+=1\n",
    "        ct+=1\n",
    "    print(type_2/ct)\n",
    "    print ('')\n"
   ]
  },
  {
   "cell_type": "code",
   "execution_count": 81,
   "metadata": {},
   "outputs": [
    {
     "name": "stdout",
     "output_type": "stream",
     "text": [
      "Clothing Ttest_indResult(statistic=2.6947375146537365, pvalue=0.007649758398722231)\n",
      "\n",
      "Jewelry Ttest_indResult(statistic=16.69696101305176, pvalue=1.2124321701359798e-39)\n",
      "\n",
      "Furniture Ttest_indResult(statistic=0.5754627663808601, pvalue=0.5656317744065542)\n",
      "\n",
      "Housewares Ttest_indResult(statistic=26.28868783176826, pvalue=1.7026460203775324e-66)\n",
      "\n",
      "Outdoor Ttest_indResult(statistic=1.5620813847811597, pvalue=0.11986569874602397)\n",
      "\n",
      "Shoes Ttest_indResult(statistic=1.5431563912838213, pvalue=0.12438955758875092)\n",
      "\n",
      "Toys Ttest_indResult(statistic=8.901569456519466, pvalue=3.525261268238593e-16)\n",
      "\n",
      "Electronics Ttest_indResult(statistic=4.6686342480382725, pvalue=5.582885266023108e-06)\n",
      "\n"
     ]
    }
   ],
   "source": [
    "np.random.seed(24)\n",
    "for d in retail_sales_df.Dept.unique():\n",
    "    print(d, run_ttest(seattle_df, la_df, d, 100))\n",
    "    print ('')\n"
   ]
  },
  {
   "cell_type": "code",
   "execution_count": 98,
   "metadata": {},
   "outputs": [
    {
     "name": "stdout",
     "output_type": "stream",
     "text": [
      "[0, 0, 0, 0, 2, 1, 1, 0, 0, 0, 1, 0, 0, 0, 1, 0, 0, 0, 1, 1]\n",
      "\n"
     ]
    }
   ],
   "source": [
    "cts = []\n",
    "for i in range(20):\n",
    "    ct=0\n",
    "    for j in range(20):\n",
    "        t, p = run_ttest(seattle_df, seattle_df, d, 15)\n",
    "        if p<0.05:\n",
    "            ct+=1\n",
    "    cts.append(ct)\n",
    "\n",
    "print(cts)\n",
    "print ('')"
   ]
  },
  {
   "cell_type": "code",
   "execution_count": null,
   "metadata": {},
   "outputs": [],
   "source": []
  },
  {
   "cell_type": "code",
   "execution_count": 44,
   "metadata": {},
   "outputs": [],
   "source": [
    "# now take a sample of 15 data points from each of the \"weekly_sales\" columns\n",
    "np.random.seed(2)\n",
    "sea_sample = seattle_shoes[\"Weekly_Sales\"].sample(30)\n",
    "la_sample = la_shoes[\"Weekly_Sales\"].sample(30)"
   ]
  },
  {
   "cell_type": "code",
   "execution_count": 45,
   "metadata": {},
   "outputs": [
    {
     "data": {
      "text/plain": [
       "2526     41452.87\n",
       "988      34195.53\n",
       "1853     64586.72\n",
       "771      35512.50\n",
       "525      31165.85\n",
       "767      38298.54\n",
       "65       49861.13\n",
       "895      35877.79\n",
       "917      30029.99\n",
       "439      37239.25\n",
       "1922     31963.41\n",
       "3002     57751.03\n",
       "2470     36373.80\n",
       "468      35442.76\n",
       "25       32910.99\n",
       "688      47916.68\n",
       "99       35309.25\n",
       "931      36913.10\n",
       "3229     76274.69\n",
       "1774     45109.70\n",
       "1142    121861.67\n",
       "379      32030.76\n",
       "2854     49930.58\n",
       "1415     45522.98\n",
       "2272     58892.12\n",
       "183      37396.86\n",
       "818      33527.62\n",
       "2087     40734.59\n",
       "1704     39017.49\n",
       "2587     29304.64\n",
       "Name: Weekly_Sales, dtype: float64"
      ]
     },
     "execution_count": 45,
     "metadata": {},
     "output_type": "execute_result"
    }
   ],
   "source": [
    "sea_sample"
   ]
  },
  {
   "cell_type": "code",
   "execution_count": 46,
   "metadata": {},
   "outputs": [
    {
     "data": {
      "text/plain": [
       "800      25195.42\n",
       "1433     42628.64\n",
       "3113    138188.63\n",
       "331      29678.87\n",
       "1077     26189.63\n",
       "2123     25814.41\n",
       "2168     31771.61\n",
       "2073     36955.68\n",
       "2967     26636.69\n",
       "1801     31330.01\n",
       "929      25264.69\n",
       "972      32545.60\n",
       "145      24275.91\n",
       "416      28512.95\n",
       "2506     30127.42\n",
       "3196     56063.19\n",
       "1950     22120.83\n",
       "1134    140504.01\n",
       "2720     23498.80\n",
       "770      30319.88\n",
       "757      28685.54\n",
       "2915     28913.34\n",
       "223      94720.59\n",
       "411      29456.07\n",
       "1244     27622.15\n",
       "602      51582.43\n",
       "2388     25582.86\n",
       "1980     30314.48\n",
       "2465     24296.94\n",
       "87       34611.91\n",
       "Name: Weekly_Sales, dtype: float64"
      ]
     },
     "execution_count": 46,
     "metadata": {},
     "output_type": "execute_result"
    }
   ],
   "source": [
    "la_sample"
   ]
  },
  {
   "cell_type": "code",
   "execution_count": 47,
   "metadata": {},
   "outputs": [
    {
     "data": {
      "text/plain": [
       "Ttest_indResult(statistic=0.6124689103625115, pvalue=0.5426214846108114)"
      ]
     },
     "execution_count": 47,
     "metadata": {},
     "output_type": "execute_result"
    }
   ],
   "source": [
    "stats.ttest_ind(sea_sample, la_sample)"
   ]
  },
  {
   "cell_type": "code",
   "execution_count": 48,
   "metadata": {},
   "outputs": [
    {
     "data": {
      "text/plain": [
       "<matplotlib.axes._subplots.AxesSubplot at 0x7ff6118eb750>"
      ]
     },
     "execution_count": 48,
     "metadata": {},
     "output_type": "execute_result"
    },
    {
     "data": {
      "image/png": "[encoded data removed]",
      "text/plain": [
       "<Figure size 432x288 with 1 Axes>"
      ]
     },
     "metadata": {
      "needs_background": "light"
     },
     "output_type": "display_data"
    }
   ],
   "source": [
    "sns.distplot(sea_sample)\n",
    "sns.distplot(la_sample)"
   ]
  },
  {
   "cell_type": "code",
   "execution_count": 49,
   "metadata": {},
   "outputs": [],
   "source": [
    "# filter the DataFrames to shoes+SEA and shoes+LA. Remove data from 01/10/2012 and later so that we\n",
    "# have exactly 2 years of data (currently runs from 01/10/10 to 12/10/12)\n",
    "seattle_jewelry = retail_sales_df.loc[(retail_sales_df[\"Store\"]==\"Seattle\") &\n",
    "                                   (retail_sales_df[\"Dept\"]==\"Jewelry\") &\n",
    "                                   (retail_sales_df[\"Date\"]<pd.to_datetime('01-10-2012'))]\n",
    "\n",
    "la_jewelry = retail_sales_df.loc[(retail_sales_df[\"Store\"]==\"Los Angeles\") &\n",
    "                                   (retail_sales_df[\"Dept\"]==\"Jewelry\") &\n",
    "                                   (retail_sales_df[\"Date\"]<pd.to_datetime('01-10-2012'))]"
   ]
  },
  {
   "cell_type": "code",
   "execution_count": 52,
   "metadata": {},
   "outputs": [],
   "source": [
    "# now take a sample of 15 data points from each of the \"weekly_sales\" columns\n",
    "np.random.seed(2)\n",
    "sea_sample = seattle_jewelry[\"Weekly_Sales\"].sample(30)\n",
    "la_sample = la_jewelry[\"Weekly_Sales\"].sample(30)"
   ]
  },
  {
   "cell_type": "code",
   "execution_count": 53,
   "metadata": {},
   "outputs": [
    {
     "data": {
      "text/plain": [
       "Ttest_indResult(statistic=12.302309616702798, pvalue=8.324444213168664e-18)"
      ]
     },
     "execution_count": 53,
     "metadata": {},
     "output_type": "execute_result"
    }
   ],
   "source": [
    "stats.ttest_ind(sea_sample, la_sample)"
   ]
  },
  {
   "cell_type": "code",
   "execution_count": null,
   "metadata": {},
   "outputs": [],
   "source": [
    "def run_ttest(df1, df2, dept):\n",
    "    \n",
    "    "
   ]
  },
  {
   "cell_type": "code",
   "execution_count": null,
   "metadata": {},
   "outputs": [],
   "source": []
  },
  {
   "cell_type": "code",
   "execution_count": null,
   "metadata": {},
   "outputs": [],
   "source": []
  },
  {
   "cell_type": "code",
   "execution_count": 9,
   "metadata": {},
   "outputs": [],
   "source": [
    "retail_sales_elec = retail_sales_df.loc[retail_sales_df[\"Dept\"] == \"Electronics\"]"
   ]
  },
  {
   "cell_type": "code",
   "execution_count": 10,
   "metadata": {},
   "outputs": [
    {
     "data": {
      "text/plain": [
       "(array([252., 218.,  71.,  14.,   5.,   5.,   2.,   3.,   1.,   1.]),\n",
       " array([  4730.87 ,  21750.036,  38769.202,  55788.368,  72807.534,\n",
       "         89826.7  , 106845.866, 123865.032, 140884.198, 157903.364,\n",
       "        174922.53 ]),\n",
       " <a list of 10 Patch objects>)"
      ]
     },
     "execution_count": 10,
     "metadata": {},
     "output_type": "execute_result"
    },
    {
     "data": {
      "image/png": "[encoded data removed]",
      "text/plain": [
       "<Figure size 432x288 with 1 Axes>"
      ]
     },
     "metadata": {
      "needs_background": "light"
     },
     "output_type": "display_data"
    }
   ],
   "source": [
    "plt.hist(retail_sales_elec[\"Weekly_Sales\"])"
   ]
  },
  {
   "cell_type": "code",
   "execution_count": 13,
   "metadata": {},
   "outputs": [
    {
     "data": {
      "text/html": [
       "<div>\n",
       "<style scoped>\n",
       "    .dataframe tbody tr th:only-of-type {\n",
       "        vertical-align: middle;\n",
       "    }\n",
       "\n",
       "    .dataframe tbody tr th {\n",
       "        vertical-align: top;\n",
       "    }\n",
       "\n",
       "    .dataframe thead th {\n",
       "        text-align: right;\n",
       "    }\n",
       "</style>\n",
       "<table border=\"1\" class=\"dataframe\">\n",
       "  <thead>\n",
       "    <tr style=\"text-align: right;\">\n",
       "      <th></th>\n",
       "      <th>Unnamed: 0</th>\n",
       "      <th>Store</th>\n",
       "      <th>Dept</th>\n",
       "      <th>Date</th>\n",
       "      <th>Weekly_Sales</th>\n",
       "      <th>IsHoliday</th>\n",
       "    </tr>\n",
       "  </thead>\n",
       "  <tbody>\n",
       "    <tr>\n",
       "      <td>1476</td>\n",
       "      <td>4050</td>\n",
       "      <td>Seattle</td>\n",
       "      <td>Electronics</td>\n",
       "      <td>2010-12-24</td>\n",
       "      <td>174922.53</td>\n",
       "      <td>False</td>\n",
       "    </tr>\n",
       "    <tr>\n",
       "      <td>1475</td>\n",
       "      <td>1762</td>\n",
       "      <td>Los Angeles</td>\n",
       "      <td>Electronics</td>\n",
       "      <td>2010-12-24</td>\n",
       "      <td>150343.42</td>\n",
       "      <td>False</td>\n",
       "    </tr>\n",
       "    <tr>\n",
       "      <td>3148</td>\n",
       "      <td>4102</td>\n",
       "      <td>Seattle</td>\n",
       "      <td>Electronics</td>\n",
       "      <td>2011-12-23</td>\n",
       "      <td>140165.76</td>\n",
       "      <td>False</td>\n",
       "    </tr>\n",
       "    <tr>\n",
       "      <td>1333</td>\n",
       "      <td>4046</td>\n",
       "      <td>Seattle</td>\n",
       "      <td>Electronics</td>\n",
       "      <td>2010-11-26</td>\n",
       "      <td>129860.88</td>\n",
       "      <td>True</td>\n",
       "    </tr>\n",
       "    <tr>\n",
       "      <td>3048</td>\n",
       "      <td>4098</td>\n",
       "      <td>Seattle</td>\n",
       "      <td>Electronics</td>\n",
       "      <td>2011-11-25</td>\n",
       "      <td>125098.69</td>\n",
       "      <td>True</td>\n",
       "    </tr>\n",
       "    <tr>\n",
       "      <td>...</td>\n",
       "      <td>...</td>\n",
       "      <td>...</td>\n",
       "      <td>...</td>\n",
       "      <td>...</td>\n",
       "      <td>...</td>\n",
       "      <td>...</td>\n",
       "    </tr>\n",
       "    <tr>\n",
       "      <td>756</td>\n",
       "      <td>2883</td>\n",
       "      <td>Buffalo</td>\n",
       "      <td>Electronics</td>\n",
       "      <td>2010-07-16</td>\n",
       "      <td>5274.61</td>\n",
       "      <td>False</td>\n",
       "    </tr>\n",
       "    <tr>\n",
       "      <td>567</td>\n",
       "      <td>2875</td>\n",
       "      <td>Buffalo</td>\n",
       "      <td>Electronics</td>\n",
       "      <td>2010-05-21</td>\n",
       "      <td>5079.98</td>\n",
       "      <td>False</td>\n",
       "    </tr>\n",
       "    <tr>\n",
       "      <td>954</td>\n",
       "      <td>2889</td>\n",
       "      <td>Buffalo</td>\n",
       "      <td>Electronics</td>\n",
       "      <td>2010-08-27</td>\n",
       "      <td>4945.21</td>\n",
       "      <td>False</td>\n",
       "    </tr>\n",
       "    <tr>\n",
       "      <td>167</td>\n",
       "      <td>2890</td>\n",
       "      <td>Buffalo</td>\n",
       "      <td>Electronics</td>\n",
       "      <td>2010-03-09</td>\n",
       "      <td>4862.58</td>\n",
       "      <td>False</td>\n",
       "    </tr>\n",
       "    <tr>\n",
       "      <td>908</td>\n",
       "      <td>2888</td>\n",
       "      <td>Buffalo</td>\n",
       "      <td>Electronics</td>\n",
       "      <td>2010-08-20</td>\n",
       "      <td>4730.87</td>\n",
       "      <td>False</td>\n",
       "    </tr>\n",
       "  </tbody>\n",
       "</table>\n",
       "<p>572 rows × 6 columns</p>\n",
       "</div>"
      ],
      "text/plain": [
       "      Unnamed: 0        Store         Dept       Date  Weekly_Sales  IsHoliday\n",
       "1476        4050      Seattle  Electronics 2010-12-24     174922.53      False\n",
       "1475        1762  Los Angeles  Electronics 2010-12-24     150343.42      False\n",
       "3148        4102      Seattle  Electronics 2011-12-23     140165.76      False\n",
       "1333        4046      Seattle  Electronics 2010-11-26     129860.88       True\n",
       "3048        4098      Seattle  Electronics 2011-11-25     125098.69       True\n",
       "...          ...          ...          ...        ...           ...        ...\n",
       "756         2883      Buffalo  Electronics 2010-07-16       5274.61      False\n",
       "567         2875      Buffalo  Electronics 2010-05-21       5079.98      False\n",
       "954         2889      Buffalo  Electronics 2010-08-27       4945.21      False\n",
       "167         2890      Buffalo  Electronics 2010-03-09       4862.58      False\n",
       "908         2888      Buffalo  Electronics 2010-08-20       4730.87      False\n",
       "\n",
       "[572 rows x 6 columns]"
      ]
     },
     "execution_count": 13,
     "metadata": {},
     "output_type": "execute_result"
    }
   ],
   "source": [
    "retail_sales_elec.sort_values(\"Weekly_Sales\", ascending=False)"
   ]
  },
  {
   "cell_type": "code",
   "execution_count": 14,
   "metadata": {},
   "outputs": [],
   "source": [
    "retail_sales_elec_la = retail_sales_elec.loc[retail_sales_elec[\"Store\"] == \"Los Angeles\"]"
   ]
  },
  {
   "cell_type": "code",
   "execution_count": 17,
   "metadata": {},
   "outputs": [
    {
     "data": {
      "text/html": [
       "<div>\n",
       "<style scoped>\n",
       "    .dataframe tbody tr th:only-of-type {\n",
       "        vertical-align: middle;\n",
       "    }\n",
       "\n",
       "    .dataframe tbody tr th {\n",
       "        vertical-align: top;\n",
       "    }\n",
       "\n",
       "    .dataframe thead th {\n",
       "        text-align: right;\n",
       "    }\n",
       "</style>\n",
       "<table border=\"1\" class=\"dataframe\">\n",
       "  <thead>\n",
       "    <tr style=\"text-align: right;\">\n",
       "      <th></th>\n",
       "      <th>Unnamed: 0</th>\n",
       "      <th>Store</th>\n",
       "      <th>Dept</th>\n",
       "      <th>Date</th>\n",
       "      <th>Weekly_Sales</th>\n",
       "      <th>IsHoliday</th>\n",
       "    </tr>\n",
       "  </thead>\n",
       "  <tbody>\n",
       "    <tr>\n",
       "      <td>1475</td>\n",
       "      <td>1762</td>\n",
       "      <td>Los Angeles</td>\n",
       "      <td>Electronics</td>\n",
       "      <td>2010-12-24</td>\n",
       "      <td>150343.42</td>\n",
       "      <td>False</td>\n",
       "    </tr>\n",
       "    <tr>\n",
       "      <td>3137</td>\n",
       "      <td>1814</td>\n",
       "      <td>Los Angeles</td>\n",
       "      <td>Electronics</td>\n",
       "      <td>2011-12-23</td>\n",
       "      <td>106536.90</td>\n",
       "      <td>False</td>\n",
       "    </tr>\n",
       "    <tr>\n",
       "      <td>1324</td>\n",
       "      <td>1758</td>\n",
       "      <td>Los Angeles</td>\n",
       "      <td>Electronics</td>\n",
       "      <td>2010-11-26</td>\n",
       "      <td>102750.26</td>\n",
       "      <td>True</td>\n",
       "    </tr>\n",
       "    <tr>\n",
       "      <td>3069</td>\n",
       "      <td>1810</td>\n",
       "      <td>Los Angeles</td>\n",
       "      <td>Electronics</td>\n",
       "      <td>2011-11-25</td>\n",
       "      <td>102614.71</td>\n",
       "      <td>True</td>\n",
       "    </tr>\n",
       "    <tr>\n",
       "      <td>1465</td>\n",
       "      <td>1761</td>\n",
       "      <td>Los Angeles</td>\n",
       "      <td>Electronics</td>\n",
       "      <td>2010-12-17</td>\n",
       "      <td>90724.19</td>\n",
       "      <td>False</td>\n",
       "    </tr>\n",
       "    <tr>\n",
       "      <td>1128</td>\n",
       "      <td>1760</td>\n",
       "      <td>Los Angeles</td>\n",
       "      <td>Electronics</td>\n",
       "      <td>2010-10-12</td>\n",
       "      <td>76143.28</td>\n",
       "      <td>False</td>\n",
       "    </tr>\n",
       "    <tr>\n",
       "      <td>3129</td>\n",
       "      <td>1813</td>\n",
       "      <td>Los Angeles</td>\n",
       "      <td>Electronics</td>\n",
       "      <td>2011-12-16</td>\n",
       "      <td>65588.98</td>\n",
       "      <td>False</td>\n",
       "    </tr>\n",
       "    <tr>\n",
       "      <td>3372</td>\n",
       "      <td>1822</td>\n",
       "      <td>Los Angeles</td>\n",
       "      <td>Electronics</td>\n",
       "      <td>2012-02-17</td>\n",
       "      <td>52735.59</td>\n",
       "      <td>False</td>\n",
       "    </tr>\n",
       "    <tr>\n",
       "      <td>281</td>\n",
       "      <td>1723</td>\n",
       "      <td>Los Angeles</td>\n",
       "      <td>Electronics</td>\n",
       "      <td>2010-03-26</td>\n",
       "      <td>51778.35</td>\n",
       "      <td>False</td>\n",
       "    </tr>\n",
       "    <tr>\n",
       "      <td>2679</td>\n",
       "      <td>1812</td>\n",
       "      <td>Los Angeles</td>\n",
       "      <td>Electronics</td>\n",
       "      <td>2011-09-12</td>\n",
       "      <td>51509.07</td>\n",
       "      <td>False</td>\n",
       "    </tr>\n",
       "    <tr>\n",
       "      <td>197</td>\n",
       "      <td>1759</td>\n",
       "      <td>Los Angeles</td>\n",
       "      <td>Electronics</td>\n",
       "      <td>2010-03-12</td>\n",
       "      <td>48750.32</td>\n",
       "      <td>False</td>\n",
       "    </tr>\n",
       "    <tr>\n",
       "      <td>2999</td>\n",
       "      <td>1808</td>\n",
       "      <td>Los Angeles</td>\n",
       "      <td>Electronics</td>\n",
       "      <td>2011-11-11</td>\n",
       "      <td>42089.25</td>\n",
       "      <td>False</td>\n",
       "    </tr>\n",
       "    <tr>\n",
       "      <td>62</td>\n",
       "      <td>1724</td>\n",
       "      <td>Los Angeles</td>\n",
       "      <td>Electronics</td>\n",
       "      <td>2010-02-04</td>\n",
       "      <td>41053.17</td>\n",
       "      <td>False</td>\n",
       "    </tr>\n",
       "    <tr>\n",
       "      <td>2926</td>\n",
       "      <td>1769</td>\n",
       "      <td>Los Angeles</td>\n",
       "      <td>Electronics</td>\n",
       "      <td>2011-11-02</td>\n",
       "      <td>40400.46</td>\n",
       "      <td>True</td>\n",
       "    </tr>\n",
       "    <tr>\n",
       "      <td>3172</td>\n",
       "      <td>1815</td>\n",
       "      <td>Los Angeles</td>\n",
       "      <td>Electronics</td>\n",
       "      <td>2011-12-30</td>\n",
       "      <td>39314.47</td>\n",
       "      <td>True</td>\n",
       "    </tr>\n",
       "    <tr>\n",
       "      <td>4401</td>\n",
       "      <td>1821</td>\n",
       "      <td>Los Angeles</td>\n",
       "      <td>Electronics</td>\n",
       "      <td>2012-10-02</td>\n",
       "      <td>39231.34</td>\n",
       "      <td>True</td>\n",
       "    </tr>\n",
       "    <tr>\n",
       "      <td>1947</td>\n",
       "      <td>1768</td>\n",
       "      <td>Los Angeles</td>\n",
       "      <td>Electronics</td>\n",
       "      <td>2011-04-02</td>\n",
       "      <td>38762.47</td>\n",
       "      <td>False</td>\n",
       "    </tr>\n",
       "    <tr>\n",
       "      <td>1515</td>\n",
       "      <td>1763</td>\n",
       "      <td>Los Angeles</td>\n",
       "      <td>Electronics</td>\n",
       "      <td>2010-12-31</td>\n",
       "      <td>38706.43</td>\n",
       "      <td>True</td>\n",
       "    </tr>\n",
       "    <tr>\n",
       "      <td>1350</td>\n",
       "      <td>1717</td>\n",
       "      <td>Los Angeles</td>\n",
       "      <td>Electronics</td>\n",
       "      <td>2010-12-02</td>\n",
       "      <td>37978.19</td>\n",
       "      <td>True</td>\n",
       "    </tr>\n",
       "    <tr>\n",
       "      <td>1995</td>\n",
       "      <td>1807</td>\n",
       "      <td>Los Angeles</td>\n",
       "      <td>Electronics</td>\n",
       "      <td>2011-04-11</td>\n",
       "      <td>37783.35</td>\n",
       "      <td>False</td>\n",
       "    </tr>\n",
       "  </tbody>\n",
       "</table>\n",
       "</div>"
      ],
      "text/plain": [
       "      Unnamed: 0        Store         Dept       Date  Weekly_Sales  IsHoliday\n",
       "1475        1762  Los Angeles  Electronics 2010-12-24     150343.42      False\n",
       "3137        1814  Los Angeles  Electronics 2011-12-23     106536.90      False\n",
       "1324        1758  Los Angeles  Electronics 2010-11-26     102750.26       True\n",
       "3069        1810  Los Angeles  Electronics 2011-11-25     102614.71       True\n",
       "1465        1761  Los Angeles  Electronics 2010-12-17      90724.19      False\n",
       "1128        1760  Los Angeles  Electronics 2010-10-12      76143.28      False\n",
       "3129        1813  Los Angeles  Electronics 2011-12-16      65588.98      False\n",
       "3372        1822  Los Angeles  Electronics 2012-02-17      52735.59      False\n",
       "281         1723  Los Angeles  Electronics 2010-03-26      51778.35      False\n",
       "2679        1812  Los Angeles  Electronics 2011-09-12      51509.07      False\n",
       "197         1759  Los Angeles  Electronics 2010-03-12      48750.32      False\n",
       "2999        1808  Los Angeles  Electronics 2011-11-11      42089.25      False\n",
       "62          1724  Los Angeles  Electronics 2010-02-04      41053.17      False\n",
       "2926        1769  Los Angeles  Electronics 2011-11-02      40400.46       True\n",
       "3172        1815  Los Angeles  Electronics 2011-12-30      39314.47       True\n",
       "4401        1821  Los Angeles  Electronics 2012-10-02      39231.34       True\n",
       "1947        1768  Los Angeles  Electronics 2011-04-02      38762.47      False\n",
       "1515        1763  Los Angeles  Electronics 2010-12-31      38706.43       True\n",
       "1350        1717  Los Angeles  Electronics 2010-12-02      37978.19       True\n",
       "1995        1807  Los Angeles  Electronics 2011-04-11      37783.35      False"
      ]
     },
     "execution_count": 17,
     "metadata": {},
     "output_type": "execute_result"
    }
   ],
   "source": [
    "retail_sales_elec_la.sort_values(\"Weekly_Sales\", ascending=False)[:20]"
   ]
  },
  {
   "cell_type": "code",
   "execution_count": 18,
   "metadata": {},
   "outputs": [
    {
     "data": {
      "text/plain": [
       "143"
      ]
     },
     "execution_count": 18,
     "metadata": {},
     "output_type": "execute_result"
    }
   ],
   "source": [
    "len(retail_sales_elec_la)"
   ]
  },
  {
   "cell_type": "code",
   "execution_count": null,
   "metadata": {},
   "outputs": [],
   "source": [
    "# 15 from the first 50, 10 from the next 50, 5 from the last few"
   ]
  },
  {
   "cell_type": "code",
   "execution_count": 22,
   "metadata": {},
   "outputs": [],
   "source": [
    "s1 = np.random.choice(retail_sales_elec_la.index[:50], 15)\n",
    "s2 = np.random.choice(retail_sales_elec_la.index[50:100], 10)\n",
    "s3 = np.random.choice(retail_sales_elec_la.index[100:], 5)"
   ]
  },
  {
   "cell_type": "code",
   "execution_count": 32,
   "metadata": {},
   "outputs": [],
   "source": [
    "promo_indexes = pd.Series(np.concatenate((s1, s2, s3)))"
   ]
  },
  {
   "cell_type": "code",
   "execution_count": 30,
   "metadata": {},
   "outputs": [],
   "source": [
    "thirty_trues"
   ]
  },
  {
   "cell_type": "code",
   "execution_count": 31,
   "metadata": {},
   "outputs": [
    {
     "ename": "AttributeError",
     "evalue": "'numpy.ndarray' object has no attribute 'endswith'",
     "output_type": "error",
     "traceback": [
      "\u001b[0;31m---------------------------------------------------------------------------\u001b[0m",
      "\u001b[0;31mAttributeError\u001b[0m                            Traceback (most recent call last)",
      "\u001b[0;32m~/opt/anaconda3/lib/python3.7/site-packages/IPython/core/formatters.py\u001b[0m in \u001b[0;36m__call__\u001b[0;34m(self, obj)\u001b[0m\n\u001b[1;32m    700\u001b[0m                 \u001b[0mtype_pprinters\u001b[0m\u001b[0;34m=\u001b[0m\u001b[0mself\u001b[0m\u001b[0;34m.\u001b[0m\u001b[0mtype_printers\u001b[0m\u001b[0;34m,\u001b[0m\u001b[0;34m\u001b[0m\u001b[0;34m\u001b[0m\u001b[0m\n\u001b[1;32m    701\u001b[0m                 deferred_pprinters=self.deferred_printers)\n\u001b[0;32m--> 702\u001b[0;31m             \u001b[0mprinter\u001b[0m\u001b[0;34m.\u001b[0m\u001b[0mpretty\u001b[0m\u001b[0;34m(\u001b[0m\u001b[0mobj\u001b[0m\u001b[0;34m)\u001b[0m\u001b[0;34m\u001b[0m\u001b[0;34m\u001b[0m\u001b[0m\n\u001b[0m\u001b[1;32m    703\u001b[0m             \u001b[0mprinter\u001b[0m\u001b[0;34m.\u001b[0m\u001b[0mflush\u001b[0m\u001b[0;34m(\u001b[0m\u001b[0;34m)\u001b[0m\u001b[0;34m\u001b[0m\u001b[0;34m\u001b[0m\u001b[0m\n\u001b[1;32m    704\u001b[0m             \u001b[0;32mreturn\u001b[0m \u001b[0mstream\u001b[0m\u001b[0;34m.\u001b[0m\u001b[0mgetvalue\u001b[0m\u001b[0;34m(\u001b[0m\u001b[0;34m)\u001b[0m\u001b[0;34m\u001b[0m\u001b[0;34m\u001b[0m\u001b[0m\n",
      "\u001b[0;32m~/opt/anaconda3/lib/python3.7/site-packages/IPython/lib/pretty.py\u001b[0m in \u001b[0;36mpretty\u001b[0;34m(self, obj)\u001b[0m\n\u001b[1;32m    400\u001b[0m                         \u001b[0;32mif\u001b[0m \u001b[0mcls\u001b[0m \u001b[0;32mis\u001b[0m \u001b[0;32mnot\u001b[0m \u001b[0mobject\u001b[0m\u001b[0;31m \u001b[0m\u001b[0;31m\\\u001b[0m\u001b[0;34m\u001b[0m\u001b[0;34m\u001b[0m\u001b[0m\n\u001b[1;32m    401\u001b[0m                                 \u001b[0;32mand\u001b[0m \u001b[0mcallable\u001b[0m\u001b[0;34m(\u001b[0m\u001b[0mcls\u001b[0m\u001b[0;34m.\u001b[0m\u001b[0m__dict__\u001b[0m\u001b[0;34m.\u001b[0m\u001b[0mget\u001b[0m\u001b[0;34m(\u001b[0m\u001b[0;34m'__repr__'\u001b[0m\u001b[0;34m)\u001b[0m\u001b[0;34m)\u001b[0m\u001b[0;34m:\u001b[0m\u001b[0;34m\u001b[0m\u001b[0;34m\u001b[0m\u001b[0m\n\u001b[0;32m--> 402\u001b[0;31m                             \u001b[0;32mreturn\u001b[0m \u001b[0m_repr_pprint\u001b[0m\u001b[0;34m(\u001b[0m\u001b[0mobj\u001b[0m\u001b[0;34m,\u001b[0m \u001b[0mself\u001b[0m\u001b[0;34m,\u001b[0m \u001b[0mcycle\u001b[0m\u001b[0;34m)\u001b[0m\u001b[0;34m\u001b[0m\u001b[0;34m\u001b[0m\u001b[0m\n\u001b[0m\u001b[1;32m    403\u001b[0m \u001b[0;34m\u001b[0m\u001b[0m\n\u001b[1;32m    404\u001b[0m             \u001b[0;32mreturn\u001b[0m \u001b[0m_default_pprint\u001b[0m\u001b[0;34m(\u001b[0m\u001b[0mobj\u001b[0m\u001b[0;34m,\u001b[0m \u001b[0mself\u001b[0m\u001b[0;34m,\u001b[0m \u001b[0mcycle\u001b[0m\u001b[0;34m)\u001b[0m\u001b[0;34m\u001b[0m\u001b[0;34m\u001b[0m\u001b[0m\n",
      "\u001b[0;32m~/opt/anaconda3/lib/python3.7/site-packages/IPython/lib/pretty.py\u001b[0m in \u001b[0;36m_repr_pprint\u001b[0;34m(obj, p, cycle)\u001b[0m\n\u001b[1;32m    695\u001b[0m     \u001b[0;34m\"\"\"A pprint that just redirects to the normal repr function.\"\"\"\u001b[0m\u001b[0;34m\u001b[0m\u001b[0;34m\u001b[0m\u001b[0m\n\u001b[1;32m    696\u001b[0m     \u001b[0;31m# Find newlines and replace them with p.break_()\u001b[0m\u001b[0;34m\u001b[0m\u001b[0;34m\u001b[0m\u001b[0;34m\u001b[0m\u001b[0m\n\u001b[0;32m--> 697\u001b[0;31m     \u001b[0moutput\u001b[0m \u001b[0;34m=\u001b[0m \u001b[0mrepr\u001b[0m\u001b[0;34m(\u001b[0m\u001b[0mobj\u001b[0m\u001b[0;34m)\u001b[0m\u001b[0;34m\u001b[0m\u001b[0;34m\u001b[0m\u001b[0m\n\u001b[0m\u001b[1;32m    698\u001b[0m     \u001b[0;32mfor\u001b[0m \u001b[0midx\u001b[0m\u001b[0;34m,\u001b[0m\u001b[0moutput_line\u001b[0m \u001b[0;32min\u001b[0m \u001b[0menumerate\u001b[0m\u001b[0;34m(\u001b[0m\u001b[0moutput\u001b[0m\u001b[0;34m.\u001b[0m\u001b[0msplitlines\u001b[0m\u001b[0;34m(\u001b[0m\u001b[0;34m)\u001b[0m\u001b[0;34m)\u001b[0m\u001b[0;34m:\u001b[0m\u001b[0;34m\u001b[0m\u001b[0;34m\u001b[0m\u001b[0m\n\u001b[1;32m    699\u001b[0m         \u001b[0;32mif\u001b[0m \u001b[0midx\u001b[0m\u001b[0;34m:\u001b[0m\u001b[0;34m\u001b[0m\u001b[0;34m\u001b[0m\u001b[0m\n",
      "\u001b[0;32m~/opt/anaconda3/lib/python3.7/site-packages/pandas/core/frame.py\u001b[0m in \u001b[0;36m__repr__\u001b[0;34m(self)\u001b[0m\n\u001b[1;32m    653\u001b[0m             \u001b[0mmax_cols\u001b[0m\u001b[0;34m=\u001b[0m\u001b[0mmax_cols\u001b[0m\u001b[0;34m,\u001b[0m\u001b[0;34m\u001b[0m\u001b[0;34m\u001b[0m\u001b[0m\n\u001b[1;32m    654\u001b[0m             \u001b[0mline_width\u001b[0m\u001b[0;34m=\u001b[0m\u001b[0mwidth\u001b[0m\u001b[0;34m,\u001b[0m\u001b[0;34m\u001b[0m\u001b[0;34m\u001b[0m\u001b[0m\n\u001b[0;32m--> 655\u001b[0;31m             \u001b[0mshow_dimensions\u001b[0m\u001b[0;34m=\u001b[0m\u001b[0mshow_dimensions\u001b[0m\u001b[0;34m,\u001b[0m\u001b[0;34m\u001b[0m\u001b[0;34m\u001b[0m\u001b[0m\n\u001b[0m\u001b[1;32m    656\u001b[0m         )\n\u001b[1;32m    657\u001b[0m \u001b[0;34m\u001b[0m\u001b[0m\n",
      "\u001b[0;32m~/opt/anaconda3/lib/python3.7/site-packages/pandas/core/frame.py\u001b[0m in \u001b[0;36mto_string\u001b[0;34m(self, buf, columns, col_space, header, index, na_rep, formatters, float_format, sparsify, index_names, justify, max_rows, min_rows, max_cols, show_dimensions, decimal, line_width)\u001b[0m\n\u001b[1;32m    759\u001b[0m             \u001b[0mline_width\u001b[0m\u001b[0;34m=\u001b[0m\u001b[0mline_width\u001b[0m\u001b[0;34m,\u001b[0m\u001b[0;34m\u001b[0m\u001b[0;34m\u001b[0m\u001b[0m\n\u001b[1;32m    760\u001b[0m         )\n\u001b[0;32m--> 761\u001b[0;31m         \u001b[0mformatter\u001b[0m\u001b[0;34m.\u001b[0m\u001b[0mto_string\u001b[0m\u001b[0;34m(\u001b[0m\u001b[0;34m)\u001b[0m\u001b[0;34m\u001b[0m\u001b[0;34m\u001b[0m\u001b[0m\n\u001b[0m\u001b[1;32m    762\u001b[0m \u001b[0;34m\u001b[0m\u001b[0m\n\u001b[1;32m    763\u001b[0m         \u001b[0;32mif\u001b[0m \u001b[0mbuf\u001b[0m \u001b[0;32mis\u001b[0m \u001b[0;32mNone\u001b[0m\u001b[0;34m:\u001b[0m\u001b[0;34m\u001b[0m\u001b[0;34m\u001b[0m\u001b[0m\n",
      "\u001b[0;32m~/opt/anaconda3/lib/python3.7/site-packages/pandas/io/formats/format.py\u001b[0m in \u001b[0;36mto_string\u001b[0;34m(self)\u001b[0m\n\u001b[1;32m    686\u001b[0m         \u001b[0;32melse\u001b[0m\u001b[0;34m:\u001b[0m\u001b[0;34m\u001b[0m\u001b[0;34m\u001b[0m\u001b[0m\n\u001b[1;32m    687\u001b[0m \u001b[0;34m\u001b[0m\u001b[0m\n\u001b[0;32m--> 688\u001b[0;31m             \u001b[0mstrcols\u001b[0m \u001b[0;34m=\u001b[0m \u001b[0mself\u001b[0m\u001b[0;34m.\u001b[0m\u001b[0m_to_str_columns\u001b[0m\u001b[0;34m(\u001b[0m\u001b[0;34m)\u001b[0m\u001b[0;34m\u001b[0m\u001b[0;34m\u001b[0m\u001b[0m\n\u001b[0m\u001b[1;32m    689\u001b[0m             \u001b[0;32mif\u001b[0m \u001b[0mself\u001b[0m\u001b[0;34m.\u001b[0m\u001b[0mline_width\u001b[0m \u001b[0;32mis\u001b[0m \u001b[0;32mNone\u001b[0m\u001b[0;34m:\u001b[0m  \u001b[0;31m# no need to wrap around just print\u001b[0m\u001b[0;34m\u001b[0m\u001b[0;34m\u001b[0m\u001b[0m\n\u001b[1;32m    690\u001b[0m                 \u001b[0;31m# the whole frame\u001b[0m\u001b[0;34m\u001b[0m\u001b[0;34m\u001b[0m\u001b[0;34m\u001b[0m\u001b[0m\n",
      "\u001b[0;32m~/opt/anaconda3/lib/python3.7/site-packages/pandas/io/formats/format.py\u001b[0m in \u001b[0;36m_to_str_columns\u001b[0;34m(self)\u001b[0m\n\u001b[1;32m    586\u001b[0m         \u001b[0;31m# may include levels names also\u001b[0m\u001b[0;34m\u001b[0m\u001b[0;34m\u001b[0m\u001b[0;34m\u001b[0m\u001b[0m\n\u001b[1;32m    587\u001b[0m \u001b[0;34m\u001b[0m\u001b[0m\n\u001b[0;32m--> 588\u001b[0;31m         \u001b[0mstr_index\u001b[0m \u001b[0;34m=\u001b[0m \u001b[0mself\u001b[0m\u001b[0;34m.\u001b[0m\u001b[0m_get_formatted_index\u001b[0m\u001b[0;34m(\u001b[0m\u001b[0mframe\u001b[0m\u001b[0;34m)\u001b[0m\u001b[0;34m\u001b[0m\u001b[0;34m\u001b[0m\u001b[0m\n\u001b[0m\u001b[1;32m    589\u001b[0m \u001b[0;34m\u001b[0m\u001b[0m\n\u001b[1;32m    590\u001b[0m         \u001b[0;32mif\u001b[0m \u001b[0;32mnot\u001b[0m \u001b[0mis_list_like\u001b[0m\u001b[0;34m(\u001b[0m\u001b[0mself\u001b[0m\u001b[0;34m.\u001b[0m\u001b[0mheader\u001b[0m\u001b[0;34m)\u001b[0m \u001b[0;32mand\u001b[0m \u001b[0;32mnot\u001b[0m \u001b[0mself\u001b[0m\u001b[0;34m.\u001b[0m\u001b[0mheader\u001b[0m\u001b[0;34m:\u001b[0m\u001b[0;34m\u001b[0m\u001b[0;34m\u001b[0m\u001b[0m\n",
      "\u001b[0;32m~/opt/anaconda3/lib/python3.7/site-packages/pandas/io/formats/format.py\u001b[0m in \u001b[0;36m_get_formatted_index\u001b[0;34m(self, frame)\u001b[0m\n\u001b[1;32m    919\u001b[0m             )\n\u001b[1;32m    920\u001b[0m         \u001b[0;32melse\u001b[0m\u001b[0;34m:\u001b[0m\u001b[0;34m\u001b[0m\u001b[0;34m\u001b[0m\u001b[0m\n\u001b[0;32m--> 921\u001b[0;31m             \u001b[0mfmt_index\u001b[0m \u001b[0;34m=\u001b[0m \u001b[0;34m[\u001b[0m\u001b[0mindex\u001b[0m\u001b[0;34m.\u001b[0m\u001b[0mformat\u001b[0m\u001b[0;34m(\u001b[0m\u001b[0mname\u001b[0m\u001b[0;34m=\u001b[0m\u001b[0mself\u001b[0m\u001b[0;34m.\u001b[0m\u001b[0mshow_row_idx_names\u001b[0m\u001b[0;34m,\u001b[0m \u001b[0mformatter\u001b[0m\u001b[0;34m=\u001b[0m\u001b[0mfmt\u001b[0m\u001b[0;34m)\u001b[0m\u001b[0;34m]\u001b[0m\u001b[0;34m\u001b[0m\u001b[0;34m\u001b[0m\u001b[0m\n\u001b[0m\u001b[1;32m    922\u001b[0m \u001b[0;34m\u001b[0m\u001b[0m\n\u001b[1;32m    923\u001b[0m         fmt_index = [\n",
      "\u001b[0;32m~/opt/anaconda3/lib/python3.7/site-packages/pandas/core/indexes/base.py\u001b[0m in \u001b[0;36mformat\u001b[0;34m(self, name, formatter, **kwargs)\u001b[0m\n\u001b[1;32m   1106\u001b[0m             \u001b[0;32mreturn\u001b[0m \u001b[0mheader\u001b[0m \u001b[0;34m+\u001b[0m \u001b[0mlist\u001b[0m\u001b[0;34m(\u001b[0m\u001b[0mself\u001b[0m\u001b[0;34m.\u001b[0m\u001b[0mmap\u001b[0m\u001b[0;34m(\u001b[0m\u001b[0mformatter\u001b[0m\u001b[0;34m)\u001b[0m\u001b[0;34m)\u001b[0m\u001b[0;34m\u001b[0m\u001b[0;34m\u001b[0m\u001b[0m\n\u001b[1;32m   1107\u001b[0m \u001b[0;34m\u001b[0m\u001b[0m\n\u001b[0;32m-> 1108\u001b[0;31m         \u001b[0;32mreturn\u001b[0m \u001b[0mself\u001b[0m\u001b[0;34m.\u001b[0m\u001b[0m_format_with_header\u001b[0m\u001b[0;34m(\u001b[0m\u001b[0mheader\u001b[0m\u001b[0;34m,\u001b[0m \u001b[0;34m**\u001b[0m\u001b[0mkwargs\u001b[0m\u001b[0;34m)\u001b[0m\u001b[0;34m\u001b[0m\u001b[0;34m\u001b[0m\u001b[0m\n\u001b[0m\u001b[1;32m   1109\u001b[0m \u001b[0;34m\u001b[0m\u001b[0m\n\u001b[1;32m   1110\u001b[0m     \u001b[0;32mdef\u001b[0m \u001b[0m_format_with_header\u001b[0m\u001b[0;34m(\u001b[0m\u001b[0mself\u001b[0m\u001b[0;34m,\u001b[0m \u001b[0mheader\u001b[0m\u001b[0;34m,\u001b[0m \u001b[0mna_rep\u001b[0m\u001b[0;34m=\u001b[0m\u001b[0;34m\"NaN\"\u001b[0m\u001b[0;34m,\u001b[0m \u001b[0;34m**\u001b[0m\u001b[0mkwargs\u001b[0m\u001b[0;34m)\u001b[0m\u001b[0;34m:\u001b[0m\u001b[0;34m\u001b[0m\u001b[0;34m\u001b[0m\u001b[0m\n",
      "\u001b[0;32m~/opt/anaconda3/lib/python3.7/site-packages/pandas/core/indexes/base.py\u001b[0m in \u001b[0;36m_format_with_header\u001b[0;34m(self, header, na_rep, **kwargs)\u001b[0m\n\u001b[1;32m   1130\u001b[0m \u001b[0;34m\u001b[0m\u001b[0m\n\u001b[1;32m   1131\u001b[0m         \u001b[0;32melse\u001b[0m\u001b[0;34m:\u001b[0m\u001b[0;34m\u001b[0m\u001b[0;34m\u001b[0m\u001b[0m\n\u001b[0;32m-> 1132\u001b[0;31m             \u001b[0mresult\u001b[0m \u001b[0;34m=\u001b[0m \u001b[0m_trim_front\u001b[0m\u001b[0;34m(\u001b[0m\u001b[0mformat_array\u001b[0m\u001b[0;34m(\u001b[0m\u001b[0mvalues\u001b[0m\u001b[0;34m,\u001b[0m \u001b[0;32mNone\u001b[0m\u001b[0;34m,\u001b[0m \u001b[0mjustify\u001b[0m\u001b[0;34m=\u001b[0m\u001b[0;34m\"left\"\u001b[0m\u001b[0;34m)\u001b[0m\u001b[0;34m)\u001b[0m\u001b[0;34m\u001b[0m\u001b[0;34m\u001b[0m\u001b[0m\n\u001b[0m\u001b[1;32m   1133\u001b[0m         \u001b[0;32mreturn\u001b[0m \u001b[0mheader\u001b[0m \u001b[0;34m+\u001b[0m \u001b[0mresult\u001b[0m\u001b[0;34m\u001b[0m\u001b[0;34m\u001b[0m\u001b[0m\n\u001b[1;32m   1134\u001b[0m \u001b[0;34m\u001b[0m\u001b[0m\n",
      "\u001b[0;32m~/opt/anaconda3/lib/python3.7/site-packages/pandas/io/formats/format.py\u001b[0m in \u001b[0;36mformat_array\u001b[0;34m(values, formatter, float_format, na_rep, digits, space, justify, decimal, leading_space)\u001b[0m\n\u001b[1;32m   1031\u001b[0m     )\n\u001b[1;32m   1032\u001b[0m \u001b[0;34m\u001b[0m\u001b[0m\n\u001b[0;32m-> 1033\u001b[0;31m     \u001b[0;32mreturn\u001b[0m \u001b[0mfmt_obj\u001b[0m\u001b[0;34m.\u001b[0m\u001b[0mget_result\u001b[0m\u001b[0;34m(\u001b[0m\u001b[0;34m)\u001b[0m\u001b[0;34m\u001b[0m\u001b[0;34m\u001b[0m\u001b[0m\n\u001b[0m\u001b[1;32m   1034\u001b[0m \u001b[0;34m\u001b[0m\u001b[0m\n\u001b[1;32m   1035\u001b[0m \u001b[0;34m\u001b[0m\u001b[0m\n",
      "\u001b[0;32m~/opt/anaconda3/lib/python3.7/site-packages/pandas/io/formats/format.py\u001b[0m in \u001b[0;36mget_result\u001b[0;34m(self)\u001b[0m\n\u001b[1;32m   1062\u001b[0m \u001b[0;34m\u001b[0m\u001b[0m\n\u001b[1;32m   1063\u001b[0m     \u001b[0;32mdef\u001b[0m \u001b[0mget_result\u001b[0m\u001b[0;34m(\u001b[0m\u001b[0mself\u001b[0m\u001b[0;34m)\u001b[0m\u001b[0;34m:\u001b[0m\u001b[0;34m\u001b[0m\u001b[0;34m\u001b[0m\u001b[0m\n\u001b[0;32m-> 1064\u001b[0;31m         \u001b[0mfmt_values\u001b[0m \u001b[0;34m=\u001b[0m \u001b[0mself\u001b[0m\u001b[0;34m.\u001b[0m\u001b[0m_format_strings\u001b[0m\u001b[0;34m(\u001b[0m\u001b[0;34m)\u001b[0m\u001b[0;34m\u001b[0m\u001b[0;34m\u001b[0m\u001b[0m\n\u001b[0m\u001b[1;32m   1065\u001b[0m         \u001b[0;32mreturn\u001b[0m \u001b[0m_make_fixed_width\u001b[0m\u001b[0;34m(\u001b[0m\u001b[0mfmt_values\u001b[0m\u001b[0;34m,\u001b[0m \u001b[0mself\u001b[0m\u001b[0;34m.\u001b[0m\u001b[0mjustify\u001b[0m\u001b[0;34m)\u001b[0m\u001b[0;34m\u001b[0m\u001b[0;34m\u001b[0m\u001b[0m\n\u001b[1;32m   1066\u001b[0m \u001b[0;34m\u001b[0m\u001b[0m\n",
      "\u001b[0;32m~/opt/anaconda3/lib/python3.7/site-packages/pandas/io/formats/format.py\u001b[0m in \u001b[0;36m_format_strings\u001b[0;34m(self)\u001b[0m\n\u001b[1;32m   1287\u001b[0m             \u001b[0;32mreturn\u001b[0m \u001b[0;34m[\u001b[0m\u001b[0mself\u001b[0m\u001b[0;34m.\u001b[0m\u001b[0mformatter\u001b[0m\u001b[0;34m(\u001b[0m\u001b[0mx\u001b[0m\u001b[0;34m)\u001b[0m \u001b[0;32mfor\u001b[0m \u001b[0mx\u001b[0m \u001b[0;32min\u001b[0m \u001b[0mself\u001b[0m\u001b[0;34m.\u001b[0m\u001b[0mvalues\u001b[0m\u001b[0;34m]\u001b[0m\u001b[0;34m\u001b[0m\u001b[0;34m\u001b[0m\u001b[0m\n\u001b[1;32m   1288\u001b[0m \u001b[0;34m\u001b[0m\u001b[0m\n\u001b[0;32m-> 1289\u001b[0;31m         \u001b[0;32mreturn\u001b[0m \u001b[0mlist\u001b[0m\u001b[0;34m(\u001b[0m\u001b[0mself\u001b[0m\u001b[0;34m.\u001b[0m\u001b[0mget_result_as_array\u001b[0m\u001b[0;34m(\u001b[0m\u001b[0;34m)\u001b[0m\u001b[0;34m)\u001b[0m\u001b[0;34m\u001b[0m\u001b[0;34m\u001b[0m\u001b[0m\n\u001b[0m\u001b[1;32m   1290\u001b[0m \u001b[0;34m\u001b[0m\u001b[0m\n\u001b[1;32m   1291\u001b[0m \u001b[0;34m\u001b[0m\u001b[0m\n",
      "\u001b[0;32m~/opt/anaconda3/lib/python3.7/site-packages/pandas/io/formats/format.py\u001b[0m in \u001b[0;36mget_result_as_array\u001b[0;34m(self)\u001b[0m\n\u001b[1;32m   1251\u001b[0m             \u001b[0mfloat_format\u001b[0m \u001b[0;34m=\u001b[0m \u001b[0;32mlambda\u001b[0m \u001b[0mvalue\u001b[0m\u001b[0;34m:\u001b[0m \u001b[0mself\u001b[0m\u001b[0;34m.\u001b[0m\u001b[0mfloat_format\u001b[0m \u001b[0;34m%\u001b[0m \u001b[0mvalue\u001b[0m\u001b[0;34m\u001b[0m\u001b[0;34m\u001b[0m\u001b[0m\n\u001b[1;32m   1252\u001b[0m \u001b[0;34m\u001b[0m\u001b[0m\n\u001b[0;32m-> 1253\u001b[0;31m         \u001b[0mformatted_values\u001b[0m \u001b[0;34m=\u001b[0m \u001b[0mformat_values_with\u001b[0m\u001b[0;34m(\u001b[0m\u001b[0mfloat_format\u001b[0m\u001b[0;34m)\u001b[0m\u001b[0;34m\u001b[0m\u001b[0;34m\u001b[0m\u001b[0m\n\u001b[0m\u001b[1;32m   1254\u001b[0m \u001b[0;34m\u001b[0m\u001b[0m\n\u001b[1;32m   1255\u001b[0m         \u001b[0;32mif\u001b[0m \u001b[0;32mnot\u001b[0m \u001b[0mself\u001b[0m\u001b[0;34m.\u001b[0m\u001b[0mfixed_width\u001b[0m\u001b[0;34m:\u001b[0m\u001b[0;34m\u001b[0m\u001b[0;34m\u001b[0m\u001b[0m\n",
      "\u001b[0;32m~/opt/anaconda3/lib/python3.7/site-packages/pandas/io/formats/format.py\u001b[0m in \u001b[0;36mformat_values_with\u001b[0;34m(float_format)\u001b[0m\n\u001b[1;32m   1235\u001b[0m                     \u001b[0;32mreturn\u001b[0m \u001b[0m_trim_zeros_complex\u001b[0m\u001b[0;34m(\u001b[0m\u001b[0mvalues\u001b[0m\u001b[0;34m,\u001b[0m \u001b[0mna_rep\u001b[0m\u001b[0;34m)\u001b[0m\u001b[0;34m\u001b[0m\u001b[0;34m\u001b[0m\u001b[0m\n\u001b[1;32m   1236\u001b[0m                 \u001b[0;32melse\u001b[0m\u001b[0;34m:\u001b[0m\u001b[0;34m\u001b[0m\u001b[0;34m\u001b[0m\u001b[0m\n\u001b[0;32m-> 1237\u001b[0;31m                     \u001b[0;32mreturn\u001b[0m \u001b[0m_trim_zeros_float\u001b[0m\u001b[0;34m(\u001b[0m\u001b[0mvalues\u001b[0m\u001b[0;34m,\u001b[0m \u001b[0mna_rep\u001b[0m\u001b[0;34m)\u001b[0m\u001b[0;34m\u001b[0m\u001b[0;34m\u001b[0m\u001b[0m\n\u001b[0m\u001b[1;32m   1238\u001b[0m \u001b[0;34m\u001b[0m\u001b[0m\n\u001b[1;32m   1239\u001b[0m             \u001b[0;32mreturn\u001b[0m \u001b[0mvalues\u001b[0m\u001b[0;34m\u001b[0m\u001b[0;34m\u001b[0m\u001b[0m\n",
      "\u001b[0;32m~/opt/anaconda3/lib/python3.7/site-packages/pandas/io/formats/format.py\u001b[0m in \u001b[0;36m_trim_zeros_float\u001b[0;34m(str_floats, na_rep)\u001b[0m\n\u001b[1;32m   1613\u001b[0m \u001b[0;34m\u001b[0m\u001b[0m\n\u001b[1;32m   1614\u001b[0m     \u001b[0;31m# leave one 0 after the decimal points if need be.\u001b[0m\u001b[0;34m\u001b[0m\u001b[0;34m\u001b[0m\u001b[0;34m\u001b[0m\u001b[0m\n\u001b[0;32m-> 1615\u001b[0;31m     \u001b[0;32mreturn\u001b[0m \u001b[0;34m[\u001b[0m\u001b[0mx\u001b[0m \u001b[0;34m+\u001b[0m \u001b[0;34m\"0\"\u001b[0m \u001b[0;32mif\u001b[0m \u001b[0mx\u001b[0m\u001b[0;34m.\u001b[0m\u001b[0mendswith\u001b[0m\u001b[0;34m(\u001b[0m\u001b[0;34m\".\"\u001b[0m\u001b[0;34m)\u001b[0m \u001b[0;32mand\u001b[0m \u001b[0m_is_number\u001b[0m\u001b[0;34m(\u001b[0m\u001b[0mx\u001b[0m\u001b[0;34m)\u001b[0m \u001b[0;32melse\u001b[0m \u001b[0mx\u001b[0m \u001b[0;32mfor\u001b[0m \u001b[0mx\u001b[0m \u001b[0;32min\u001b[0m \u001b[0mtrimmed\u001b[0m\u001b[0;34m]\u001b[0m\u001b[0;34m\u001b[0m\u001b[0;34m\u001b[0m\u001b[0m\n\u001b[0m\u001b[1;32m   1616\u001b[0m \u001b[0;34m\u001b[0m\u001b[0m\n\u001b[1;32m   1617\u001b[0m \u001b[0;34m\u001b[0m\u001b[0m\n",
      "\u001b[0;32m~/opt/anaconda3/lib/python3.7/site-packages/pandas/io/formats/format.py\u001b[0m in \u001b[0;36m<listcomp>\u001b[0;34m(.0)\u001b[0m\n\u001b[1;32m   1613\u001b[0m \u001b[0;34m\u001b[0m\u001b[0m\n\u001b[1;32m   1614\u001b[0m     \u001b[0;31m# leave one 0 after the decimal points if need be.\u001b[0m\u001b[0;34m\u001b[0m\u001b[0;34m\u001b[0m\u001b[0;34m\u001b[0m\u001b[0m\n\u001b[0;32m-> 1615\u001b[0;31m     \u001b[0;32mreturn\u001b[0m \u001b[0;34m[\u001b[0m\u001b[0mx\u001b[0m \u001b[0;34m+\u001b[0m \u001b[0;34m\"0\"\u001b[0m \u001b[0;32mif\u001b[0m \u001b[0mx\u001b[0m\u001b[0;34m.\u001b[0m\u001b[0mendswith\u001b[0m\u001b[0;34m(\u001b[0m\u001b[0;34m\".\"\u001b[0m\u001b[0;34m)\u001b[0m \u001b[0;32mand\u001b[0m \u001b[0m_is_number\u001b[0m\u001b[0;34m(\u001b[0m\u001b[0mx\u001b[0m\u001b[0;34m)\u001b[0m \u001b[0;32melse\u001b[0m \u001b[0mx\u001b[0m \u001b[0;32mfor\u001b[0m \u001b[0mx\u001b[0m \u001b[0;32min\u001b[0m \u001b[0mtrimmed\u001b[0m\u001b[0;34m]\u001b[0m\u001b[0;34m\u001b[0m\u001b[0;34m\u001b[0m\u001b[0m\n\u001b[0m\u001b[1;32m   1616\u001b[0m \u001b[0;34m\u001b[0m\u001b[0m\n\u001b[1;32m   1617\u001b[0m \u001b[0;34m\u001b[0m\u001b[0m\n",
      "\u001b[0;31mAttributeError\u001b[0m: 'numpy.ndarray' object has no attribute 'endswith'"
     ]
    },
    {
     "ename": "AttributeError",
     "evalue": "'numpy.ndarray' object has no attribute 'endswith'",
     "output_type": "error",
     "traceback": [
      "\u001b[0;31m---------------------------------------------------------------------------\u001b[0m",
      "\u001b[0;31mAttributeError\u001b[0m                            Traceback (most recent call last)",
      "\u001b[0;32m~/opt/anaconda3/lib/python3.7/site-packages/IPython/core/formatters.py\u001b[0m in \u001b[0;36m__call__\u001b[0;34m(self, obj)\u001b[0m\n\u001b[1;32m    343\u001b[0m             \u001b[0mmethod\u001b[0m \u001b[0;34m=\u001b[0m \u001b[0mget_real_method\u001b[0m\u001b[0;34m(\u001b[0m\u001b[0mobj\u001b[0m\u001b[0;34m,\u001b[0m \u001b[0mself\u001b[0m\u001b[0;34m.\u001b[0m\u001b[0mprint_method\u001b[0m\u001b[0;34m)\u001b[0m\u001b[0;34m\u001b[0m\u001b[0;34m\u001b[0m\u001b[0m\n\u001b[1;32m    344\u001b[0m             \u001b[0;32mif\u001b[0m \u001b[0mmethod\u001b[0m \u001b[0;32mis\u001b[0m \u001b[0;32mnot\u001b[0m \u001b[0;32mNone\u001b[0m\u001b[0;34m:\u001b[0m\u001b[0;34m\u001b[0m\u001b[0;34m\u001b[0m\u001b[0m\n\u001b[0;32m--> 345\u001b[0;31m                 \u001b[0;32mreturn\u001b[0m \u001b[0mmethod\u001b[0m\u001b[0;34m(\u001b[0m\u001b[0;34m)\u001b[0m\u001b[0;34m\u001b[0m\u001b[0;34m\u001b[0m\u001b[0m\n\u001b[0m\u001b[1;32m    346\u001b[0m             \u001b[0;32mreturn\u001b[0m \u001b[0;32mNone\u001b[0m\u001b[0;34m\u001b[0m\u001b[0;34m\u001b[0m\u001b[0m\n\u001b[1;32m    347\u001b[0m         \u001b[0;32melse\u001b[0m\u001b[0;34m:\u001b[0m\u001b[0;34m\u001b[0m\u001b[0;34m\u001b[0m\u001b[0m\n",
      "\u001b[0;32m~/opt/anaconda3/lib/python3.7/site-packages/pandas/core/frame.py\u001b[0m in \u001b[0;36m_repr_html_\u001b[0;34m(self)\u001b[0m\n\u001b[1;32m    685\u001b[0m                 \u001b[0mshow_dimensions\u001b[0m\u001b[0;34m=\u001b[0m\u001b[0mshow_dimensions\u001b[0m\u001b[0;34m,\u001b[0m\u001b[0;34m\u001b[0m\u001b[0;34m\u001b[0m\u001b[0m\n\u001b[1;32m    686\u001b[0m             )\n\u001b[0;32m--> 687\u001b[0;31m             \u001b[0mformatter\u001b[0m\u001b[0;34m.\u001b[0m\u001b[0mto_html\u001b[0m\u001b[0;34m(\u001b[0m\u001b[0mnotebook\u001b[0m\u001b[0;34m=\u001b[0m\u001b[0;32mTrue\u001b[0m\u001b[0;34m)\u001b[0m\u001b[0;34m\u001b[0m\u001b[0;34m\u001b[0m\u001b[0m\n\u001b[0m\u001b[1;32m    688\u001b[0m             \u001b[0;32mreturn\u001b[0m \u001b[0mformatter\u001b[0m\u001b[0;34m.\u001b[0m\u001b[0mbuf\u001b[0m\u001b[0;34m.\u001b[0m\u001b[0mgetvalue\u001b[0m\u001b[0;34m(\u001b[0m\u001b[0;34m)\u001b[0m\u001b[0;34m\u001b[0m\u001b[0;34m\u001b[0m\u001b[0m\n\u001b[1;32m    689\u001b[0m         \u001b[0;32melse\u001b[0m\u001b[0;34m:\u001b[0m\u001b[0;34m\u001b[0m\u001b[0;34m\u001b[0m\u001b[0m\n",
      "\u001b[0;32m~/opt/anaconda3/lib/python3.7/site-packages/pandas/io/formats/format.py\u001b[0m in \u001b[0;36mto_html\u001b[0;34m(self, classes, notebook, border)\u001b[0m\n\u001b[1;32m    838\u001b[0m \u001b[0;34m\u001b[0m\u001b[0m\n\u001b[1;32m    839\u001b[0m         \u001b[0mKlass\u001b[0m \u001b[0;34m=\u001b[0m \u001b[0mNotebookFormatter\u001b[0m \u001b[0;32mif\u001b[0m \u001b[0mnotebook\u001b[0m \u001b[0;32melse\u001b[0m \u001b[0mHTMLFormatter\u001b[0m\u001b[0;34m\u001b[0m\u001b[0;34m\u001b[0m\u001b[0m\n\u001b[0;32m--> 840\u001b[0;31m         \u001b[0mhtml\u001b[0m \u001b[0;34m=\u001b[0m \u001b[0mKlass\u001b[0m\u001b[0;34m(\u001b[0m\u001b[0mself\u001b[0m\u001b[0;34m,\u001b[0m \u001b[0mclasses\u001b[0m\u001b[0;34m=\u001b[0m\u001b[0mclasses\u001b[0m\u001b[0;34m,\u001b[0m \u001b[0mborder\u001b[0m\u001b[0;34m=\u001b[0m\u001b[0mborder\u001b[0m\u001b[0;34m)\u001b[0m\u001b[0;34m.\u001b[0m\u001b[0mrender\u001b[0m\u001b[0;34m(\u001b[0m\u001b[0;34m)\u001b[0m\u001b[0;34m\u001b[0m\u001b[0;34m\u001b[0m\u001b[0m\n\u001b[0m\u001b[1;32m    841\u001b[0m         \u001b[0;32mif\u001b[0m \u001b[0mhasattr\u001b[0m\u001b[0;34m(\u001b[0m\u001b[0mself\u001b[0m\u001b[0;34m.\u001b[0m\u001b[0mbuf\u001b[0m\u001b[0;34m,\u001b[0m \u001b[0;34m\"write\"\u001b[0m\u001b[0;34m)\u001b[0m\u001b[0;34m:\u001b[0m\u001b[0;34m\u001b[0m\u001b[0;34m\u001b[0m\u001b[0m\n\u001b[1;32m    842\u001b[0m             \u001b[0mbuffer_put_lines\u001b[0m\u001b[0;34m(\u001b[0m\u001b[0mself\u001b[0m\u001b[0;34m.\u001b[0m\u001b[0mbuf\u001b[0m\u001b[0;34m,\u001b[0m \u001b[0mhtml\u001b[0m\u001b[0;34m)\u001b[0m\u001b[0;34m\u001b[0m\u001b[0;34m\u001b[0m\u001b[0m\n",
      "\u001b[0;32m~/opt/anaconda3/lib/python3.7/site-packages/pandas/io/formats/html.py\u001b[0m in \u001b[0;36mrender\u001b[0;34m(self)\u001b[0m\n\u001b[1;32m    604\u001b[0m         \u001b[0mself\u001b[0m\u001b[0;34m.\u001b[0m\u001b[0mwrite\u001b[0m\u001b[0;34m(\u001b[0m\u001b[0;34m\"<div>\"\u001b[0m\u001b[0;34m)\u001b[0m\u001b[0;34m\u001b[0m\u001b[0;34m\u001b[0m\u001b[0m\n\u001b[1;32m    605\u001b[0m         \u001b[0mself\u001b[0m\u001b[0;34m.\u001b[0m\u001b[0mwrite_style\u001b[0m\u001b[0;34m(\u001b[0m\u001b[0;34m)\u001b[0m\u001b[0;34m\u001b[0m\u001b[0;34m\u001b[0m\u001b[0m\n\u001b[0;32m--> 606\u001b[0;31m         \u001b[0msuper\u001b[0m\u001b[0;34m(\u001b[0m\u001b[0;34m)\u001b[0m\u001b[0;34m.\u001b[0m\u001b[0mrender\u001b[0m\u001b[0;34m(\u001b[0m\u001b[0;34m)\u001b[0m\u001b[0;34m\u001b[0m\u001b[0;34m\u001b[0m\u001b[0m\n\u001b[0m\u001b[1;32m    607\u001b[0m         \u001b[0mself\u001b[0m\u001b[0;34m.\u001b[0m\u001b[0mwrite\u001b[0m\u001b[0;34m(\u001b[0m\u001b[0;34m\"</div>\"\u001b[0m\u001b[0;34m)\u001b[0m\u001b[0;34m\u001b[0m\u001b[0;34m\u001b[0m\u001b[0m\n\u001b[1;32m    608\u001b[0m         \u001b[0;32mreturn\u001b[0m \u001b[0mself\u001b[0m\u001b[0;34m.\u001b[0m\u001b[0melements\u001b[0m\u001b[0;34m\u001b[0m\u001b[0;34m\u001b[0m\u001b[0m\n",
      "\u001b[0;32m~/opt/anaconda3/lib/python3.7/site-packages/pandas/io/formats/html.py\u001b[0m in \u001b[0;36mrender\u001b[0;34m(self)\u001b[0m\n\u001b[1;32m    191\u001b[0m \u001b[0;34m\u001b[0m\u001b[0m\n\u001b[1;32m    192\u001b[0m     \u001b[0;32mdef\u001b[0m \u001b[0mrender\u001b[0m\u001b[0;34m(\u001b[0m\u001b[0mself\u001b[0m\u001b[0;34m)\u001b[0m \u001b[0;34m->\u001b[0m \u001b[0mList\u001b[0m\u001b[0;34m[\u001b[0m\u001b[0mstr\u001b[0m\u001b[0;34m]\u001b[0m\u001b[0;34m:\u001b[0m\u001b[0;34m\u001b[0m\u001b[0;34m\u001b[0m\u001b[0m\n\u001b[0;32m--> 193\u001b[0;31m         \u001b[0mself\u001b[0m\u001b[0;34m.\u001b[0m\u001b[0m_write_table\u001b[0m\u001b[0;34m(\u001b[0m\u001b[0;34m)\u001b[0m\u001b[0;34m\u001b[0m\u001b[0;34m\u001b[0m\u001b[0m\n\u001b[0m\u001b[1;32m    194\u001b[0m \u001b[0;34m\u001b[0m\u001b[0m\n\u001b[1;32m    195\u001b[0m         \u001b[0;32mif\u001b[0m \u001b[0mself\u001b[0m\u001b[0;34m.\u001b[0m\u001b[0mshould_show_dimensions\u001b[0m\u001b[0;34m:\u001b[0m\u001b[0;34m\u001b[0m\u001b[0;34m\u001b[0m\u001b[0m\n",
      "\u001b[0;32m~/opt/anaconda3/lib/python3.7/site-packages/pandas/io/formats/html.py\u001b[0m in \u001b[0;36m_write_table\u001b[0;34m(self, indent)\u001b[0m\n\u001b[1;32m    233\u001b[0m             \u001b[0mself\u001b[0m\u001b[0;34m.\u001b[0m\u001b[0m_write_header\u001b[0m\u001b[0;34m(\u001b[0m\u001b[0mindent\u001b[0m \u001b[0;34m+\u001b[0m \u001b[0mself\u001b[0m\u001b[0;34m.\u001b[0m\u001b[0mindent_delta\u001b[0m\u001b[0;34m)\u001b[0m\u001b[0;34m\u001b[0m\u001b[0;34m\u001b[0m\u001b[0m\n\u001b[1;32m    234\u001b[0m \u001b[0;34m\u001b[0m\u001b[0m\n\u001b[0;32m--> 235\u001b[0;31m         \u001b[0mself\u001b[0m\u001b[0;34m.\u001b[0m\u001b[0m_write_body\u001b[0m\u001b[0;34m(\u001b[0m\u001b[0mindent\u001b[0m \u001b[0;34m+\u001b[0m \u001b[0mself\u001b[0m\u001b[0;34m.\u001b[0m\u001b[0mindent_delta\u001b[0m\u001b[0;34m)\u001b[0m\u001b[0;34m\u001b[0m\u001b[0;34m\u001b[0m\u001b[0m\n\u001b[0m\u001b[1;32m    236\u001b[0m \u001b[0;34m\u001b[0m\u001b[0m\n\u001b[1;32m    237\u001b[0m         \u001b[0mself\u001b[0m\u001b[0;34m.\u001b[0m\u001b[0mwrite\u001b[0m\u001b[0;34m(\u001b[0m\u001b[0;34m\"</table>\"\u001b[0m\u001b[0;34m,\u001b[0m \u001b[0mindent\u001b[0m\u001b[0;34m)\u001b[0m\u001b[0;34m\u001b[0m\u001b[0;34m\u001b[0m\u001b[0m\n",
      "\u001b[0;32m~/opt/anaconda3/lib/python3.7/site-packages/pandas/io/formats/html.py\u001b[0m in \u001b[0;36m_write_body\u001b[0;34m(self, indent)\u001b[0m\n\u001b[1;32m    385\u001b[0m             \u001b[0mself\u001b[0m\u001b[0;34m.\u001b[0m\u001b[0m_write_hierarchical_rows\u001b[0m\u001b[0;34m(\u001b[0m\u001b[0mfmt_values\u001b[0m\u001b[0;34m,\u001b[0m \u001b[0mindent\u001b[0m \u001b[0;34m+\u001b[0m \u001b[0mself\u001b[0m\u001b[0;34m.\u001b[0m\u001b[0mindent_delta\u001b[0m\u001b[0;34m)\u001b[0m\u001b[0;34m\u001b[0m\u001b[0;34m\u001b[0m\u001b[0m\n\u001b[1;32m    386\u001b[0m         \u001b[0;32melse\u001b[0m\u001b[0;34m:\u001b[0m\u001b[0;34m\u001b[0m\u001b[0;34m\u001b[0m\u001b[0m\n\u001b[0;32m--> 387\u001b[0;31m             \u001b[0mself\u001b[0m\u001b[0;34m.\u001b[0m\u001b[0m_write_regular_rows\u001b[0m\u001b[0;34m(\u001b[0m\u001b[0mfmt_values\u001b[0m\u001b[0;34m,\u001b[0m \u001b[0mindent\u001b[0m \u001b[0;34m+\u001b[0m \u001b[0mself\u001b[0m\u001b[0;34m.\u001b[0m\u001b[0mindent_delta\u001b[0m\u001b[0;34m)\u001b[0m\u001b[0;34m\u001b[0m\u001b[0;34m\u001b[0m\u001b[0m\n\u001b[0m\u001b[1;32m    388\u001b[0m \u001b[0;34m\u001b[0m\u001b[0m\n\u001b[1;32m    389\u001b[0m         \u001b[0mself\u001b[0m\u001b[0;34m.\u001b[0m\u001b[0mwrite\u001b[0m\u001b[0;34m(\u001b[0m\u001b[0;34m\"</tbody>\"\u001b[0m\u001b[0;34m,\u001b[0m \u001b[0mindent\u001b[0m\u001b[0;34m)\u001b[0m\u001b[0;34m\u001b[0m\u001b[0;34m\u001b[0m\u001b[0m\n",
      "\u001b[0;32m~/opt/anaconda3/lib/python3.7/site-packages/pandas/io/formats/html.py\u001b[0m in \u001b[0;36m_write_regular_rows\u001b[0;34m(self, fmt_values, indent)\u001b[0m\n\u001b[1;32m    402\u001b[0m                 \u001b[0mindex_values\u001b[0m \u001b[0;34m=\u001b[0m \u001b[0mself\u001b[0m\u001b[0;34m.\u001b[0m\u001b[0mfmt\u001b[0m\u001b[0;34m.\u001b[0m\u001b[0mtr_frame\u001b[0m\u001b[0;34m.\u001b[0m\u001b[0mindex\u001b[0m\u001b[0;34m.\u001b[0m\u001b[0mmap\u001b[0m\u001b[0;34m(\u001b[0m\u001b[0mfmt\u001b[0m\u001b[0;34m)\u001b[0m\u001b[0;34m\u001b[0m\u001b[0;34m\u001b[0m\u001b[0m\n\u001b[1;32m    403\u001b[0m             \u001b[0;32melse\u001b[0m\u001b[0;34m:\u001b[0m\u001b[0;34m\u001b[0m\u001b[0;34m\u001b[0m\u001b[0m\n\u001b[0;32m--> 404\u001b[0;31m                 \u001b[0mindex_values\u001b[0m \u001b[0;34m=\u001b[0m \u001b[0mself\u001b[0m\u001b[0;34m.\u001b[0m\u001b[0mfmt\u001b[0m\u001b[0;34m.\u001b[0m\u001b[0mtr_frame\u001b[0m\u001b[0;34m.\u001b[0m\u001b[0mindex\u001b[0m\u001b[0;34m.\u001b[0m\u001b[0mformat\u001b[0m\u001b[0;34m(\u001b[0m\u001b[0;34m)\u001b[0m\u001b[0;34m\u001b[0m\u001b[0;34m\u001b[0m\u001b[0m\n\u001b[0m\u001b[1;32m    405\u001b[0m \u001b[0;34m\u001b[0m\u001b[0m\n\u001b[1;32m    406\u001b[0m         \u001b[0mrow\u001b[0m \u001b[0;34m=\u001b[0m \u001b[0;34m[\u001b[0m\u001b[0;34m]\u001b[0m  \u001b[0;31m# type: List[str]\u001b[0m\u001b[0;34m\u001b[0m\u001b[0;34m\u001b[0m\u001b[0m\n",
      "\u001b[0;32m~/opt/anaconda3/lib/python3.7/site-packages/pandas/core/indexes/base.py\u001b[0m in \u001b[0;36mformat\u001b[0;34m(self, name, formatter, **kwargs)\u001b[0m\n\u001b[1;32m   1106\u001b[0m             \u001b[0;32mreturn\u001b[0m \u001b[0mheader\u001b[0m \u001b[0;34m+\u001b[0m \u001b[0mlist\u001b[0m\u001b[0;34m(\u001b[0m\u001b[0mself\u001b[0m\u001b[0;34m.\u001b[0m\u001b[0mmap\u001b[0m\u001b[0;34m(\u001b[0m\u001b[0mformatter\u001b[0m\u001b[0;34m)\u001b[0m\u001b[0;34m)\u001b[0m\u001b[0;34m\u001b[0m\u001b[0;34m\u001b[0m\u001b[0m\n\u001b[1;32m   1107\u001b[0m \u001b[0;34m\u001b[0m\u001b[0m\n\u001b[0;32m-> 1108\u001b[0;31m         \u001b[0;32mreturn\u001b[0m \u001b[0mself\u001b[0m\u001b[0;34m.\u001b[0m\u001b[0m_format_with_header\u001b[0m\u001b[0;34m(\u001b[0m\u001b[0mheader\u001b[0m\u001b[0;34m,\u001b[0m \u001b[0;34m**\u001b[0m\u001b[0mkwargs\u001b[0m\u001b[0;34m)\u001b[0m\u001b[0;34m\u001b[0m\u001b[0;34m\u001b[0m\u001b[0m\n\u001b[0m\u001b[1;32m   1109\u001b[0m \u001b[0;34m\u001b[0m\u001b[0m\n\u001b[1;32m   1110\u001b[0m     \u001b[0;32mdef\u001b[0m \u001b[0m_format_with_header\u001b[0m\u001b[0;34m(\u001b[0m\u001b[0mself\u001b[0m\u001b[0;34m,\u001b[0m \u001b[0mheader\u001b[0m\u001b[0;34m,\u001b[0m \u001b[0mna_rep\u001b[0m\u001b[0;34m=\u001b[0m\u001b[0;34m\"NaN\"\u001b[0m\u001b[0;34m,\u001b[0m \u001b[0;34m**\u001b[0m\u001b[0mkwargs\u001b[0m\u001b[0;34m)\u001b[0m\u001b[0;34m:\u001b[0m\u001b[0;34m\u001b[0m\u001b[0;34m\u001b[0m\u001b[0m\n",
      "\u001b[0;32m~/opt/anaconda3/lib/python3.7/site-packages/pandas/core/indexes/base.py\u001b[0m in \u001b[0;36m_format_with_header\u001b[0;34m(self, header, na_rep, **kwargs)\u001b[0m\n\u001b[1;32m   1130\u001b[0m \u001b[0;34m\u001b[0m\u001b[0m\n\u001b[1;32m   1131\u001b[0m         \u001b[0;32melse\u001b[0m\u001b[0;34m:\u001b[0m\u001b[0;34m\u001b[0m\u001b[0;34m\u001b[0m\u001b[0m\n\u001b[0;32m-> 1132\u001b[0;31m             \u001b[0mresult\u001b[0m \u001b[0;34m=\u001b[0m \u001b[0m_trim_front\u001b[0m\u001b[0;34m(\u001b[0m\u001b[0mformat_array\u001b[0m\u001b[0;34m(\u001b[0m\u001b[0mvalues\u001b[0m\u001b[0;34m,\u001b[0m \u001b[0;32mNone\u001b[0m\u001b[0;34m,\u001b[0m \u001b[0mjustify\u001b[0m\u001b[0;34m=\u001b[0m\u001b[0;34m\"left\"\u001b[0m\u001b[0;34m)\u001b[0m\u001b[0;34m)\u001b[0m\u001b[0;34m\u001b[0m\u001b[0;34m\u001b[0m\u001b[0m\n\u001b[0m\u001b[1;32m   1133\u001b[0m         \u001b[0;32mreturn\u001b[0m \u001b[0mheader\u001b[0m \u001b[0;34m+\u001b[0m \u001b[0mresult\u001b[0m\u001b[0;34m\u001b[0m\u001b[0;34m\u001b[0m\u001b[0m\n\u001b[1;32m   1134\u001b[0m \u001b[0;34m\u001b[0m\u001b[0m\n",
      "\u001b[0;32m~/opt/anaconda3/lib/python3.7/site-packages/pandas/io/formats/format.py\u001b[0m in \u001b[0;36mformat_array\u001b[0;34m(values, formatter, float_format, na_rep, digits, space, justify, decimal, leading_space)\u001b[0m\n\u001b[1;32m   1031\u001b[0m     )\n\u001b[1;32m   1032\u001b[0m \u001b[0;34m\u001b[0m\u001b[0m\n\u001b[0;32m-> 1033\u001b[0;31m     \u001b[0;32mreturn\u001b[0m \u001b[0mfmt_obj\u001b[0m\u001b[0;34m.\u001b[0m\u001b[0mget_result\u001b[0m\u001b[0;34m(\u001b[0m\u001b[0;34m)\u001b[0m\u001b[0;34m\u001b[0m\u001b[0;34m\u001b[0m\u001b[0m\n\u001b[0m\u001b[1;32m   1034\u001b[0m \u001b[0;34m\u001b[0m\u001b[0m\n\u001b[1;32m   1035\u001b[0m \u001b[0;34m\u001b[0m\u001b[0m\n",
      "\u001b[0;32m~/opt/anaconda3/lib/python3.7/site-packages/pandas/io/formats/format.py\u001b[0m in \u001b[0;36mget_result\u001b[0;34m(self)\u001b[0m\n\u001b[1;32m   1062\u001b[0m \u001b[0;34m\u001b[0m\u001b[0m\n\u001b[1;32m   1063\u001b[0m     \u001b[0;32mdef\u001b[0m \u001b[0mget_result\u001b[0m\u001b[0;34m(\u001b[0m\u001b[0mself\u001b[0m\u001b[0;34m)\u001b[0m\u001b[0;34m:\u001b[0m\u001b[0;34m\u001b[0m\u001b[0;34m\u001b[0m\u001b[0m\n\u001b[0;32m-> 1064\u001b[0;31m         \u001b[0mfmt_values\u001b[0m \u001b[0;34m=\u001b[0m \u001b[0mself\u001b[0m\u001b[0;34m.\u001b[0m\u001b[0m_format_strings\u001b[0m\u001b[0;34m(\u001b[0m\u001b[0;34m)\u001b[0m\u001b[0;34m\u001b[0m\u001b[0;34m\u001b[0m\u001b[0m\n\u001b[0m\u001b[1;32m   1065\u001b[0m         \u001b[0;32mreturn\u001b[0m \u001b[0m_make_fixed_width\u001b[0m\u001b[0;34m(\u001b[0m\u001b[0mfmt_values\u001b[0m\u001b[0;34m,\u001b[0m \u001b[0mself\u001b[0m\u001b[0;34m.\u001b[0m\u001b[0mjustify\u001b[0m\u001b[0;34m)\u001b[0m\u001b[0;34m\u001b[0m\u001b[0;34m\u001b[0m\u001b[0m\n\u001b[1;32m   1066\u001b[0m \u001b[0;34m\u001b[0m\u001b[0m\n",
      "\u001b[0;32m~/opt/anaconda3/lib/python3.7/site-packages/pandas/io/formats/format.py\u001b[0m in \u001b[0;36m_format_strings\u001b[0;34m(self)\u001b[0m\n\u001b[1;32m   1287\u001b[0m             \u001b[0;32mreturn\u001b[0m \u001b[0;34m[\u001b[0m\u001b[0mself\u001b[0m\u001b[0;34m.\u001b[0m\u001b[0mformatter\u001b[0m\u001b[0;34m(\u001b[0m\u001b[0mx\u001b[0m\u001b[0;34m)\u001b[0m \u001b[0;32mfor\u001b[0m \u001b[0mx\u001b[0m \u001b[0;32min\u001b[0m \u001b[0mself\u001b[0m\u001b[0;34m.\u001b[0m\u001b[0mvalues\u001b[0m\u001b[0;34m]\u001b[0m\u001b[0;34m\u001b[0m\u001b[0;34m\u001b[0m\u001b[0m\n\u001b[1;32m   1288\u001b[0m \u001b[0;34m\u001b[0m\u001b[0m\n\u001b[0;32m-> 1289\u001b[0;31m         \u001b[0;32mreturn\u001b[0m \u001b[0mlist\u001b[0m\u001b[0;34m(\u001b[0m\u001b[0mself\u001b[0m\u001b[0;34m.\u001b[0m\u001b[0mget_result_as_array\u001b[0m\u001b[0;34m(\u001b[0m\u001b[0;34m)\u001b[0m\u001b[0;34m)\u001b[0m\u001b[0;34m\u001b[0m\u001b[0;34m\u001b[0m\u001b[0m\n\u001b[0m\u001b[1;32m   1290\u001b[0m \u001b[0;34m\u001b[0m\u001b[0m\n\u001b[1;32m   1291\u001b[0m \u001b[0;34m\u001b[0m\u001b[0m\n",
      "\u001b[0;32m~/opt/anaconda3/lib/python3.7/site-packages/pandas/io/formats/format.py\u001b[0m in \u001b[0;36mget_result_as_array\u001b[0;34m(self)\u001b[0m\n\u001b[1;32m   1251\u001b[0m             \u001b[0mfloat_format\u001b[0m \u001b[0;34m=\u001b[0m \u001b[0;32mlambda\u001b[0m \u001b[0mvalue\u001b[0m\u001b[0;34m:\u001b[0m \u001b[0mself\u001b[0m\u001b[0;34m.\u001b[0m\u001b[0mfloat_format\u001b[0m \u001b[0;34m%\u001b[0m \u001b[0mvalue\u001b[0m\u001b[0;34m\u001b[0m\u001b[0;34m\u001b[0m\u001b[0m\n\u001b[1;32m   1252\u001b[0m \u001b[0;34m\u001b[0m\u001b[0m\n\u001b[0;32m-> 1253\u001b[0;31m         \u001b[0mformatted_values\u001b[0m \u001b[0;34m=\u001b[0m \u001b[0mformat_values_with\u001b[0m\u001b[0;34m(\u001b[0m\u001b[0mfloat_format\u001b[0m\u001b[0;34m)\u001b[0m\u001b[0;34m\u001b[0m\u001b[0;34m\u001b[0m\u001b[0m\n\u001b[0m\u001b[1;32m   1254\u001b[0m \u001b[0;34m\u001b[0m\u001b[0m\n\u001b[1;32m   1255\u001b[0m         \u001b[0;32mif\u001b[0m \u001b[0;32mnot\u001b[0m \u001b[0mself\u001b[0m\u001b[0;34m.\u001b[0m\u001b[0mfixed_width\u001b[0m\u001b[0;34m:\u001b[0m\u001b[0;34m\u001b[0m\u001b[0;34m\u001b[0m\u001b[0m\n",
      "\u001b[0;32m~/opt/anaconda3/lib/python3.7/site-packages/pandas/io/formats/format.py\u001b[0m in \u001b[0;36mformat_values_with\u001b[0;34m(float_format)\u001b[0m\n\u001b[1;32m   1235\u001b[0m                     \u001b[0;32mreturn\u001b[0m \u001b[0m_trim_zeros_complex\u001b[0m\u001b[0;34m(\u001b[0m\u001b[0mvalues\u001b[0m\u001b[0;34m,\u001b[0m \u001b[0mna_rep\u001b[0m\u001b[0;34m)\u001b[0m\u001b[0;34m\u001b[0m\u001b[0;34m\u001b[0m\u001b[0m\n\u001b[1;32m   1236\u001b[0m                 \u001b[0;32melse\u001b[0m\u001b[0;34m:\u001b[0m\u001b[0;34m\u001b[0m\u001b[0;34m\u001b[0m\u001b[0m\n\u001b[0;32m-> 1237\u001b[0;31m                     \u001b[0;32mreturn\u001b[0m \u001b[0m_trim_zeros_float\u001b[0m\u001b[0;34m(\u001b[0m\u001b[0mvalues\u001b[0m\u001b[0;34m,\u001b[0m \u001b[0mna_rep\u001b[0m\u001b[0;34m)\u001b[0m\u001b[0;34m\u001b[0m\u001b[0;34m\u001b[0m\u001b[0m\n\u001b[0m\u001b[1;32m   1238\u001b[0m \u001b[0;34m\u001b[0m\u001b[0m\n\u001b[1;32m   1239\u001b[0m             \u001b[0;32mreturn\u001b[0m \u001b[0mvalues\u001b[0m\u001b[0;34m\u001b[0m\u001b[0;34m\u001b[0m\u001b[0m\n",
      "\u001b[0;32m~/opt/anaconda3/lib/python3.7/site-packages/pandas/io/formats/format.py\u001b[0m in \u001b[0;36m_trim_zeros_float\u001b[0;34m(str_floats, na_rep)\u001b[0m\n\u001b[1;32m   1613\u001b[0m \u001b[0;34m\u001b[0m\u001b[0m\n\u001b[1;32m   1614\u001b[0m     \u001b[0;31m# leave one 0 after the decimal points if need be.\u001b[0m\u001b[0;34m\u001b[0m\u001b[0;34m\u001b[0m\u001b[0;34m\u001b[0m\u001b[0m\n\u001b[0;32m-> 1615\u001b[0;31m     \u001b[0;32mreturn\u001b[0m \u001b[0;34m[\u001b[0m\u001b[0mx\u001b[0m \u001b[0;34m+\u001b[0m \u001b[0;34m\"0\"\u001b[0m \u001b[0;32mif\u001b[0m \u001b[0mx\u001b[0m\u001b[0;34m.\u001b[0m\u001b[0mendswith\u001b[0m\u001b[0;34m(\u001b[0m\u001b[0;34m\".\"\u001b[0m\u001b[0;34m)\u001b[0m \u001b[0;32mand\u001b[0m \u001b[0m_is_number\u001b[0m\u001b[0;34m(\u001b[0m\u001b[0mx\u001b[0m\u001b[0;34m)\u001b[0m \u001b[0;32melse\u001b[0m \u001b[0mx\u001b[0m \u001b[0;32mfor\u001b[0m \u001b[0mx\u001b[0m \u001b[0;32min\u001b[0m \u001b[0mtrimmed\u001b[0m\u001b[0;34m]\u001b[0m\u001b[0;34m\u001b[0m\u001b[0;34m\u001b[0m\u001b[0m\n\u001b[0m\u001b[1;32m   1616\u001b[0m \u001b[0;34m\u001b[0m\u001b[0m\n\u001b[1;32m   1617\u001b[0m \u001b[0;34m\u001b[0m\u001b[0m\n",
      "\u001b[0;32m~/opt/anaconda3/lib/python3.7/site-packages/pandas/io/formats/format.py\u001b[0m in \u001b[0;36m<listcomp>\u001b[0;34m(.0)\u001b[0m\n\u001b[1;32m   1613\u001b[0m \u001b[0;34m\u001b[0m\u001b[0m\n\u001b[1;32m   1614\u001b[0m     \u001b[0;31m# leave one 0 after the decimal points if need be.\u001b[0m\u001b[0;34m\u001b[0m\u001b[0;34m\u001b[0m\u001b[0;34m\u001b[0m\u001b[0m\n\u001b[0;32m-> 1615\u001b[0;31m     \u001b[0;32mreturn\u001b[0m \u001b[0;34m[\u001b[0m\u001b[0mx\u001b[0m \u001b[0;34m+\u001b[0m \u001b[0;34m\"0\"\u001b[0m \u001b[0;32mif\u001b[0m \u001b[0mx\u001b[0m\u001b[0;34m.\u001b[0m\u001b[0mendswith\u001b[0m\u001b[0;34m(\u001b[0m\u001b[0;34m\".\"\u001b[0m\u001b[0;34m)\u001b[0m \u001b[0;32mand\u001b[0m \u001b[0m_is_number\u001b[0m\u001b[0;34m(\u001b[0m\u001b[0mx\u001b[0m\u001b[0;34m)\u001b[0m \u001b[0;32melse\u001b[0m \u001b[0mx\u001b[0m \u001b[0;32mfor\u001b[0m \u001b[0mx\u001b[0m \u001b[0;32min\u001b[0m \u001b[0mtrimmed\u001b[0m\u001b[0;34m]\u001b[0m\u001b[0;34m\u001b[0m\u001b[0;34m\u001b[0m\u001b[0m\n\u001b[0m\u001b[1;32m   1616\u001b[0m \u001b[0;34m\u001b[0m\u001b[0m\n\u001b[1;32m   1617\u001b[0m \u001b[0;34m\u001b[0m\u001b[0m\n",
      "\u001b[0;31mAttributeError\u001b[0m: 'numpy.ndarray' object has no attribute 'endswith'"
     ]
    }
   ],
   "source": [
    "promo_indexes"
   ]
  },
  {
   "cell_type": "code",
   "execution_count": null,
   "metadata": {},
   "outputs": [],
   "source": []
  },
  {
   "cell_type": "code",
   "execution_count": null,
   "metadata": {},
   "outputs": [],
   "source": []
  },
  {
   "cell_type": "code",
   "execution_count": 32,
   "metadata": {},
   "outputs": [
    {
     "name": "stderr",
     "output_type": "stream",
     "text": [
      "/Users/caldermyers/opt/anaconda3/lib/python3.7/site-packages/pandas/core/frame.py:4102: SettingWithCopyWarning: \n",
      "A value is trying to be set on a copy of a slice from a DataFrame\n",
      "\n",
      "See the caveats in the documentation: http://pandas.pydata.org/pandas-docs/stable/user_guide/indexing.html#returning-a-view-versus-a-copy\n",
      "  errors=errors,\n"
     ]
    }
   ],
   "source": [
    "retail_joined_df = retail_features_df.merge(retail_sales_df, on=[\"Store\", \"Date\"])\n",
    "retail_joined_df_jwl = retail_joined_df.loc[retail_joined_df[\"Dept\"] == \"Jewelry\"]\n",
    "retail_joined_df_jwl.drop(\"IsHoliday_y\", axis=1, inplace=True)"
   ]
  },
  {
   "cell_type": "code",
   "execution_count": null,
   "metadata": {},
   "outputs": [],
   "source": []
  }
 ],
 "metadata": {
  "colab": {
   "name": "data-viz.ipynb",
   "provenance": [],
   "toc_visible": true
  },
  "kernelspec": {
   "display_name": "Python 3",
   "language": "python",
   "name": "python3"
  },
  "language_info": {
   "codemirror_mode": {
    "name": "ipython",
    "version": 3
   },
   "file_extension": ".py",
   "mimetype": "text/x-python",
   "name": "python",
   "nbconvert_exporter": "python",
   "pygments_lexer": "ipython3",
   "version": "3.7.4"
  }
 },
 "nbformat": 4,
 "nbformat_minor": 1
}
