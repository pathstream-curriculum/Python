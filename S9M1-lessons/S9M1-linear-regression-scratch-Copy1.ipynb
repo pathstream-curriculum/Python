{
 "cells": [
  {
   "cell_type": "code",
   "execution_count": 9,
   "metadata": {
    "colab": {},
    "colab_type": "code",
    "id": "_aWvcN8bK4ek"
   },
   "outputs": [],
   "source": [
    "import numpy as np\n",
    "import pandas as pd\n",
    "import matplotlib.pyplot as plt\n",
    "import seaborn as sns\n",
    "from statsmodels.stats.weightstats import ttest_ind\n",
    "from statsmodels.stats.proportion import proportions_ztest\n",
    "\n",
    "sns.set()"
   ]
  },
  {
   "cell_type": "code",
   "execution_count": 10,
   "metadata": {
    "colab": {},
    "colab_type": "code",
    "id": "h98eyrhWBPcs"
   },
   "outputs": [],
   "source": [
    "base = \"https://raw.githubusercontent.com/pathstream-curriculum/Python/master/\"\n",
    "retail_features = \"retail_features_4stores.csv\"\n",
    "retail_sales = \"retail_sales_4stores.csv\""
   ]
  },
  {
   "cell_type": "code",
   "execution_count": 11,
   "metadata": {},
   "outputs": [],
   "source": [
    "retail_sales_df = pd.read_csv(base + retail_sales)\n",
    "retail_features_df = pd.read_csv(base + retail_features)"
   ]
  },
  {
   "cell_type": "code",
   "execution_count": 12,
   "metadata": {},
   "outputs": [],
   "source": [
    "# convert Date to datetime\n",
    "retail_sales_df[\"Date\"] = pd.to_datetime(retail_sales_df.Date)\n",
    "retail_features_df[\"Date\"] = pd.to_datetime(retail_sales_df.Date)\n",
    "# convert Store and Dept to string\n",
    "retail_sales_df[\"Store\"] = retail_sales_df.Store.astype(\"str\")\n",
    "retail_sales_df[\"Dept\"] = retail_sales_df.Dept.astype(\"str\")\n",
    "retail_features_df[\"Store\"] = retail_features_df.Store.astype(\"str\")\n",
    "\n",
    "#deal with the sorting issue up front\n",
    "retail_sales_df.sort_values(\"Date\", inplace=True)\n",
    "retail_features_df.sort_values(\"Date\", inplace=True)"
   ]
  },
  {
   "cell_type": "code",
   "execution_count": 13,
   "metadata": {},
   "outputs": [
    {
     "data": {
      "text/html": [
       "<div>\n",
       "<style scoped>\n",
       "    .dataframe tbody tr th:only-of-type {\n",
       "        vertical-align: middle;\n",
       "    }\n",
       "\n",
       "    .dataframe tbody tr th {\n",
       "        vertical-align: top;\n",
       "    }\n",
       "\n",
       "    .dataframe thead th {\n",
       "        text-align: right;\n",
       "    }\n",
       "</style>\n",
       "<table border=\"1\" class=\"dataframe\">\n",
       "  <thead>\n",
       "    <tr style=\"text-align: right;\">\n",
       "      <th></th>\n",
       "      <th>Unnamed: 0</th>\n",
       "      <th>Store</th>\n",
       "      <th>Dept</th>\n",
       "      <th>Date</th>\n",
       "      <th>Weekly_Sales</th>\n",
       "      <th>IsHoliday</th>\n",
       "    </tr>\n",
       "  </thead>\n",
       "  <tbody>\n",
       "    <tr>\n",
       "      <td>0</td>\n",
       "      <td>1178</td>\n",
       "      <td>Los Angeles</td>\n",
       "      <td>Clothing</td>\n",
       "      <td>2010-01-10</td>\n",
       "      <td>27023.35</td>\n",
       "      <td>False</td>\n",
       "    </tr>\n",
       "    <tr>\n",
       "      <td>31</td>\n",
       "      <td>2751</td>\n",
       "      <td>Buffalo</td>\n",
       "      <td>Jewelry</td>\n",
       "      <td>2010-01-10</td>\n",
       "      <td>6947.26</td>\n",
       "      <td>False</td>\n",
       "    </tr>\n",
       "    <tr>\n",
       "      <td>30</td>\n",
       "      <td>1464</td>\n",
       "      <td>Los Angeles</td>\n",
       "      <td>Furniture</td>\n",
       "      <td>2010-01-10</td>\n",
       "      <td>12390.87</td>\n",
       "      <td>False</td>\n",
       "    </tr>\n",
       "    <tr>\n",
       "      <td>29</td>\n",
       "      <td>3609</td>\n",
       "      <td>Seattle</td>\n",
       "      <td>Housewares</td>\n",
       "      <td>2010-01-10</td>\n",
       "      <td>88537.23</td>\n",
       "      <td>False</td>\n",
       "    </tr>\n",
       "    <tr>\n",
       "      <td>28</td>\n",
       "      <td>463</td>\n",
       "      <td>Las Vegas</td>\n",
       "      <td>Jewelry</td>\n",
       "      <td>2010-01-10</td>\n",
       "      <td>34912.45</td>\n",
       "      <td>False</td>\n",
       "    </tr>\n",
       "  </tbody>\n",
       "</table>\n",
       "</div>"
      ],
      "text/plain": [
       "    Unnamed: 0        Store        Dept       Date  Weekly_Sales  IsHoliday\n",
       "0         1178  Los Angeles    Clothing 2010-01-10      27023.35      False\n",
       "31        2751      Buffalo     Jewelry 2010-01-10       6947.26      False\n",
       "30        1464  Los Angeles   Furniture 2010-01-10      12390.87      False\n",
       "29        3609      Seattle  Housewares 2010-01-10      88537.23      False\n",
       "28         463    Las Vegas     Jewelry 2010-01-10      34912.45      False"
      ]
     },
     "execution_count": 13,
     "metadata": {},
     "output_type": "execute_result"
    }
   ],
   "source": [
    "retail_sales_df.head()"
   ]
  },
  {
   "cell_type": "markdown",
   "metadata": {},
   "source": [
    "## Narrative\n",
    "\n",
    "You are curious which of the departments does the best job of predicting total store sales for that day. "
   ]
  },
  {
   "cell_type": "code",
   "execution_count": 14,
   "metadata": {},
   "outputs": [],
   "source": [
    "# let's try with Seattle\n",
    "sea_sales_df = retail_sales_df.loc[retail_sales_df.Store==\"Buffalo\"]"
   ]
  },
  {
   "cell_type": "code",
   "execution_count": 15,
   "metadata": {},
   "outputs": [],
   "source": [
    "# create a DataFrame with the total sales for the store, by date\n",
    "sea_sales_df_all = sea_sales_df.groupby(\"Date\").agg({\"Weekly_Sales\":\"sum\"}).reset_index()\n",
    "#rename the Weekly_Sales columns to Weekly_Sales_all\n",
    "sea_sales_df_all[\"Weekly_Sales_all\"] = sea_sales_df_all[\"Weekly_Sales\"]\n",
    "sea_sales_df_all.drop(\"Weekly_Sales\", axis=1, inplace=True)"
   ]
  },
  {
   "cell_type": "code",
   "execution_count": 16,
   "metadata": {},
   "outputs": [
    {
     "data": {
      "text/html": [
       "<div>\n",
       "<style scoped>\n",
       "    .dataframe tbody tr th:only-of-type {\n",
       "        vertical-align: middle;\n",
       "    }\n",
       "\n",
       "    .dataframe tbody tr th {\n",
       "        vertical-align: top;\n",
       "    }\n",
       "\n",
       "    .dataframe thead th {\n",
       "        text-align: right;\n",
       "    }\n",
       "</style>\n",
       "<table border=\"1\" class=\"dataframe\">\n",
       "  <thead>\n",
       "    <tr style=\"text-align: right;\">\n",
       "      <th></th>\n",
       "      <th>Date</th>\n",
       "      <th>Weekly_Sales_all</th>\n",
       "    </tr>\n",
       "  </thead>\n",
       "  <tbody>\n",
       "    <tr>\n",
       "      <td>0</td>\n",
       "      <td>2010-01-10</td>\n",
       "      <td>53827.15</td>\n",
       "    </tr>\n",
       "    <tr>\n",
       "      <td>1</td>\n",
       "      <td>2010-02-04</td>\n",
       "      <td>72078.00</td>\n",
       "    </tr>\n",
       "    <tr>\n",
       "      <td>2</td>\n",
       "      <td>2010-02-07</td>\n",
       "      <td>57671.21</td>\n",
       "    </tr>\n",
       "    <tr>\n",
       "      <td>3</td>\n",
       "      <td>2010-02-19</td>\n",
       "      <td>70042.38</td>\n",
       "    </tr>\n",
       "    <tr>\n",
       "      <td>4</td>\n",
       "      <td>2010-02-26</td>\n",
       "      <td>62925.05</td>\n",
       "    </tr>\n",
       "    <tr>\n",
       "      <td>...</td>\n",
       "      <td>...</td>\n",
       "      <td>...</td>\n",
       "    </tr>\n",
       "    <tr>\n",
       "      <td>138</td>\n",
       "      <td>2012-10-08</td>\n",
       "      <td>78010.15</td>\n",
       "    </tr>\n",
       "    <tr>\n",
       "      <td>139</td>\n",
       "      <td>2012-10-19</td>\n",
       "      <td>80768.01</td>\n",
       "    </tr>\n",
       "    <tr>\n",
       "      <td>140</td>\n",
       "      <td>2012-10-26</td>\n",
       "      <td>76424.89</td>\n",
       "    </tr>\n",
       "    <tr>\n",
       "      <td>141</td>\n",
       "      <td>2012-11-05</td>\n",
       "      <td>70392.08</td>\n",
       "    </tr>\n",
       "    <tr>\n",
       "      <td>142</td>\n",
       "      <td>2012-12-10</td>\n",
       "      <td>74409.95</td>\n",
       "    </tr>\n",
       "  </tbody>\n",
       "</table>\n",
       "<p>143 rows × 2 columns</p>\n",
       "</div>"
      ],
      "text/plain": [
       "          Date  Weekly_Sales_all\n",
       "0   2010-01-10          53827.15\n",
       "1   2010-02-04          72078.00\n",
       "2   2010-02-07          57671.21\n",
       "3   2010-02-19          70042.38\n",
       "4   2010-02-26          62925.05\n",
       "..         ...               ...\n",
       "138 2012-10-08          78010.15\n",
       "139 2012-10-19          80768.01\n",
       "140 2012-10-26          76424.89\n",
       "141 2012-11-05          70392.08\n",
       "142 2012-12-10          74409.95\n",
       "\n",
       "[143 rows x 2 columns]"
      ]
     },
     "execution_count": 16,
     "metadata": {},
     "output_type": "execute_result"
    }
   ],
   "source": [
    "sea_sales_df_all"
   ]
  },
  {
   "cell_type": "code",
   "execution_count": 19,
   "metadata": {
    "scrolled": false
   },
   "outputs": [
    {
     "name": "stdout",
     "output_type": "stream",
     "text": [
      "Jewelry\n"
     ]
    },
    {
     "data": {
      "image/png": "[encoded data removed]",
      "text/plain": [
       "<Figure size 432x288 with 1 Axes>"
      ]
     },
     "metadata": {},
     "output_type": "display_data"
    },
    {
     "name": "stdout",
     "output_type": "stream",
     "text": [
      "Outdoor\n"
     ]
    },
    {
     "data": {
      "image/png": "[encoded data removed]",
      "text/plain": [
       "<Figure size 432x288 with 1 Axes>"
      ]
     },
     "metadata": {},
     "output_type": "display_data"
    },
    {
     "name": "stdout",
     "output_type": "stream",
     "text": [
      "Clothing\n"
     ]
    },
    {
     "data": {
      "image/png": "[encoded data removed]",
      "text/plain": [
       "<Figure size 432x288 with 1 Axes>"
      ]
     },
     "metadata": {},
     "output_type": "display_data"
    },
    {
     "name": "stdout",
     "output_type": "stream",
     "text": [
      "Shoes\n"
     ]
    },
    {
     "data": {
      "image/png": "[encoded data removed]",
      "text/plain": [
       "<Figure size 432x288 with 1 Axes>"
      ]
     },
     "metadata": {},
     "output_type": "display_data"
    },
    {
     "name": "stdout",
     "output_type": "stream",
     "text": [
      "Electronics\n"
     ]
    },
    {
     "data": {
      "image/png": "[encoded data removed]",
      "text/plain": [
       "<Figure size 432x288 with 1 Axes>"
      ]
     },
     "metadata": {},
     "output_type": "display_data"
    },
    {
     "name": "stdout",
     "output_type": "stream",
     "text": [
      "Furniture\n"
     ]
    },
    {
     "data": {
      "image/png": "[encoded data removed]",
      "text/plain": [
       "<Figure size 432x288 with 1 Axes>"
      ]
     },
     "metadata": {},
     "output_type": "display_data"
    },
    {
     "name": "stdout",
     "output_type": "stream",
     "text": [
      "Toys\n"
     ]
    },
    {
     "data": {
      "image/png": "[encoded data removed]",
      "text/plain": [
       "<Figure size 432x288 with 1 Axes>"
      ]
     },
     "metadata": {},
     "output_type": "display_data"
    },
    {
     "name": "stdout",
     "output_type": "stream",
     "text": [
      "Housewares\n"
     ]
    },
    {
     "data": {
      "image/png": "[encoded data removed]",
      "text/plain": [
       "<Figure size 432x288 with 1 Axes>"
      ]
     },
     "metadata": {},
     "output_type": "display_data"
    }
   ],
   "source": [
    "# for each department, create a DF for only that Dept. Then, join it will sea_sales_df_all\n",
    "# then, create a scatterplot comparing the weekly department sales to the weekly total sales\n",
    "\n",
    "for d in sea_sales_df[\"Dept\"].unique():\n",
    "    df_dept = sea_sales_df.loc[sea_sales_df[\"Dept\"]==d]\n",
    "    joined = df_dept.merge(sea_sales_df_all)\n",
    "    print(d)\n",
    "    fig, ax = plt.subplots()\n",
    "    ax.scatter(joined.Weekly_Sales, joined.Weekly_Sales_all)\n",
    "    ax.set_xscale('log')\n",
    "    ax.set_yscale('log')\n",
    "    plt.show()"
   ]
  },
  {
   "cell_type": "code",
   "execution_count": null,
   "metadata": {},
   "outputs": [],
   "source": []
  },
  {
   "cell_type": "code",
   "execution_count": null,
   "metadata": {},
   "outputs": [],
   "source": []
  },
  {
   "cell_type": "code",
   "execution_count": null,
   "metadata": {},
   "outputs": [],
   "source": []
  },
  {
   "cell_type": "code",
   "execution_count": null,
   "metadata": {},
   "outputs": [],
   "source": []
  },
  {
   "cell_type": "code",
   "execution_count": null,
   "metadata": {},
   "outputs": [],
   "source": []
  },
  {
   "cell_type": "code",
   "execution_count": null,
   "metadata": {},
   "outputs": [],
   "source": []
  },
  {
   "cell_type": "code",
   "execution_count": null,
   "metadata": {},
   "outputs": [],
   "source": []
  },
  {
   "cell_type": "code",
   "execution_count": null,
   "metadata": {},
   "outputs": [],
   "source": []
  },
  {
   "cell_type": "code",
   "execution_count": null,
   "metadata": {},
   "outputs": [],
   "source": []
  },
  {
   "cell_type": "code",
   "execution_count": null,
   "metadata": {},
   "outputs": [],
   "source": []
  },
  {
   "cell_type": "markdown",
   "metadata": {},
   "source": [
    "## Narrative -- the stores run promotions a few times a year. Your job is to determine\n",
    "a) if promotion weeks lead to greater total sales in dollars than non-promotion weeks\n",
    "b) if promotion weeks lead to a greater number of visitors to the store\n",
    "c) if promotion weeks lead to a greater proportion of people making purchases\n",
    "\n",
    "internal note: we could actually make an interesting case study that finds that customer numbers are increased, proportions are decreased, and sales are...up? down?"
   ]
  },
  {
   "cell_type": "code",
   "execution_count": null,
   "metadata": {},
   "outputs": [],
   "source": [
    "# total sales DF \n",
    "total_sales = retail_sales_df.groupby([\"Store\", \"Date\"]).agg({\"Weekly_Sales\":\"sum\"}).reset_index()"
   ]
  },
  {
   "cell_type": "code",
   "execution_count": null,
   "metadata": {},
   "outputs": [],
   "source": [
    "total_sales"
   ]
  },
  {
   "cell_type": "code",
   "execution_count": null,
   "metadata": {},
   "outputs": [],
   "source": [
    "sns.violinplot(data=total_sales, x=\"Store\", y=\"Weekly_Sales\")"
   ]
  },
  {
   "cell_type": "code",
   "execution_count": null,
   "metadata": {},
   "outputs": [],
   "source": [
    "# let's just do Seattle\n",
    "total_sales_sea = total_sales.loc[total_sales[\"Store\"]==\"Seattle\"\n",
    "                            ].loc[total_sales[\"Date\"]>pd.to_datetime('6/30/10')\n",
    "                            ].loc[total_sales[\"Date\"]<pd.to_datetime('7/1/12')]\n",
    "\n",
    "total_sales_sea.reset_index(inplace=True)"
   ]
  },
  {
   "cell_type": "code",
   "execution_count": null,
   "metadata": {},
   "outputs": [],
   "source": [
    "total_sales_sea_by_ws = total_sales_sea.sort_values(\"Weekly_Sales\", ascending=False)"
   ]
  },
  {
   "cell_type": "code",
   "execution_count": null,
   "metadata": {},
   "outputs": [],
   "source": [
    "s1 = np.random.choice(total_sales_sea_by_ws.Date[:30], 12)\n",
    "s2 = np.random.choice(total_sales_sea_by_ws.Date[30:60], 10)\n",
    "s3 = np.random.choice(total_sales_sea_by_ws.Date[60:], 9)\n",
    "promo_dates = pd.Series(np.concatenate((s1, s2, s3)))\n",
    "non_promo_dates = np.setdiff1d(total_sales_sea_by_ws.Date, promo_dates)"
   ]
  },
  {
   "cell_type": "code",
   "execution_count": null,
   "metadata": {},
   "outputs": [],
   "source": [
    "promo_sea = total_sales_sea_by_ws.loc[total_sales_sea_by_ws[\"Date\"].isin(promo_dates)]\n",
    "non_promo_sea = total_sales_sea_by_ws.loc[total_sales_sea_by_ws[\"Date\"].isin(non_promo_dates)]"
   ]
  },
  {
   "cell_type": "code",
   "execution_count": null,
   "metadata": {},
   "outputs": [],
   "source": [
    "promo_sea\n"
   ]
  },
  {
   "cell_type": "code",
   "execution_count": null,
   "metadata": {},
   "outputs": [],
   "source": []
  },
  {
   "cell_type": "code",
   "execution_count": null,
   "metadata": {},
   "outputs": [],
   "source": [
    "ave_promo_spend = 200\n",
    "ave_non_promo_spend = 210\n",
    "\n",
    "sd = 20\n",
    "\n",
    "promo_spends = np.random.normal(ave_promo_spend, sd, len(promo_sea)).round(2)\n",
    "non_promo_spends = np.random.normal(ave_non_promo_spend, sd, len(non_promo_sea)).round(2)"
   ]
  },
  {
   "cell_type": "code",
   "execution_count": null,
   "metadata": {},
   "outputs": [],
   "source": [
    "non_paying_promo = np.random.normal(1500, 400, size=len(promo_spends))\n",
    "promo_sea[\"Num_Customers\"] = ((promo_sea.Weekly_Sales / promo_spends).round().astype(int) + \n",
    "                              non_paying_promo).astype(int)"
   ]
  },
  {
   "cell_type": "code",
   "execution_count": null,
   "metadata": {},
   "outputs": [],
   "source": [
    "non_paying_non_promo = np.random.normal(1400, 400, size=len(non_promo_spends))\n",
    "\n",
    "non_promo_sea[\"Num_Customers\"] = ((non_promo_sea.Weekly_Sales / non_promo_spends).round().astype(int) + \n",
    "                                  non_paying_non_promo).astype(int)\n"
   ]
  },
  {
   "cell_type": "code",
   "execution_count": null,
   "metadata": {},
   "outputs": [],
   "source": [
    "promo_sea[\"Promo_Week\"] = True\n",
    "non_promo_sea[\"Promo_Week\"] = False\n",
    "\n",
    "promo_sea[\"Num_Sales\"] = (promo_sea.Num_Customers - non_paying_promo).astype(int)\n",
    "non_promo_sea[\"Num_Sales\"] = (non_promo_sea.Num_Customers - non_paying_non_promo).astype(int) + 25\n",
    "\n",
    "promo_sea[\"Num_Customers\"] = promo_sea.Num_Customers + 10"
   ]
  },
  {
   "cell_type": "code",
   "execution_count": null,
   "metadata": {},
   "outputs": [],
   "source": [
    "retail_promotions_df = pd.concat([promo_sea, non_promo_sea]).reset_index(drop=True).sort_values(\"Date\")"
   ]
  },
  {
   "cell_type": "code",
   "execution_count": null,
   "metadata": {},
   "outputs": [],
   "source": [
    "retail_promotions_df.drop(retail_promotions_df.columns[0], axis=1, inplace=True)\n",
    "retail_promotions_df[\"Num_Visitors\"] = retail_promotions_df.Num_Customers"
   ]
  },
  {
   "cell_type": "code",
   "execution_count": null,
   "metadata": {},
   "outputs": [],
   "source": [
    "retail_promotions_df"
   ]
  },
  {
   "cell_type": "code",
   "execution_count": null,
   "metadata": {},
   "outputs": [],
   "source": [
    "retail_promotions_df = retail_promotions_df[[\"Store\", \"Date\", \"Num_Visitors\", \"Num_Sales\", \"Weekly_Sales\", \"Promo_Week\"]]"
   ]
  },
  {
   "cell_type": "code",
   "execution_count": null,
   "metadata": {},
   "outputs": [],
   "source": []
  },
  {
   "cell_type": "code",
   "execution_count": null,
   "metadata": {},
   "outputs": [],
   "source": [
    "retail_promotions_df"
   ]
  },
  {
   "cell_type": "code",
   "execution_count": null,
   "metadata": {},
   "outputs": [],
   "source": [
    "retail_promotions_df[\"Num_Visitors\"] = retail_promotions_df.Num_Visitors + 10"
   ]
  },
  {
   "cell_type": "code",
   "execution_count": null,
   "metadata": {},
   "outputs": [],
   "source": [
    "retail_promotions_df.to_csv('retail_promotions_seattle_03.csv', index=False)"
   ]
  },
  {
   "cell_type": "code",
   "execution_count": null,
   "metadata": {},
   "outputs": [],
   "source": []
  },
  {
   "cell_type": "markdown",
   "metadata": {},
   "source": [
    "## Intermediate tweaking"
   ]
  },
  {
   "cell_type": "code",
   "execution_count": null,
   "metadata": {},
   "outputs": [],
   "source": [
    "df = pd.read_csv('retail_promotions_seattle_01.csv')"
   ]
  },
  {
   "cell_type": "code",
   "execution_count": null,
   "metadata": {},
   "outputs": [],
   "source": [
    "np = df.loc[df.Promo_Week == True]\n",
    "p = df.loc[df.Promo_Week == False]\n"
   ]
  },
  {
   "cell_type": "code",
   "execution_count": null,
   "metadata": {},
   "outputs": [],
   "source": [
    "p[\"Num_Visitors\"] = p[\"Num_Visitors\"] - 20"
   ]
  },
  {
   "cell_type": "code",
   "execution_count": null,
   "metadata": {},
   "outputs": [],
   "source": [
    "df = pd.concat([np, p])"
   ]
  },
  {
   "cell_type": "code",
   "execution_count": null,
   "metadata": {},
   "outputs": [],
   "source": [
    "df.to_csv('retail_promotions_seattle_04.csv', index=False)"
   ]
  },
  {
   "cell_type": "code",
   "execution_count": null,
   "metadata": {},
   "outputs": [],
   "source": [
    "sum(df.Num_Visitors)"
   ]
  },
  {
   "cell_type": "code",
   "execution_count": null,
   "metadata": {},
   "outputs": [],
   "source": []
  },
  {
   "cell_type": "markdown",
   "metadata": {},
   "source": [
    "# What will this look like from the beginning?"
   ]
  },
  {
   "cell_type": "code",
   "execution_count": null,
   "metadata": {},
   "outputs": [],
   "source": [
    "seattle_promos_df = pd.read_csv('retail_promotions_seattle.csv')"
   ]
  },
  {
   "cell_type": "code",
   "execution_count": null,
   "metadata": {},
   "outputs": [],
   "source": [
    "seattle_promos_df.info()"
   ]
  },
  {
   "cell_type": "code",
   "execution_count": null,
   "metadata": {},
   "outputs": [],
   "source": [
    "seattle_promos_df[\"Date\"] = pd.to_datetime(seattle_promos_df.Date)"
   ]
  },
  {
   "cell_type": "code",
   "execution_count": null,
   "metadata": {
    "scrolled": true
   },
   "outputs": [],
   "source": [
    "seattle_promos_df.head()"
   ]
  },
  {
   "cell_type": "code",
   "execution_count": null,
   "metadata": {},
   "outputs": [],
   "source": [
    "fig = plt.figure()\n",
    "sns.violinplot(data=seattle_promos_df, x=\"Promo_Week\", y=\"Num_Visitors\")\n",
    "fig.suptitle(\"Seattle Store Visitors\") "
   ]
  },
  {
   "cell_type": "code",
   "execution_count": null,
   "metadata": {},
   "outputs": [],
   "source": [
    "promo_week_visitors = seattle_promos_df.loc[seattle_promos_df[\"Promo_Week\"]==True][\"Num_Visitors\"]\n",
    "non_promo_week_visitors = seattle_promos_df.loc[seattle_promos_df[\"Promo_Week\"]==False][\"Num_Visitors\"]\n",
    "ttest_ind(promo_week_visitors, non_promo_week_visitors, alternative='larger')"
   ]
  },
  {
   "cell_type": "code",
   "execution_count": null,
   "metadata": {},
   "outputs": [],
   "source": [
    "fig = plt.figure()\n",
    "sns.violinplot(data=seattle_promos_df, x=\"Promo_Week\", y=\"Weekly_Sales\")\n",
    "fig.suptitle(\"Seattle Store Weekly Sales\") "
   ]
  },
  {
   "cell_type": "code",
   "execution_count": null,
   "metadata": {},
   "outputs": [],
   "source": [
    "promo_week_sales = seattle_promos_df.loc[seattle_promos_df[\"Promo_Week\"]==True][\"Weekly_Sales\"]\n",
    "non_promo_week_sales = seattle_promos_df.loc[seattle_promos_df[\"Promo_Week\"]==False][\"Weekly_Sales\"]\n",
    "ttest_ind(promo_week_sales, non_promo_week_sales, alternative='larger')"
   ]
  },
  {
   "cell_type": "markdown",
   "metadata": {},
   "source": [
    "Hypothesis Tests\n",
    "\n",
    "1. Is there a significant difference between the number of customers in promotion weeks vs. non promotions weeks?\n",
    "2. Is there a significant difference in weekly sales between promotion weeks and non-promotions weeks? "
   ]
  },
  {
   "cell_type": "code",
   "execution_count": null,
   "metadata": {},
   "outputs": [],
   "source": [
    "promo_weekly_sales = seattle_promos_df.loc[seattle_promos_df[\"Promo_Week\"]==True][\"Weekly_Sales\"]\n",
    "non_promo_weekly_sales = seattle_promos_df.loc[seattle_promos_df[\"Promo_Week\"]==False][\"Weekly_Sales\"]"
   ]
  },
  {
   "cell_type": "code",
   "execution_count": null,
   "metadata": {},
   "outputs": [],
   "source": [
    "t, p = stats.ttest_ind(promo_weekly_sales, non_promo_weekly_sales)\n",
    "t, p"
   ]
  },
  {
   "cell_type": "code",
   "execution_count": null,
   "metadata": {},
   "outputs": [],
   "source": [
    "promo_num_customers = seattle_promos_df.loc[seattle_promos_df[\"Promo_Week\"]][\"Num_Customers\"]\n",
    "non_promo_num_customers = seattle_promos_df.loc[~seattle_promos_df[\"Promo_Week\"]][\"Num_Customers\"]"
   ]
  },
  {
   "cell_type": "code",
   "execution_count": null,
   "metadata": {},
   "outputs": [],
   "source": [
    "stats.ttest_ind(promo_num_customers, non_promo_num_customers)"
   ]
  },
  {
   "cell_type": "code",
   "execution_count": null,
   "metadata": {},
   "outputs": [],
   "source": []
  },
  {
   "cell_type": "code",
   "execution_count": null,
   "metadata": {},
   "outputs": [],
   "source": []
  },
  {
   "cell_type": "code",
   "execution_count": null,
   "metadata": {},
   "outputs": [],
   "source": []
  },
  {
   "cell_type": "code",
   "execution_count": null,
   "metadata": {},
   "outputs": [],
   "source": [
    "promo_customer = np.random.normal(50000, 10000, len(promo_dates)).round()\n",
    "non_promo_customer = np.random.normal(40000, 10000, len(non_promo_dates)).round()"
   ]
  },
  {
   "cell_type": "code",
   "execution_count": null,
   "metadata": {},
   "outputs": [],
   "source": [
    "promo_dates = pd.Series(promo_dates)"
   ]
  },
  {
   "cell_type": "code",
   "execution_count": null,
   "metadata": {},
   "outputs": [],
   "source": [
    "promo_df = pd.DataFrame(promo_dates)\n",
    "promo_df.columns = [\"Date\"]\n",
    "promo_df[\"Num_Customers\"] = promo_customer\n",
    "promo_df[\"Promo_Week\"] = True\n",
    "promo_df.head()"
   ]
  },
  {
   "cell_type": "code",
   "execution_count": null,
   "metadata": {},
   "outputs": [],
   "source": [
    "non_promo_df = pd.DataFrame(non_promo_dates)\n",
    "non_promo_df.columns = [\"Date\"]\n",
    "non_promo_df[\"Num_Customers\"] = non_promo_customer\n",
    "non_promo_df[\"Promo_Week\"] = False\n",
    "non_promo_df.head()"
   ]
  },
  {
   "cell_type": "code",
   "execution_count": null,
   "metadata": {},
   "outputs": [],
   "source": [
    "promotions_df = pd.concat([promo_df, non_promo_df]).sort_values(\"Date\").reset_index(drop=True)\n",
    "promotions_df.head()"
   ]
  },
  {
   "cell_type": "code",
   "execution_count": null,
   "metadata": {},
   "outputs": [],
   "source": [
    "sns.violinplot(data=promotions_df, x=\"Promo_Week\", y=\"Num_Customers\")"
   ]
  },
  {
   "cell_type": "markdown",
   "metadata": {},
   "source": [
    "Further adjustments -- let's determine the number of customers by how much the average customer spends. "
   ]
  },
  {
   "cell_type": "code",
   "execution_count": null,
   "metadata": {},
   "outputs": [],
   "source": [
    "ave_promo_spend = 220\n",
    "ave_non_promo_spend = 200\n",
    "sd = 20\n",
    "\n",
    "promo_spends = np.random.normal(ave_promo_spend, sd, len(promo_dates)).round(2)\n",
    "non_promo_spends = np.random.normal(ave_non_promo_spend, sd, len(non_promo_dates)).round(2)"
   ]
  },
  {
   "cell_type": "code",
   "execution_count": null,
   "metadata": {},
   "outputs": [],
   "source": [
    "promo_customers = "
   ]
  },
  {
   "cell_type": "code",
   "execution_count": null,
   "metadata": {},
   "outputs": [],
   "source": []
  },
  {
   "cell_type": "markdown",
   "metadata": {},
   "source": [
    "## Experiments: Is there a significant difference in weekly [dept] sales between the Seattle and Los Angeles stores? \n",
    "\n",
    "Null hypothesis: There is no significant difference between the mean weekly [dept] sales at the Seattle store and the Los Angeles store\n",
    "Alternative hypothesis: There is a significant difference between the mean weekly [dept] sales at the Seattle store and the Los Angeles store"
   ]
  },
  {
   "cell_type": "code",
   "execution_count": null,
   "metadata": {},
   "outputs": [],
   "source": [
    "# filter the DataFrames to dept+SEA and +LA. Remove data from 01/10/2012 and later so that we\n",
    "# have exactly 2 years of data (currently runs from 01/10/10 to 12/10/12)\n",
    "seattle_df = retail_sales_df.loc[(retail_sales_df[\"Store\"]==\"Seattle\") &\n",
    "                                   (retail_sales_df[\"Date\"]<pd.to_datetime('01-10-2012'))]\n",
    "\n",
    "la_df = retail_sales_df.loc[(retail_sales_df[\"Store\"]==\"Los Angeles\") &\n",
    "                                   (retail_sales_df[\"Date\"]<pd.to_datetime('01-10-2012'))]"
   ]
  },
  {
   "cell_type": "code",
   "execution_count": null,
   "metadata": {},
   "outputs": [],
   "source": [
    "def run_ttest(df1, df2, dept, sample_size):\n",
    "    df1_filt = df1.loc[df1[\"Dept\"]==dept]\n",
    "    df2_filt = df2.loc[df2[\"Dept\"]==dept]\n",
    "    \n",
    "    df1_samp = df1_filt[\"Weekly_Sales\"].sample(sample_size)\n",
    "    df2_samp = df2_filt[\"Weekly_Sales\"].sample(sample_size)\n",
    "    \n",
    "    return stats.ttest_ind(df1_samp, df2_samp)"
   ]
  },
  {
   "cell_type": "code",
   "execution_count": null,
   "metadata": {
    "scrolled": false
   },
   "outputs": [],
   "source": [
    "np.random.seed(42)\n",
    "for d in retail_sales_df.Dept.unique():\n",
    "    for _ in range(20):\n",
    "        ct=0\n",
    "        type_2 = p\n",
    "        t, p = run_ttest(seattle_df, seattle_df, d, 15)\n",
    "        if p>0.05:\n",
    "            type_2+=1\n",
    "        ct+=1\n",
    "    print(type_2/ct)\n",
    "    print ('')\n"
   ]
  },
  {
   "cell_type": "code",
   "execution_count": null,
   "metadata": {},
   "outputs": [],
   "source": [
    "np.random.seed(24)\n",
    "for d in retail_sales_df.Dept.unique():\n",
    "    print(d, run_ttest(seattle_df, la_df, d, 100))\n",
    "    print ('')\n"
   ]
  },
  {
   "cell_type": "code",
   "execution_count": null,
   "metadata": {},
   "outputs": [],
   "source": [
    "cts = []\n",
    "for i in range(20):\n",
    "    ct=0\n",
    "    for j in range(20):\n",
    "        t, p = run_ttest(seattle_df, seattle_df, d, 15)\n",
    "        if p<0.05:\n",
    "            ct+=1\n",
    "    cts.append(ct)\n",
    "\n",
    "print(cts)\n",
    "print ('')"
   ]
  },
  {
   "cell_type": "code",
   "execution_count": null,
   "metadata": {},
   "outputs": [],
   "source": []
  },
  {
   "cell_type": "code",
   "execution_count": null,
   "metadata": {},
   "outputs": [],
   "source": [
    "# now take a sample of 15 data points from each of the \"weekly_sales\" columns\n",
    "np.random.seed(2)\n",
    "sea_sample = seattle_shoes[\"Weekly_Sales\"].sample(30)\n",
    "la_sample = la_shoes[\"Weekly_Sales\"].sample(30)"
   ]
  },
  {
   "cell_type": "code",
   "execution_count": null,
   "metadata": {},
   "outputs": [],
   "source": [
    "sea_sample"
   ]
  },
  {
   "cell_type": "code",
   "execution_count": null,
   "metadata": {},
   "outputs": [],
   "source": [
    "la_sample"
   ]
  },
  {
   "cell_type": "code",
   "execution_count": null,
   "metadata": {},
   "outputs": [],
   "source": [
    "stats.ttest_ind(sea_sample, la_sample)"
   ]
  },
  {
   "cell_type": "code",
   "execution_count": null,
   "metadata": {},
   "outputs": [],
   "source": [
    "sns.distplot(sea_sample)\n",
    "sns.distplot(la_sample)"
   ]
  },
  {
   "cell_type": "code",
   "execution_count": null,
   "metadata": {},
   "outputs": [],
   "source": [
    "# filter the DataFrames to shoes+SEA and shoes+LA. Remove data from 01/10/2012 and later so that we\n",
    "# have exactly 2 years of data (currently runs from 01/10/10 to 12/10/12)\n",
    "seattle_jewelry = retail_sales_df.loc[(retail_sales_df[\"Store\"]==\"Seattle\") &\n",
    "                                   (retail_sales_df[\"Dept\"]==\"Jewelry\") &\n",
    "                                   (retail_sales_df[\"Date\"]<pd.to_datetime('01-10-2012'))]\n",
    "\n",
    "la_jewelry = retail_sales_df.loc[(retail_sales_df[\"Store\"]==\"Los Angeles\") &\n",
    "                                   (retail_sales_df[\"Dept\"]==\"Jewelry\") &\n",
    "                                   (retail_sales_df[\"Date\"]<pd.to_datetime('01-10-2012'))]"
   ]
  },
  {
   "cell_type": "code",
   "execution_count": null,
   "metadata": {},
   "outputs": [],
   "source": [
    "# now take a sample of 15 data points from each of the \"weekly_sales\" columns\n",
    "np.random.seed(2)\n",
    "sea_sample = seattle_jewelry[\"Weekly_Sales\"].sample(30)\n",
    "la_sample = la_jewelry[\"Weekly_Sales\"].sample(30)"
   ]
  },
  {
   "cell_type": "code",
   "execution_count": null,
   "metadata": {},
   "outputs": [],
   "source": [
    "stats.ttest_ind(sea_sample, la_sample)"
   ]
  },
  {
   "cell_type": "code",
   "execution_count": null,
   "metadata": {},
   "outputs": [],
   "source": [
    "def run_ttest(df1, df2, dept):\n",
    "    \n",
    "    "
   ]
  },
  {
   "cell_type": "code",
   "execution_count": null,
   "metadata": {},
   "outputs": [],
   "source": []
  },
  {
   "cell_type": "code",
   "execution_count": null,
   "metadata": {},
   "outputs": [],
   "source": []
  },
  {
   "cell_type": "code",
   "execution_count": null,
   "metadata": {},
   "outputs": [],
   "source": [
    "retail_sales_elec = retail_sales_df.loc[retail_sales_df[\"Dept\"] == \"Electronics\"]"
   ]
  },
  {
   "cell_type": "code",
   "execution_count": null,
   "metadata": {},
   "outputs": [],
   "source": [
    "plt.hist(retail_sales_elec[\"Weekly_Sales\"])"
   ]
  },
  {
   "cell_type": "code",
   "execution_count": null,
   "metadata": {},
   "outputs": [],
   "source": [
    "retail_sales_elec.sort_values(\"Weekly_Sales\", ascending=False)"
   ]
  },
  {
   "cell_type": "code",
   "execution_count": null,
   "metadata": {},
   "outputs": [],
   "source": [
    "retail_sales_elec_la = retail_sales_elec.loc[retail_sales_elec[\"Store\"] == \"Los Angeles\"]"
   ]
  },
  {
   "cell_type": "code",
   "execution_count": null,
   "metadata": {},
   "outputs": [],
   "source": [
    "retail_sales_elec_la.sort_values(\"Weekly_Sales\", ascending=False)[:20]"
   ]
  },
  {
   "cell_type": "code",
   "execution_count": null,
   "metadata": {},
   "outputs": [],
   "source": [
    "len(retail_sales_elec_la)"
   ]
  },
  {
   "cell_type": "code",
   "execution_count": null,
   "metadata": {},
   "outputs": [],
   "source": [
    "# 15 from the first 50, 10 from the next 50, 5 from the last few"
   ]
  },
  {
   "cell_type": "code",
   "execution_count": null,
   "metadata": {},
   "outputs": [],
   "source": [
    "s1 = np.random.choice(retail_sales_elec_la.index[:50], 15)\n",
    "s2 = np.random.choice(retail_sales_elec_la.index[50:100], 10)\n",
    "s3 = np.random.choice(retail_sales_elec_la.index[100:], 5)"
   ]
  },
  {
   "cell_type": "code",
   "execution_count": null,
   "metadata": {},
   "outputs": [],
   "source": [
    "promo_indexes = pd.Series(np.concatenate((s1, s2, s3)))"
   ]
  },
  {
   "cell_type": "code",
   "execution_count": null,
   "metadata": {},
   "outputs": [],
   "source": [
    "thirty_trues"
   ]
  },
  {
   "cell_type": "code",
   "execution_count": null,
   "metadata": {},
   "outputs": [],
   "source": [
    "promo_indexes"
   ]
  },
  {
   "cell_type": "code",
   "execution_count": null,
   "metadata": {},
   "outputs": [],
   "source": []
  },
  {
   "cell_type": "code",
   "execution_count": null,
   "metadata": {},
   "outputs": [],
   "source": []
  },
  {
   "cell_type": "code",
   "execution_count": null,
   "metadata": {},
   "outputs": [],
   "source": [
    "retail_joined_df = retail_features_df.merge(retail_sales_df, on=[\"Store\", \"Date\"])\n",
    "retail_joined_df_jwl = retail_joined_df.loc[retail_joined_df[\"Dept\"] == \"Jewelry\"]\n",
    "retail_joined_df_jwl.drop(\"IsHoliday_y\", axis=1, inplace=True)"
   ]
  },
  {
   "cell_type": "code",
   "execution_count": null,
   "metadata": {},
   "outputs": [],
   "source": []
  }
 ],
 "metadata": {
  "colab": {
   "name": "data-viz.ipynb",
   "provenance": [],
   "toc_visible": true
  },
  "kernelspec": {
   "display_name": "Python 3",
   "language": "python",
   "name": "python3"
  },
  "language_info": {
   "codemirror_mode": {
    "name": "ipython",
    "version": 3
   },
   "file_extension": ".py",
   "mimetype": "text/x-python",
   "name": "python",
   "nbconvert_exporter": "python",
   "pygments_lexer": "ipython3",
   "version": "3.7.4"
  }
 },
 "nbformat": 4,
 "nbformat_minor": 1
}
