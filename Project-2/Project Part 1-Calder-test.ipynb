{
 "cells": [
  {
   "cell_type": "markdown",
   "metadata": {},
   "source": [
    "# Summary/Notes\n",
    "\n",
    "### When you have finished your exploration, return to this markdown cell and fill it out in preparation for your meeting with the analytics manager, Victor.\n",
    "\n",
    "**1.** Provide a summary of the data. This can include information such as: \n",
    "- How many total customers does COM have? \n",
    "- What types of data are in these two data sources?\n",
    "- Is the data generally clean? Messy? etc.\n",
    "\n",
    "**2. Special request** What is the average customer tenure in days? Use 9/1/2020 as the current date (\"today\"). \n",
    "\n",
    "\n",
    "\n",
    "**3.** After researching the data, what 2-3 topics would you like to research further regarding customers that churn? (e,g,. Do any of our service types cause customers to churn faster than others?) Why do you think these factors may be related to churn? \n",
    "\n",
    "\n"
   ]
  },
  {
   "cell_type": "markdown",
   "metadata": {},
   "source": [
    "----------------------"
   ]
  },
  {
   "cell_type": "markdown",
   "metadata": {},
   "source": [
    "# How to complete this notebook\n",
    "\n",
    "This notebook has a skeleton structure to guide your exploration and keep you on track. More details about each task can be found in the project sidebar. Be sure to read the sidebar instructions for each step before writing your code. "
   ]
  },
  {
   "cell_type": "markdown",
   "metadata": {},
   "source": [
    "# 1. IMPORT & EXPLORE THE DATA\n",
    "\n",
    "## 1A. Import packages"
   ]
  },
  {
   "cell_type": "code",
   "execution_count": 49,
   "metadata": {},
   "outputs": [],
   "source": [
    "import numpy as np\n",
    "import pandas as pd"
   ]
  },
  {
   "cell_type": "markdown",
   "metadata": {},
   "source": [
    "## 1B. Import the data\n",
    "The datasets are stored in the following files:\n",
    "- \"demographics.csv\"\n",
    "- \"services.csv\"\n",
    "\n",
    "These files are in the same folder you are currently working in. "
   ]
  },
  {
   "cell_type": "code",
   "execution_count": 7,
   "metadata": {},
   "outputs": [],
   "source": [
    "demographics_df = pd.read_csv(\"demographics.csv\")\n",
    "services_df = pd.read_csv(\"services.csv\")"
   ]
  },
  {
   "cell_type": "code",
   "execution_count": null,
   "metadata": {
    "scrolled": true
   },
   "outputs": [],
   "source": []
  },
  {
   "cell_type": "markdown",
   "metadata": {},
   "source": [
    "## 1C. Explore your data & identify structure\n",
    "Add as many code cells as you need to thoroughly explore both DataFrames."
   ]
  },
  {
   "cell_type": "code",
   "execution_count": 8,
   "metadata": {},
   "outputs": [
    {
     "data": {
      "text/html": [
       "<div>\n",
       "<style scoped>\n",
       "    .dataframe tbody tr th:only-of-type {\n",
       "        vertical-align: middle;\n",
       "    }\n",
       "\n",
       "    .dataframe tbody tr th {\n",
       "        vertical-align: top;\n",
       "    }\n",
       "\n",
       "    .dataframe thead th {\n",
       "        text-align: right;\n",
       "    }\n",
       "</style>\n",
       "<table border=\"1\" class=\"dataframe\">\n",
       "  <thead>\n",
       "    <tr style=\"text-align: right;\">\n",
       "      <th></th>\n",
       "      <th>Customer_ID</th>\n",
       "      <th>Count</th>\n",
       "      <th>Gender</th>\n",
       "      <th>AGE</th>\n",
       "      <th>Under 30</th>\n",
       "      <th>Senior Citizen</th>\n",
       "      <th>MARRIED</th>\n",
       "      <th>Dependents</th>\n",
       "      <th>Number of Dependents</th>\n",
       "    </tr>\n",
       "  </thead>\n",
       "  <tbody>\n",
       "    <tr>\n",
       "      <td>0</td>\n",
       "      <td>TCO-8779-QRDMV</td>\n",
       "      <td>1</td>\n",
       "      <td>Male</td>\n",
       "      <td>78</td>\n",
       "      <td>No</td>\n",
       "      <td>Yes</td>\n",
       "      <td>No</td>\n",
       "      <td>No</td>\n",
       "      <td>0</td>\n",
       "    </tr>\n",
       "    <tr>\n",
       "      <td>1</td>\n",
       "      <td>TCO-7495-OOKFY</td>\n",
       "      <td>1</td>\n",
       "      <td>Female</td>\n",
       "      <td>74</td>\n",
       "      <td>No</td>\n",
       "      <td>Yes</td>\n",
       "      <td>Yes</td>\n",
       "      <td>Yes</td>\n",
       "      <td>1</td>\n",
       "    </tr>\n",
       "    <tr>\n",
       "      <td>2</td>\n",
       "      <td>TCO-1658-BYGOY</td>\n",
       "      <td>1</td>\n",
       "      <td>Male</td>\n",
       "      <td>71</td>\n",
       "      <td>No</td>\n",
       "      <td>Yes</td>\n",
       "      <td>No</td>\n",
       "      <td>Yes</td>\n",
       "      <td>3</td>\n",
       "    </tr>\n",
       "    <tr>\n",
       "      <td>3</td>\n",
       "      <td>TCO-4598-XLKNJ</td>\n",
       "      <td>1</td>\n",
       "      <td>Female</td>\n",
       "      <td>78</td>\n",
       "      <td>No</td>\n",
       "      <td>Yes</td>\n",
       "      <td>Yes</td>\n",
       "      <td>Yes</td>\n",
       "      <td>1</td>\n",
       "    </tr>\n",
       "    <tr>\n",
       "      <td>4</td>\n",
       "      <td>TCO-4846-WHAFZ</td>\n",
       "      <td>1</td>\n",
       "      <td>Female</td>\n",
       "      <td>80</td>\n",
       "      <td>No</td>\n",
       "      <td>Yes</td>\n",
       "      <td>Yes</td>\n",
       "      <td>Yes</td>\n",
       "      <td>1</td>\n",
       "    </tr>\n",
       "  </tbody>\n",
       "</table>\n",
       "</div>"
      ],
      "text/plain": [
       "      Customer_ID  Count  Gender  AGE Under 30 Senior Citizen MARRIED  \\\n",
       "0  TCO-8779-QRDMV      1    Male   78       No            Yes      No   \n",
       "1  TCO-7495-OOKFY      1  Female   74       No            Yes     Yes   \n",
       "2  TCO-1658-BYGOY      1    Male   71       No            Yes      No   \n",
       "3  TCO-4598-XLKNJ      1  Female   78       No            Yes     Yes   \n",
       "4  TCO-4846-WHAFZ      1  Female   80       No            Yes     Yes   \n",
       "\n",
       "  Dependents Number of Dependents  \n",
       "0         No                    0  \n",
       "1        Yes                    1  \n",
       "2        Yes                    3  \n",
       "3        Yes                    1  \n",
       "4        Yes                    1  "
      ]
     },
     "execution_count": 8,
     "metadata": {},
     "output_type": "execute_result"
    }
   ],
   "source": [
    "demographics_df.head()"
   ]
  },
  {
   "cell_type": "code",
   "execution_count": 9,
   "metadata": {},
   "outputs": [
    {
     "name": "stdout",
     "output_type": "stream",
     "text": [
      "<class 'pandas.core.frame.DataFrame'>\n",
      "RangeIndex: 7043 entries, 0 to 7042\n",
      "Data columns (total 9 columns):\n",
      "Customer_ID             7043 non-null object\n",
      "Count                   7043 non-null int64\n",
      "Gender                  7043 non-null object\n",
      "AGE                     7043 non-null int64\n",
      "Under 30                7043 non-null object\n",
      "Senior Citizen          7043 non-null object\n",
      "MARRIED                 7043 non-null object\n",
      "Dependents              7043 non-null object\n",
      "Number of Dependents    7043 non-null object\n",
      "dtypes: int64(2), object(7)\n",
      "memory usage: 495.3+ KB\n"
     ]
    }
   ],
   "source": [
    "demographics_df.info()"
   ]
  },
  {
   "cell_type": "code",
   "execution_count": 10,
   "metadata": {},
   "outputs": [
    {
     "data": {
      "text/html": [
       "<div>\n",
       "<style scoped>\n",
       "    .dataframe tbody tr th:only-of-type {\n",
       "        vertical-align: middle;\n",
       "    }\n",
       "\n",
       "    .dataframe tbody tr th {\n",
       "        vertical-align: top;\n",
       "    }\n",
       "\n",
       "    .dataframe thead th {\n",
       "        text-align: right;\n",
       "    }\n",
       "</style>\n",
       "<table border=\"1\" class=\"dataframe\">\n",
       "  <thead>\n",
       "    <tr style=\"text-align: right;\">\n",
       "      <th></th>\n",
       "      <th>Customer_ID</th>\n",
       "      <th>Count</th>\n",
       "      <th>Quarter</th>\n",
       "      <th>Number_of_Referrals</th>\n",
       "      <th>Customer_Enrollement</th>\n",
       "      <th>Offer</th>\n",
       "      <th>Phone_Service</th>\n",
       "      <th>Internet_Service</th>\n",
       "      <th>Internet_Type</th>\n",
       "      <th>Avg_Monthly_GB_Download</th>\n",
       "      <th>...</th>\n",
       "      <th>Streaming_Music</th>\n",
       "      <th>Unlimited_Data</th>\n",
       "      <th>Contract</th>\n",
       "      <th>Payment_Method</th>\n",
       "      <th>Monthly_Charge</th>\n",
       "      <th>Total_Charges</th>\n",
       "      <th>Total_Refunds</th>\n",
       "      <th>Total_Extra_Data_Charges</th>\n",
       "      <th>Total_Long_Distance_Charges</th>\n",
       "      <th>Total_Revenue</th>\n",
       "    </tr>\n",
       "  </thead>\n",
       "  <tbody>\n",
       "    <tr>\n",
       "      <td>0</td>\n",
       "      <td>8779QRDMV</td>\n",
       "      <td>1</td>\n",
       "      <td>Q3</td>\n",
       "      <td>0</td>\n",
       "      <td>8/1/2020</td>\n",
       "      <td>NaN</td>\n",
       "      <td>No</td>\n",
       "      <td>Yes</td>\n",
       "      <td>DSL</td>\n",
       "      <td>8.0</td>\n",
       "      <td>...</td>\n",
       "      <td>No</td>\n",
       "      <td>No</td>\n",
       "      <td>Month-to-Month</td>\n",
       "      <td>Bank Withdrawal</td>\n",
       "      <td>39.65</td>\n",
       "      <td>39.65</td>\n",
       "      <td>0.00</td>\n",
       "      <td>20</td>\n",
       "      <td>0.00</td>\n",
       "      <td>59.65</td>\n",
       "    </tr>\n",
       "    <tr>\n",
       "      <td>1</td>\n",
       "      <td>7495OOKFY</td>\n",
       "      <td>1</td>\n",
       "      <td>Q3</td>\n",
       "      <td>1</td>\n",
       "      <td>1/1/2020</td>\n",
       "      <td>Offer E</td>\n",
       "      <td>Yes</td>\n",
       "      <td>Yes</td>\n",
       "      <td>Fiber Optic</td>\n",
       "      <td>17.0</td>\n",
       "      <td>...</td>\n",
       "      <td>No</td>\n",
       "      <td>Yes</td>\n",
       "      <td>Month-to-Month</td>\n",
       "      <td>Credit Card</td>\n",
       "      <td>80.65</td>\n",
       "      <td>633.30</td>\n",
       "      <td>0.00</td>\n",
       "      <td>0</td>\n",
       "      <td>390.80</td>\n",
       "      <td>1024.10</td>\n",
       "    </tr>\n",
       "    <tr>\n",
       "      <td>2</td>\n",
       "      <td>1658BYGOY</td>\n",
       "      <td>1</td>\n",
       "      <td>Q3</td>\n",
       "      <td>0</td>\n",
       "      <td>4/1/2019</td>\n",
       "      <td>Offer D</td>\n",
       "      <td>Yes</td>\n",
       "      <td>Yes</td>\n",
       "      <td>Fiber Optic</td>\n",
       "      <td>52.0</td>\n",
       "      <td>...</td>\n",
       "      <td>Yes</td>\n",
       "      <td>Yes</td>\n",
       "      <td>Month-to-Month</td>\n",
       "      <td>Bank Withdrawal</td>\n",
       "      <td>95.45</td>\n",
       "      <td>1752.55</td>\n",
       "      <td>45.61</td>\n",
       "      <td>0</td>\n",
       "      <td>203.94</td>\n",
       "      <td>1910.88</td>\n",
       "    </tr>\n",
       "    <tr>\n",
       "      <td>3</td>\n",
       "      <td>4598XLKNJ</td>\n",
       "      <td>1</td>\n",
       "      <td>Q3</td>\n",
       "      <td>1</td>\n",
       "      <td>8/1/2018</td>\n",
       "      <td>Offer C</td>\n",
       "      <td>Yes</td>\n",
       "      <td>Yes</td>\n",
       "      <td>Fiber Optic</td>\n",
       "      <td>12.0</td>\n",
       "      <td>...</td>\n",
       "      <td>No</td>\n",
       "      <td>Yes</td>\n",
       "      <td>Month-to-Month</td>\n",
       "      <td>Bank Withdrawal</td>\n",
       "      <td>98.50</td>\n",
       "      <td>2514.50</td>\n",
       "      <td>13.43</td>\n",
       "      <td>0</td>\n",
       "      <td>494.00</td>\n",
       "      <td>2995.07</td>\n",
       "    </tr>\n",
       "    <tr>\n",
       "      <td>4</td>\n",
       "      <td>4846WHAFZ</td>\n",
       "      <td>1</td>\n",
       "      <td>Q3</td>\n",
       "      <td>1</td>\n",
       "      <td>8/1/2017</td>\n",
       "      <td>Offer C</td>\n",
       "      <td>Yes</td>\n",
       "      <td>Yes</td>\n",
       "      <td>Fiber Optic</td>\n",
       "      <td>14.0</td>\n",
       "      <td>...</td>\n",
       "      <td>No</td>\n",
       "      <td>Yes</td>\n",
       "      <td>Month-to-Month</td>\n",
       "      <td>Bank Withdrawal</td>\n",
       "      <td>76.50</td>\n",
       "      <td>2868.15</td>\n",
       "      <td>0.00</td>\n",
       "      <td>0</td>\n",
       "      <td>234.21</td>\n",
       "      <td>3102.36</td>\n",
       "    </tr>\n",
       "  </tbody>\n",
       "</table>\n",
       "<p>5 rows × 22 columns</p>\n",
       "</div>"
      ],
      "text/plain": [
       "  Customer_ID  Count Quarter  Number_of_Referrals Customer_Enrollement  \\\n",
       "0   8779QRDMV      1      Q3                    0             8/1/2020   \n",
       "1   7495OOKFY      1      Q3                    1             1/1/2020   \n",
       "2   1658BYGOY      1      Q3                    0             4/1/2019   \n",
       "3   4598XLKNJ      1      Q3                    1             8/1/2018   \n",
       "4   4846WHAFZ      1      Q3                    1             8/1/2017   \n",
       "\n",
       "     Offer Phone_Service Internet_Service Internet_Type  \\\n",
       "0      NaN            No              Yes           DSL   \n",
       "1  Offer E           Yes              Yes   Fiber Optic   \n",
       "2  Offer D           Yes              Yes   Fiber Optic   \n",
       "3  Offer C           Yes              Yes   Fiber Optic   \n",
       "4  Offer C           Yes              Yes   Fiber Optic   \n",
       "\n",
       "   Avg_Monthly_GB_Download  ... Streaming_Music Unlimited_Data  \\\n",
       "0                      8.0  ...              No             No   \n",
       "1                     17.0  ...              No            Yes   \n",
       "2                     52.0  ...             Yes            Yes   \n",
       "3                     12.0  ...              No            Yes   \n",
       "4                     14.0  ...              No            Yes   \n",
       "\n",
       "         Contract   Payment_Method Monthly_Charge Total_Charges  \\\n",
       "0  Month-to-Month  Bank Withdrawal          39.65         39.65   \n",
       "1  Month-to-Month      Credit Card          80.65        633.30   \n",
       "2  Month-to-Month  Bank Withdrawal          95.45       1752.55   \n",
       "3  Month-to-Month  Bank Withdrawal          98.50       2514.50   \n",
       "4  Month-to-Month  Bank Withdrawal          76.50       2868.15   \n",
       "\n",
       "   Total_Refunds  Total_Extra_Data_Charges  Total_Long_Distance_Charges  \\\n",
       "0           0.00                        20                         0.00   \n",
       "1           0.00                         0                       390.80   \n",
       "2          45.61                         0                       203.94   \n",
       "3          13.43                         0                       494.00   \n",
       "4           0.00                         0                       234.21   \n",
       "\n",
       "   Total_Revenue  \n",
       "0          59.65  \n",
       "1        1024.10  \n",
       "2        1910.88  \n",
       "3        2995.07  \n",
       "4        3102.36  \n",
       "\n",
       "[5 rows x 22 columns]"
      ]
     },
     "execution_count": 10,
     "metadata": {},
     "output_type": "execute_result"
    }
   ],
   "source": [
    "services_df.head()"
   ]
  },
  {
   "cell_type": "code",
   "execution_count": 11,
   "metadata": {},
   "outputs": [
    {
     "name": "stdout",
     "output_type": "stream",
     "text": [
      "<class 'pandas.core.frame.DataFrame'>\n",
      "RangeIndex: 7043 entries, 0 to 7042\n",
      "Data columns (total 22 columns):\n",
      "Customer_ID                    7043 non-null object\n",
      "Count                          7043 non-null int64\n",
      "Quarter                        7043 non-null object\n",
      "Number_of_Referrals            7043 non-null int64\n",
      "Customer_Enrollement           7043 non-null object\n",
      "Offer                          3166 non-null object\n",
      "Phone_Service                  7043 non-null object\n",
      "Internet_Service               7043 non-null object\n",
      "Internet_Type                  5517 non-null object\n",
      "Avg_Monthly_GB_Download        5517 non-null float64\n",
      "Streaming_TV                   7043 non-null object\n",
      "Streaming_Movies               7043 non-null object\n",
      "Streaming_Music                7043 non-null object\n",
      "Unlimited_Data                 7043 non-null object\n",
      "Contract                       7043 non-null object\n",
      "Payment_Method                 7043 non-null object\n",
      "Monthly_Charge                 7043 non-null float64\n",
      "Total_Charges                  7043 non-null float64\n",
      "Total_Refunds                  7043 non-null float64\n",
      "Total_Extra_Data_Charges       7043 non-null int64\n",
      "Total_Long_Distance_Charges    7043 non-null float64\n",
      "Total_Revenue                  7043 non-null float64\n",
      "dtypes: float64(6), int64(3), object(13)\n",
      "memory usage: 1.2+ MB\n"
     ]
    }
   ],
   "source": [
    "services_df.info()"
   ]
  },
  {
   "cell_type": "code",
   "execution_count": null,
   "metadata": {},
   "outputs": [],
   "source": []
  },
  {
   "cell_type": "markdown",
   "metadata": {},
   "source": [
    "# 2. DEMOGRAPHICS DATASET WRANGLING\n"
   ]
  },
  {
   "cell_type": "markdown",
   "metadata": {},
   "source": [
    "## <p style=\"color:red;\">2A. Standardize column titles</p>\n",
    "**The code cell below is graded. Do not delete the cell.**"
   ]
  },
  {
   "cell_type": "code",
   "execution_count": 15,
   "metadata": {},
   "outputs": [],
   "source": [
    "# WRITE YOUR SOLUTION HERE. DO NOT DELETE. THIS CELL IS GRADED.\n",
    "services_df.columns = [c.replace(' ', '_').lower() for c in \n",
    "                       services_df.columns]\n",
    "\n",
    "demographics_df.columns = [c.replace(' ', '_').lower() for c in \n",
    "                       demographics_df.columns]                      \n"
   ]
  },
  {
   "cell_type": "markdown",
   "metadata": {},
   "source": [
    "## 2B. Edit Data Types"
   ]
  },
  {
   "cell_type": "code",
   "execution_count": 23,
   "metadata": {},
   "outputs": [
    {
     "name": "stderr",
     "output_type": "stream",
     "text": [
      "/Users/caldermyers/opt/anaconda3/lib/python3.7/site-packages/ipykernel_launcher.py:1: UserWarning: Pandas doesn't allow columns to be created via a new attribute name - see https://pandas.pydata.org/pandas-docs/stable/indexing.html#attribute-access\n",
      "  \"\"\"Entry point for launching an IPython kernel.\n"
     ]
    }
   ],
   "source": [
    "services_df.customer_enrollment = pd.to_datetime(services_df.customer_enrollement)"
   ]
  },
  {
   "cell_type": "code",
   "execution_count": 24,
   "metadata": {},
   "outputs": [
    {
     "name": "stdout",
     "output_type": "stream",
     "text": [
      "<class 'pandas.core.frame.DataFrame'>\n",
      "RangeIndex: 7043 entries, 0 to 7042\n",
      "Data columns (total 22 columns):\n",
      "customer_id                    7043 non-null object\n",
      "count                          7043 non-null int64\n",
      "quarter                        7043 non-null object\n",
      "number_of_referrals            7043 non-null int64\n",
      "customer_enrollement           7043 non-null datetime64[ns]\n",
      "offer                          3166 non-null object\n",
      "phone_service                  7043 non-null object\n",
      "internet_service               7043 non-null object\n",
      "internet_type                  5517 non-null object\n",
      "avg_monthly_gb_download        5517 non-null float64\n",
      "streaming_tv                   7043 non-null object\n",
      "streaming_movies               7043 non-null object\n",
      "streaming_music                7043 non-null object\n",
      "unlimited_data                 7043 non-null object\n",
      "contract                       7043 non-null object\n",
      "payment_method                 7043 non-null object\n",
      "monthly_charge                 7043 non-null float64\n",
      "total_charges                  7043 non-null float64\n",
      "total_refunds                  7043 non-null float64\n",
      "total_extra_data_charges       7043 non-null int64\n",
      "total_long_distance_charges    7043 non-null float64\n",
      "total_revenue                  7043 non-null float64\n",
      "dtypes: datetime64[ns](1), float64(6), int64(3), object(12)\n",
      "memory usage: 1.2+ MB\n"
     ]
    }
   ],
   "source": [
    "services_df.info()"
   ]
  },
  {
   "cell_type": "code",
   "execution_count": null,
   "metadata": {},
   "outputs": [],
   "source": [
    "demographics_df.number_of_dependents.value_counts()"
   ]
  },
  {
   "cell_type": "code",
   "execution_count": 25,
   "metadata": {},
   "outputs": [],
   "source": [
    "demographics_df = demographics_df.loc[demographics_df.number_of_dependents != 'O']"
   ]
  },
  {
   "cell_type": "code",
   "execution_count": 27,
   "metadata": {},
   "outputs": [
    {
     "name": "stderr",
     "output_type": "stream",
     "text": [
      "/Users/caldermyers/opt/anaconda3/lib/python3.7/site-packages/pandas/core/generic.py:5208: SettingWithCopyWarning: \n",
      "A value is trying to be set on a copy of a slice from a DataFrame.\n",
      "Try using .loc[row_indexer,col_indexer] = value instead\n",
      "\n",
      "See the caveats in the documentation: http://pandas.pydata.org/pandas-docs/stable/user_guide/indexing.html#returning-a-view-versus-a-copy\n",
      "  self[name] = value\n"
     ]
    }
   ],
   "source": [
    "demographics_df.number_of_dependents = demographics_df.number_of_dependents.astype('int')"
   ]
  },
  {
   "cell_type": "code",
   "execution_count": 28,
   "metadata": {},
   "outputs": [
    {
     "name": "stdout",
     "output_type": "stream",
     "text": [
      "<class 'pandas.core.frame.DataFrame'>\n",
      "Int64Index: 7042 entries, 0 to 7042\n",
      "Data columns (total 9 columns):\n",
      "customer_id             7042 non-null object\n",
      "count                   7042 non-null int64\n",
      "gender                  7042 non-null object\n",
      "age                     7042 non-null int64\n",
      "under_30                7042 non-null object\n",
      "senior_citizen          7042 non-null object\n",
      "married                 7042 non-null object\n",
      "dependents              7042 non-null object\n",
      "number_of_dependents    7042 non-null int64\n",
      "dtypes: int64(3), object(6)\n",
      "memory usage: 550.2+ KB\n"
     ]
    }
   ],
   "source": [
    "demographics_df.info()"
   ]
  },
  {
   "cell_type": "markdown",
   "metadata": {},
   "source": [
    "## 2C. Locate & fix input errors"
   ]
  },
  {
   "cell_type": "code",
   "execution_count": 33,
   "metadata": {},
   "outputs": [
    {
     "name": "stdout",
     "output_type": "stream",
     "text": [
      "----\n",
      "gender\n",
      "Male      3554\n",
      "Female    3488\n",
      "Name: gender, dtype: int64\n",
      "----\n",
      "under_30\n",
      "No     5641\n",
      "Yes    1401\n",
      "Name: under_30, dtype: int64\n",
      "----\n",
      "married\n",
      "No     3623\n",
      "Yes    3377\n",
      "Y        25\n",
      "N        17\n",
      "Name: married, dtype: int64\n",
      "----\n",
      "dependents\n",
      "No     5415\n",
      "Yes    1627\n",
      "Name: dependents, dtype: int64\n",
      "----\n",
      "senior_citizen\n",
      "No     5901\n",
      "Yes    1141\n",
      "Name: senior_citizen, dtype: int64\n"
     ]
    }
   ],
   "source": [
    "for c in ['gender', 'under_30', 'married', 'dependents', 'senior_citizen']:\n",
    "    print('----')\n",
    "    print(c)\n",
    "    print(demographics_df[c].value_counts())\n",
    "    \n",
    "    \n",
    "    \n",
    "    "
   ]
  },
  {
   "cell_type": "code",
   "execution_count": 40,
   "metadata": {},
   "outputs": [
    {
     "name": "stderr",
     "output_type": "stream",
     "text": [
      "/Users/caldermyers/opt/anaconda3/lib/python3.7/site-packages/ipykernel_launcher.py:2: SettingWithCopyWarning: \n",
      "A value is trying to be set on a copy of a slice from a DataFrame.\n",
      "Try using .loc[row_indexer,col_indexer] = value instead\n",
      "\n",
      "See the caveats in the documentation: http://pandas.pydata.org/pandas-docs/stable/user_guide/indexing.html#returning-a-view-versus-a-copy\n",
      "  \n",
      "/Users/caldermyers/opt/anaconda3/lib/python3.7/site-packages/ipykernel_launcher.py:3: SettingWithCopyWarning: \n",
      "A value is trying to be set on a copy of a slice from a DataFrame.\n",
      "Try using .loc[row_indexer,col_indexer] = value instead\n",
      "\n",
      "See the caveats in the documentation: http://pandas.pydata.org/pandas-docs/stable/user_guide/indexing.html#returning-a-view-versus-a-copy\n",
      "  This is separate from the ipykernel package so we can avoid doing imports until\n"
     ]
    }
   ],
   "source": [
    "# WRITE YOUR SOLUTION HERE. DO NOT DELETE. THIS CELL IS GRADED. ----------THIS MAY NOT BE GRADED---------\n",
    "demographics_df[\"married\"] = demographics_df.married.replace('N', 'No')\n",
    "demographics_df[\"married\"] = demographics_df.married.replace('Y', 'Yes')"
   ]
  },
  {
   "cell_type": "code",
   "execution_count": 41,
   "metadata": {},
   "outputs": [
    {
     "data": {
      "text/plain": [
       "No     3640\n",
       "Yes    3402\n",
       "Name: married, dtype: int64"
      ]
     },
     "execution_count": 41,
     "metadata": {},
     "output_type": "execute_result"
    }
   ],
   "source": [
    "demographics_df.married.value_counts()"
   ]
  },
  {
   "cell_type": "markdown",
   "metadata": {},
   "source": [
    "# 3. SERVICES DATASET WRANGLING"
   ]
  },
  {
   "cell_type": "markdown",
   "metadata": {},
   "source": [
    "## 3A. Standardize column titles"
   ]
  },
  {
   "cell_type": "code",
   "execution_count": null,
   "metadata": {},
   "outputs": [],
   "source": []
  },
  {
   "cell_type": "code",
   "execution_count": null,
   "metadata": {},
   "outputs": [],
   "source": []
  },
  {
   "cell_type": "markdown",
   "metadata": {},
   "source": [
    "## 3B. Remove unnecessary columns"
   ]
  },
  {
   "cell_type": "code",
   "execution_count": null,
   "metadata": {},
   "outputs": [],
   "source": []
  },
  {
   "cell_type": "code",
   "execution_count": null,
   "metadata": {},
   "outputs": [],
   "source": []
  },
  {
   "cell_type": "code",
   "execution_count": null,
   "metadata": {},
   "outputs": [],
   "source": []
  },
  {
   "cell_type": "markdown",
   "metadata": {},
   "source": [
    "## 3C. Convert Data Types\n"
   ]
  },
  {
   "cell_type": "code",
   "execution_count": null,
   "metadata": {},
   "outputs": [],
   "source": []
  },
  {
   "cell_type": "markdown",
   "metadata": {},
   "source": [
    "# 4. MERGE THE DATAFRAMES"
   ]
  },
  {
   "cell_type": "markdown",
   "metadata": {},
   "source": [
    "## 4A. Identify the connecting columns"
   ]
  },
  {
   "cell_type": "code",
   "execution_count": null,
   "metadata": {},
   "outputs": [],
   "source": []
  },
  {
   "cell_type": "code",
   "execution_count": null,
   "metadata": {},
   "outputs": [],
   "source": []
  },
  {
   "cell_type": "markdown",
   "metadata": {},
   "source": [
    "## <p style=\"color:red;\">4B. Manipulate the connecting columns</p>\n",
    "\n",
    "**The code cell below is graded. Do not delete the cell.**"
   ]
  },
  {
   "cell_type": "code",
   "execution_count": 47,
   "metadata": {},
   "outputs": [
    {
     "name": "stderr",
     "output_type": "stream",
     "text": [
      "/Users/caldermyers/opt/anaconda3/lib/python3.7/site-packages/ipykernel_launcher.py:2: SettingWithCopyWarning: \n",
      "A value is trying to be set on a copy of a slice from a DataFrame.\n",
      "Try using .loc[row_indexer,col_indexer] = value instead\n",
      "\n",
      "See the caveats in the documentation: http://pandas.pydata.org/pandas-docs/stable/user_guide/indexing.html#returning-a-view-versus-a-copy\n",
      "  \n",
      "/Users/caldermyers/opt/anaconda3/lib/python3.7/site-packages/ipykernel_launcher.py:3: SettingWithCopyWarning: \n",
      "A value is trying to be set on a copy of a slice from a DataFrame.\n",
      "Try using .loc[row_indexer,col_indexer] = value instead\n",
      "\n",
      "See the caveats in the documentation: http://pandas.pydata.org/pandas-docs/stable/user_guide/indexing.html#returning-a-view-versus-a-copy\n",
      "  This is separate from the ipykernel package so we can avoid doing imports until\n"
     ]
    }
   ],
   "source": [
    "# WRITE YOUR SOLUTION HERE. DO NOT DELETE. THIS CELL IS GRADED.\n",
    "demographics_df[\"customer_id\"] = demographics_df.customer_id.str.replace(\"TCO-\", \"\")\n",
    "demographics_df[\"customer_id\"] = demographics_df.customer_id.str.replace(\"-\", \"\")"
   ]
  },
  {
   "cell_type": "code",
   "execution_count": 48,
   "metadata": {},
   "outputs": [
    {
     "data": {
      "text/plain": [
       "0    8779QRDMV\n",
       "1    7495OOKFY\n",
       "2    1658BYGOY\n",
       "Name: customer_id, dtype: object"
      ]
     },
     "execution_count": 48,
     "metadata": {},
     "output_type": "execute_result"
    }
   ],
   "source": [
    "demographics_df.customer_id[:3]"
   ]
  },
  {
   "cell_type": "markdown",
   "metadata": {},
   "source": [
    "## <p style=\"color:red;\">4C. Join the DataFrames</p>\n",
    "**The code cell below is graded. Do not delete the cell.**"
   ]
  },
  {
   "cell_type": "code",
   "execution_count": null,
   "metadata": {
    "scrolled": false
   },
   "outputs": [],
   "source": [
    "# WRITE YOUR SOLUTION HERE. DO NOT DELETE. THIS CELL IS GRADED.\n"
   ]
  },
  {
   "cell_type": "markdown",
   "metadata": {},
   "source": [
    "# 5. PREPARE TO COMPLETE THE SUMMARY"
   ]
  },
  {
   "cell_type": "markdown",
   "metadata": {},
   "source": [
    "## <p style=\"color:red;\">5A. Calculate customer tenure in days</p>\n",
    "**The code cell below is graded. Do not delete the cell.**"
   ]
  },
  {
   "cell_type": "code",
   "execution_count": null,
   "metadata": {},
   "outputs": [],
   "source": [
    "# WRITE YOUR SOLUTION HERE. DO NOT DELETE. THIS CELL IS GRADED.\n"
   ]
  },
  {
   "cell_type": "markdown",
   "metadata": {},
   "source": [
    "## 5B. Provide a summary of the data \n",
    "**Summarize the data in the markdown cell at the top of this Jupyter Notebook.**"
   ]
  },
  {
   "cell_type": "markdown",
   "metadata": {},
   "source": [
    "## 5C. Add 2-3 inferences you'd like to share with Victor\n",
    "**Add these into the markdown cell at the top of the Jupyter Notebook**"
   ]
  }
 ],
 "metadata": {
  "kernelspec": {
   "display_name": "Python 3",
   "language": "python",
   "name": "python3"
  },
  "language_info": {
   "codemirror_mode": {
    "name": "ipython",
    "version": 3
   },
   "file_extension": ".py",
   "mimetype": "text/x-python",
   "name": "python",
   "nbconvert_exporter": "python",
   "pygments_lexer": "ipython3",
   "version": "3.7.4"
  }
 },
 "nbformat": 4,
 "nbformat_minor": 4
}
