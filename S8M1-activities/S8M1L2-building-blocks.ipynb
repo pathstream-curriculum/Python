{
 "cells": [
  {
   "cell_type": "markdown",
   "metadata": {},
   "source": [
    "## Import pandas and pyplot"
   ]
  },
  {
   "cell_type": "code",
   "execution_count": 1,
   "metadata": {},
   "outputs": [],
   "source": [
    "import pandas as pd\n",
    "import matplotlib.pyplot as plt"
   ]
  },
  {
   "cell_type": "markdown",
   "metadata": {},
   "source": [
    "## Import the data\n",
    "pollution_la_2012_2016.csv"
   ]
  },
  {
   "cell_type": "code",
   "execution_count": 2,
   "metadata": {},
   "outputs": [],
   "source": [
    "pollution_df = pd.read_csv('pollution_la_2012_2016.csv')"
   ]
  },
  {
   "cell_type": "markdown",
   "metadata": {},
   "source": [
    "## View the header\n",
    "You are already very familiar with this dataset so you don't need to investigate it too thoroughly"
   ]
  },
  {
   "cell_type": "code",
   "execution_count": 3,
   "metadata": {},
   "outputs": [
    {
     "data": {
      "text/html": [
       "<div>\n",
       "<style scoped>\n",
       "    .dataframe tbody tr th:only-of-type {\n",
       "        vertical-align: middle;\n",
       "    }\n",
       "\n",
       "    .dataframe tbody tr th {\n",
       "        vertical-align: top;\n",
       "    }\n",
       "\n",
       "    .dataframe thead th {\n",
       "        text-align: right;\n",
       "    }\n",
       "</style>\n",
       "<table border=\"1\" class=\"dataframe\">\n",
       "  <thead>\n",
       "    <tr style=\"text-align: right;\">\n",
       "      <th></th>\n",
       "      <th>ID</th>\n",
       "      <th>Site Num</th>\n",
       "      <th>Date Local</th>\n",
       "      <th>NO2 Units</th>\n",
       "      <th>NO2 MEAN</th>\n",
       "      <th>O3 Units</th>\n",
       "      <th>O3 MEAN</th>\n",
       "    </tr>\n",
       "  </thead>\n",
       "  <tbody>\n",
       "    <tr>\n",
       "      <td>0</td>\n",
       "      <td>2012-1</td>\n",
       "      <td>1103</td>\n",
       "      <td>1/1/2012</td>\n",
       "      <td>Parts per billion</td>\n",
       "      <td>27.682609</td>\n",
       "      <td>Parts per million</td>\n",
       "      <td>0.009833</td>\n",
       "    </tr>\n",
       "    <tr>\n",
       "      <td>1</td>\n",
       "      <td>2012-2</td>\n",
       "      <td>1103</td>\n",
       "      <td>1/1/2012</td>\n",
       "      <td>Parts per billion</td>\n",
       "      <td>27.682609</td>\n",
       "      <td>Parts per million</td>\n",
       "      <td>0.009833</td>\n",
       "    </tr>\n",
       "    <tr>\n",
       "      <td>2</td>\n",
       "      <td>2012-3</td>\n",
       "      <td>1103</td>\n",
       "      <td>1/1/2012</td>\n",
       "      <td>Parts per billion</td>\n",
       "      <td>27.682609</td>\n",
       "      <td>Parts per million</td>\n",
       "      <td>0.009833</td>\n",
       "    </tr>\n",
       "    <tr>\n",
       "      <td>3</td>\n",
       "      <td>2012-4</td>\n",
       "      <td>1103</td>\n",
       "      <td>1/1/2012</td>\n",
       "      <td>Parts per billion</td>\n",
       "      <td>27.682609</td>\n",
       "      <td>Parts per million</td>\n",
       "      <td>0.009833</td>\n",
       "    </tr>\n",
       "    <tr>\n",
       "      <td>4</td>\n",
       "      <td>2012-5</td>\n",
       "      <td>1103</td>\n",
       "      <td>1/1/2012</td>\n",
       "      <td>Parts per billion</td>\n",
       "      <td>27.682609</td>\n",
       "      <td>Parts per million</td>\n",
       "      <td>0.009833</td>\n",
       "    </tr>\n",
       "  </tbody>\n",
       "</table>\n",
       "</div>"
      ],
      "text/plain": [
       "       ID  Site Num Date Local          NO2 Units   NO2 MEAN  \\\n",
       "0  2012-1      1103   1/1/2012  Parts per billion  27.682609   \n",
       "1  2012-2      1103   1/1/2012  Parts per billion  27.682609   \n",
       "2  2012-3      1103   1/1/2012  Parts per billion  27.682609   \n",
       "3  2012-4      1103   1/1/2012  Parts per billion  27.682609   \n",
       "4  2012-5      1103   1/1/2012  Parts per billion  27.682609   \n",
       "\n",
       "            O3 Units   O3 MEAN  \n",
       "0  Parts per million  0.009833  \n",
       "1  Parts per million  0.009833  \n",
       "2  Parts per million  0.009833  \n",
       "3  Parts per million  0.009833  \n",
       "4  Parts per million  0.009833  "
      ]
     },
     "execution_count": 3,
     "metadata": {},
     "output_type": "execute_result"
    }
   ],
   "source": [
    "pollution_df.head()"
   ]
  },
  {
   "cell_type": "markdown",
   "metadata": {},
   "source": [
    "## Create a scatterplot using the OO style\n",
    "with NO2 Units on the x axis and O3 Units on the y-axis"
   ]
  },
  {
   "cell_type": "code",
   "execution_count": 5,
   "metadata": {},
   "outputs": [
    {
     "data": {
      "text/plain": [
       "<matplotlib.collections.PathCollection at 0x7fb51e6a8810>"
      ]
     },
     "execution_count": 5,
     "metadata": {},
     "output_type": "execute_result"
    },
    {
     "data": {
      "image/png": "[encoded data removed]",
      "text/plain": [
       "<Figure size 432x288 with 1 Axes>"
      ]
     },
     "metadata": {
      "needs_background": "light"
     },
     "output_type": "display_data"
    }
   ],
   "source": [
    "fig, ax = plt.subplots()\n",
    "ax.scatter(pollution_df[\"NO2 MEAN\"], pollution_df[\"O3 MEAN\"])"
   ]
  },
  {
   "cell_type": "markdown",
   "metadata": {},
   "source": [
    "## Customize the plot \n",
    "by adding a title, x and y axis labels, and a grid"
   ]
  },
  {
   "cell_type": "code",
   "execution_count": 6,
   "metadata": {},
   "outputs": [
    {
     "data": {
      "text/plain": [
       "Text(0.5, 1.0, 'NO2 and O3 Mean Measurements')"
      ]
     },
     "execution_count": 6,
     "metadata": {},
     "output_type": "execute_result"
    },
    {
     "data": {
      "image/png": "[encoded data removed]",
      "text/plain": [
       "<Figure size 432x288 with 1 Axes>"
      ]
     },
     "metadata": {
      "needs_background": "light"
     },
     "output_type": "display_data"
    }
   ],
   "source": [
    "fig, ax = plt.subplots()\n",
    "ax.scatter(pollution_df[\"NO2 MEAN\"], pollution_df[\"O3 MEAN\"])\n",
    "ax.grid(True)\n",
    "ax.set_xlabel(\"NO2 Mean (parts per billion)\")\n",
    "ax.set_ylabel(\"O3 Mean (parts per billion)\")\n",
    "ax.set_title(\"NO2 and O3 Mean Measurements\")"
   ]
  },
  {
   "cell_type": "code",
   "execution_count": 7,
   "metadata": {},
   "outputs": [
    {
     "data": {
      "text/plain": [
       "Text(0.5, 1.0, 'NO2 and O3 Mean Measurements')"
      ]
     },
     "execution_count": 7,
     "metadata": {},
     "output_type": "execute_result"
    },
    {
     "data": {
      "image/png": "[encoded data removed]",
      "text/plain": [
       "<Figure size 432x288 with 1 Axes>"
      ]
     },
     "metadata": {
      "needs_background": "light"
     },
     "output_type": "display_data"
    }
   ],
   "source": [
    "fig, ax = plt.subplots()\n",
    "ax.grid(True)\n",
    "ax.scatter(pollution_df[\"NO2 MEAN\"], pollution_df[\"O3 MEAN\"])\n",
    "ax.set_xlabel(\"NO2 Mean (parts per billion)\")\n",
    "ax.set_ylabel(\"O3 Mean (parts per billion)\")\n",
    "ax.set_title(\"NO2 and O3 Mean Measurements\")"
   ]
  },
  {
   "cell_type": "code",
   "execution_count": null,
   "metadata": {},
   "outputs": [],
   "source": []
  }
 ],
 "metadata": {
  "kernelspec": {
   "display_name": "Python 3",
   "language": "python",
   "name": "python3"
  },
  "language_info": {
   "codemirror_mode": {
    "name": "ipython",
    "version": 3
   },
   "file_extension": ".py",
   "mimetype": "text/x-python",
   "name": "python",
   "nbconvert_exporter": "python",
   "pygments_lexer": "ipython3",
   "version": "3.7.4"
  }
 },
 "nbformat": 4,
 "nbformat_minor": 2
}
