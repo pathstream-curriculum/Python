{
 "cells": [
  {
   "cell_type": "markdown",
   "metadata": {},
   "source": [
    "## Import pandas and pyplot"
   ]
  },
  {
   "cell_type": "code",
   "execution_count": 1,
   "metadata": {},
   "outputs": [],
   "source": [
    "import pandas as pd\n",
    "import matplotlib.pyplot as plt"
   ]
  },
  {
   "cell_type": "markdown",
   "metadata": {},
   "source": [
    "## Import the data\n",
    "\n",
    "In this activity you will work with data from all four sites for the year 2013\n",
    "\n",
    "filename: 'pollution_ca_2013.csv'\n"
   ]
  },
  {
   "cell_type": "code",
   "execution_count": 7,
   "metadata": {},
   "outputs": [],
   "source": [
    "pollution_df = pd.read_csv('pollution_ca_2013.csv')"
   ]
  },
  {
   "cell_type": "code",
   "execution_count": 8,
   "metadata": {},
   "outputs": [
    {
     "data": {
      "text/html": [
       "<div>\n",
       "<style scoped>\n",
       "    .dataframe tbody tr th:only-of-type {\n",
       "        vertical-align: middle;\n",
       "    }\n",
       "\n",
       "    .dataframe tbody tr th {\n",
       "        vertical-align: top;\n",
       "    }\n",
       "\n",
       "    .dataframe thead th {\n",
       "        text-align: right;\n",
       "    }\n",
       "</style>\n",
       "<table border=\"1\" class=\"dataframe\">\n",
       "  <thead>\n",
       "    <tr style=\"text-align: right;\">\n",
       "      <th></th>\n",
       "      <th>Unnamed: 0</th>\n",
       "      <th>Unnamed: 0.1</th>\n",
       "      <th>Site Num</th>\n",
       "      <th>Address</th>\n",
       "      <th>County</th>\n",
       "      <th>City</th>\n",
       "      <th>Date Local</th>\n",
       "      <th>NO2 Units</th>\n",
       "      <th>NO2 Mean</th>\n",
       "      <th>O3 Units</th>\n",
       "      <th>O3 Mean</th>\n",
       "      <th>SO2 Units</th>\n",
       "      <th>SO2 Mean</th>\n",
       "      <th>CO Units</th>\n",
       "      <th>CO Mean</th>\n",
       "    </tr>\n",
       "  </thead>\n",
       "  <tbody>\n",
       "    <tr>\n",
       "      <td>0</td>\n",
       "      <td>0</td>\n",
       "      <td>2588</td>\n",
       "      <td>1002</td>\n",
       "      <td>228 W. PALM AVE., BURBANK</td>\n",
       "      <td>Los Angeles</td>\n",
       "      <td>Burbank</td>\n",
       "      <td>2013-01-01</td>\n",
       "      <td>Parts per billion</td>\n",
       "      <td>24.454545</td>\n",
       "      <td>Parts per million</td>\n",
       "      <td>0.013292</td>\n",
       "      <td>Parts per billion</td>\n",
       "      <td>0.286364</td>\n",
       "      <td>Parts per million</td>\n",
       "      <td>1.054545</td>\n",
       "    </tr>\n",
       "    <tr>\n",
       "      <td>1</td>\n",
       "      <td>1</td>\n",
       "      <td>2592</td>\n",
       "      <td>1002</td>\n",
       "      <td>228 W. PALM AVE., BURBANK</td>\n",
       "      <td>Los Angeles</td>\n",
       "      <td>Burbank</td>\n",
       "      <td>2013-01-02</td>\n",
       "      <td>Parts per billion</td>\n",
       "      <td>33.217391</td>\n",
       "      <td>Parts per million</td>\n",
       "      <td>0.011292</td>\n",
       "      <td>Parts per billion</td>\n",
       "      <td>0.469565</td>\n",
       "      <td>Parts per million</td>\n",
       "      <td>1.039130</td>\n",
       "    </tr>\n",
       "    <tr>\n",
       "      <td>2</td>\n",
       "      <td>2</td>\n",
       "      <td>2596</td>\n",
       "      <td>1002</td>\n",
       "      <td>228 W. PALM AVE., BURBANK</td>\n",
       "      <td>Los Angeles</td>\n",
       "      <td>Burbank</td>\n",
       "      <td>2013-01-03</td>\n",
       "      <td>Parts per billion</td>\n",
       "      <td>34.239130</td>\n",
       "      <td>Parts per million</td>\n",
       "      <td>0.011292</td>\n",
       "      <td>Parts per billion</td>\n",
       "      <td>0.686957</td>\n",
       "      <td>Parts per million</td>\n",
       "      <td>1.117391</td>\n",
       "    </tr>\n",
       "    <tr>\n",
       "      <td>3</td>\n",
       "      <td>3</td>\n",
       "      <td>2600</td>\n",
       "      <td>1002</td>\n",
       "      <td>228 W. PALM AVE., BURBANK</td>\n",
       "      <td>Los Angeles</td>\n",
       "      <td>Burbank</td>\n",
       "      <td>2013-01-04</td>\n",
       "      <td>Parts per billion</td>\n",
       "      <td>34.931818</td>\n",
       "      <td>Parts per million</td>\n",
       "      <td>0.011583</td>\n",
       "      <td>Parts per billion</td>\n",
       "      <td>0.672727</td>\n",
       "      <td>Parts per million</td>\n",
       "      <td>1.118182</td>\n",
       "    </tr>\n",
       "    <tr>\n",
       "      <td>4</td>\n",
       "      <td>4</td>\n",
       "      <td>2604</td>\n",
       "      <td>1002</td>\n",
       "      <td>228 W. PALM AVE., BURBANK</td>\n",
       "      <td>Los Angeles</td>\n",
       "      <td>Burbank</td>\n",
       "      <td>2013-01-05</td>\n",
       "      <td>Parts per billion</td>\n",
       "      <td>33.339130</td>\n",
       "      <td>Parts per million</td>\n",
       "      <td>0.010417</td>\n",
       "      <td>Parts per billion</td>\n",
       "      <td>0.517391</td>\n",
       "      <td>Parts per million</td>\n",
       "      <td>1.113043</td>\n",
       "    </tr>\n",
       "  </tbody>\n",
       "</table>\n",
       "</div>"
      ],
      "text/plain": [
       "   Unnamed: 0  Unnamed: 0.1  Site Num                    Address       County  \\\n",
       "0           0          2588      1002  228 W. PALM AVE., BURBANK  Los Angeles   \n",
       "1           1          2592      1002  228 W. PALM AVE., BURBANK  Los Angeles   \n",
       "2           2          2596      1002  228 W. PALM AVE., BURBANK  Los Angeles   \n",
       "3           3          2600      1002  228 W. PALM AVE., BURBANK  Los Angeles   \n",
       "4           4          2604      1002  228 W. PALM AVE., BURBANK  Los Angeles   \n",
       "\n",
       "      City  Date Local          NO2 Units   NO2 Mean           O3 Units  \\\n",
       "0  Burbank  2013-01-01  Parts per billion  24.454545  Parts per million   \n",
       "1  Burbank  2013-01-02  Parts per billion  33.217391  Parts per million   \n",
       "2  Burbank  2013-01-03  Parts per billion  34.239130  Parts per million   \n",
       "3  Burbank  2013-01-04  Parts per billion  34.931818  Parts per million   \n",
       "4  Burbank  2013-01-05  Parts per billion  33.339130  Parts per million   \n",
       "\n",
       "    O3 Mean          SO2 Units  SO2 Mean           CO Units   CO Mean  \n",
       "0  0.013292  Parts per billion  0.286364  Parts per million  1.054545  \n",
       "1  0.011292  Parts per billion  0.469565  Parts per million  1.039130  \n",
       "2  0.011292  Parts per billion  0.686957  Parts per million  1.117391  \n",
       "3  0.011583  Parts per billion  0.672727  Parts per million  1.118182  \n",
       "4  0.010417  Parts per billion  0.517391  Parts per million  1.113043  "
      ]
     },
     "execution_count": 8,
     "metadata": {},
     "output_type": "execute_result"
    }
   ],
   "source": [
    "pollution_df.head()"
   ]
  },
  {
   "cell_type": "markdown",
   "metadata": {},
   "source": [
    "## Use matplotlib styles \n",
    "\n",
    "Visit https://matplotlib.org/3.3.1/gallery/style_sheets/style_sheets_reference.html and select two styles that did not appear in the lesson. Create the following plots in both styles:\n",
    "\n",
    "* a bar chart showing the median of the column \"CO Mean\" for each of the different cities\n",
    "* a boxplot showing the distribution of \"O3 Mean\" for site 1002 only\n",
    "\n",
    "\n",
    "Don't forget to label your plots!"
   ]
  },
  {
   "cell_type": "code",
   "execution_count": 16,
   "metadata": {},
   "outputs": [
    {
     "data": {
      "text/plain": [
       "Text(0.5, 1.0, 'Median CO Measurements for all cities')"
      ]
     },
     "execution_count": 16,
     "metadata": {},
     "output_type": "execute_result"
    },
    {
     "data": {
      "image/png": "[encoded data removed]",
      "text/plain": [
       "<Figure size 432x288 with 1 Axes>"
      ]
     },
     "metadata": {
      "needs_background": "light"
     },
     "output_type": "display_data"
    }
   ],
   "source": [
    "plt.style.use('bmh')\n",
    "grouped_df = pollution_df.groupby(\"City\").agg({\"CO Mean\": \"median\"})\n",
    "\n",
    "fig, ax = plt.subplots()\n",
    "ax.bar(grouped_df.index, grouped_df[\"CO Mean\"])\n",
    "ax.set_title(\"Median CO Measurements for all cities\")"
   ]
  },
  {
   "cell_type": "code",
   "execution_count": 20,
   "metadata": {},
   "outputs": [
    {
     "data": {
      "text/plain": [
       "Text(0.5, 1.0, 'Distribution of O3 Mean at Site 1002')"
      ]
     },
     "execution_count": 20,
     "metadata": {},
     "output_type": "execute_result"
    },
    {
     "data": {
      "image/png": "[encoded data removed]",
      "text/plain": [
       "<Figure size 432x288 with 1 Axes>"
      ]
     },
     "metadata": {
      "needs_background": "light"
     },
     "output_type": "display_data"
    }
   ],
   "source": [
    "site_1002_df = pollution_df.loc[pollution_df[\"Site Num\"] == 1002]\n",
    "fig, ax = plt.subplots()\n",
    "ax.boxplot(site_1002_df[\"O3 Mean\"], labels=[\"\"])\n",
    "ax.set_title(\"Distribution of O3 Mean at Site 1002\")"
   ]
  },
  {
   "cell_type": "code",
   "execution_count": 22,
   "metadata": {},
   "outputs": [
    {
     "data": {
      "text/plain": [
       "Text(0.5, 1.0, 'Median CO Measurements for all cities')"
      ]
     },
     "execution_count": 22,
     "metadata": {},
     "output_type": "execute_result"
    },
    {
     "data": {
      "image/png": "[encoded data removed]",
      "text/plain": [
       "<Figure size 432x288 with 1 Axes>"
      ]
     },
     "metadata": {},
     "output_type": "display_data"
    }
   ],
   "source": [
    "plt.style.use('dark_background')\n",
    "\n",
    "plt.style.use('bmh')\n",
    "grouped_df = pollution_df.groupby(\"City\").agg({\"CO Mean\": \"median\"})\n",
    "\n",
    "fig, ax = plt.subplots()\n",
    "ax.bar(grouped_df.index, grouped_df[\"CO Mean\"])\n",
    "ax.set_title(\"Median CO Measurements for all cities\")"
   ]
  },
  {
   "cell_type": "code",
   "execution_count": 23,
   "metadata": {},
   "outputs": [
    {
     "data": {
      "text/plain": [
       "Text(0.5, 1.0, 'Distribution of O3 Mean at Site 1002')"
      ]
     },
     "execution_count": 23,
     "metadata": {},
     "output_type": "execute_result"
    },
    {
     "data": {
      "image/png": "[encoded data removed]",
      "text/plain": [
       "<Figure size 432x288 with 1 Axes>"
      ]
     },
     "metadata": {},
     "output_type": "display_data"
    }
   ],
   "source": [
    "site_1002_df = pollution_df.loc[pollution_df[\"Site Num\"] == 1002]\n",
    "fig, ax = plt.subplots()\n",
    "ax.boxplot(site_1002_df[\"O3 Mean\"], labels=[\"\"])\n",
    "ax.set_title(\"Distribution of O3 Mean at Site 1002\")"
   ]
  },
  {
   "cell_type": "code",
   "execution_count": null,
   "metadata": {},
   "outputs": [],
   "source": []
  }
 ],
 "metadata": {
  "kernelspec": {
   "display_name": "Python 3",
   "language": "python",
   "name": "python3"
  },
  "language_info": {
   "codemirror_mode": {
    "name": "ipython",
    "version": 3
   },
   "file_extension": ".py",
   "mimetype": "text/x-python",
   "name": "python",
   "nbconvert_exporter": "python",
   "pygments_lexer": "ipython3",
   "version": "3.7.4"
  }
 },
 "nbformat": 4,
 "nbformat_minor": 2
}
